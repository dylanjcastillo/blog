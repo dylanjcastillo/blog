{
 "cells": [
  {
   "cell_type": "markdown",
   "metadata": {},
   "source": [
    "---\n",
    "title: \"Is Pydantic making your LLM dumber?\"\n",
    "date: \"09/15/2024\"\n",
    "date-modified: last-modified\n",
    "description-meta: \"Pydantic is a powerful tool for data validation, but can it make your LLM dumber?\"\n",
    "toc: true\n",
    "toc-depth: 3\n",
    "lightbox: true\n",
    "fig-cap-location: margin\n",
    "categories:\n",
    "  - llm\n",
    "  - openai\n",
    "  - pydantic\n",
    "  - python\n",
    "author:\n",
    "  - name: Dylan Castillo\n",
    "    url: https://dylancastillo.co\n",
    "    affiliation: Iwana Labs\n",
    "    affiliation-url: https://iwanalabs.com\n",
    "citation: true\n",
    "comments:\n",
    "  utterances:\n",
    "    repo: dylanjcastillo/blog_comments\n",
    "    theme: dark-blue\n",
    "    issue-term: pathname\n",
    "---"
   ]
  },
  {
   "cell_type": "code",
   "execution_count": 168,
   "metadata": {},
   "outputs": [
    {
     "data": {
      "text/plain": [
       "(88, 14)"
      ]
     },
     "execution_count": 168,
     "metadata": {},
     "output_type": "execute_result"
    }
   ],
   "source": [
    "import pandas as pd\n",
    "\n",
    "from dotenv import load_dotenv\n",
    "from openai import OpenAI\n",
    "\n",
    "load_dotenv()\n",
    "\n",
    "df = pd.read_json(\"../data/live_bench/coding/question.jsonl\", lines=True, orient=\"records\")\n",
    "df = df.query(\"livebench_release_date == '2024-06-24'\")\n",
    "df.shape"
   ]
  },
  {
   "cell_type": "code",
   "execution_count": 169,
   "metadata": {},
   "outputs": [
    {
     "data": {
      "text/plain": [
       "array(['coding_completion', 'LCB_generation'], dtype=object)"
      ]
     },
     "execution_count": 169,
     "metadata": {},
     "output_type": "execute_result"
    }
   ],
   "source": [
    "df.task.unique()"
   ]
  },
  {
   "cell_type": "code",
   "execution_count": 170,
   "metadata": {},
   "outputs": [],
   "source": [
    "# Verify there's a single turn in all rows\n",
    "assert all(len(turns) == 1 for turns in df.turns), \"There should be a single turn in all rows\""
   ]
  },
  {
   "cell_type": "code",
   "execution_count": 171,
   "metadata": {},
   "outputs": [],
   "source": [
    "#| output: false\n",
    "#| echo: false\n",
    "\n",
    "# Extract the full prompt from the turns\n",
    "df[\"prompt\"] = df.turns.apply(lambda x: x[0]).str.strip()\n",
    "\n",
    "# Split prompt by ### and extract the first part\n",
    "df[\"first_message\"] = df.prompt.str.split(\"###\").str[1].str.strip()"
   ]
  },
  {
   "cell_type": "code",
   "execution_count": 172,
   "metadata": {},
   "outputs": [
    {
     "data": {
      "text/html": [
       "<div>\n",
       "<style scoped>\n",
       "    .dataframe tbody tr th:only-of-type {\n",
       "        vertical-align: middle;\n",
       "    }\n",
       "\n",
       "    .dataframe tbody tr th {\n",
       "        vertical-align: top;\n",
       "    }\n",
       "\n",
       "    .dataframe thead th {\n",
       "        text-align: right;\n",
       "    }\n",
       "</style>\n",
       "<table border=\"1\" class=\"dataframe\">\n",
       "  <thead>\n",
       "    <tr style=\"text-align: right;\">\n",
       "      <th></th>\n",
       "      <th>0</th>\n",
       "      <th>38</th>\n",
       "    </tr>\n",
       "  </thead>\n",
       "  <tbody>\n",
       "    <tr>\n",
       "      <th>task</th>\n",
       "      <td>coding_completion</td>\n",
       "      <td>LCB_generation</td>\n",
       "    </tr>\n",
       "    <tr>\n",
       "      <th>first_message</th>\n",
       "      <td>Instructions: You are an expert Python programmer. You will be given a question (problem specification) and the first lines of Python solution to this problem, and will write in Python the remaining lines of the program to produce a correct Python program that matches the specification and passes all tests. You will NOT return anything except for the second part of the program that you wrote.</td>\n",
       "      <td>Instructions: You are an expert Python programmer. You will be given a question (problem specification) and will generate a correct Python program that matches the specification and passes all tests. You will NOT return anything except for the program.</td>\n",
       "    </tr>\n",
       "  </tbody>\n",
       "</table>\n",
       "</div>"
      ],
      "text/plain": [
       "                                                                                                                                                                                                                                                                                                                                                                                                                        0   \\\n",
       "task                                                                                                                                                                                                                                                                                                                                                                                                     coding_completion   \n",
       "first_message  Instructions: You are an expert Python programmer. You will be given a question (problem specification) and the first lines of Python solution to this problem, and will write in Python the remaining lines of the program to produce a correct Python program that matches the specification and passes all tests. You will NOT return anything except for the second part of the program that you wrote.   \n",
       "\n",
       "                                                                                                                                                                                                                                                                         38  \n",
       "task                                                                                                                                                                                                                                                         LCB_generation  \n",
       "first_message  Instructions: You are an expert Python programmer. You will be given a question (problem specification) and will generate a correct Python program that matches the specification and passes all tests. You will NOT return anything except for the program.  "
      ]
     },
     "metadata": {},
     "output_type": "display_data"
    }
   ],
   "source": [
    "#| output: false\n",
    "#| echo: false\n",
    "\n",
    "with pd.option_context('display.max_colwidth', None):\n",
    "    display(df[[\"task\", \"first_message\"]].drop_duplicates().T)"
   ]
  },
  {
   "cell_type": "code",
   "execution_count": 173,
   "metadata": {},
   "outputs": [
    {
     "data": {
      "text/plain": [
       "{'question_title': 'apply-operations-to-maximize-frequency-score',\n",
       " 'question_content': 'You are given a 0-indexed integer array nums and an integer k.\\nYou can perform the following operation on the array at most k times:\\n\\nChoose any index i from the array and increase or decrease nums[i] by 1.\\n\\nThe score of the final array is the frequency of the most frequent element in the array.\\nReturn the maximum score you can achieve.\\nThe frequency of an element is the number of occurences of that element in the array.\\n \\nExample 1:\\n\\nInput: nums = [1,2,6,4], k = 3\\nOutput: 3\\nExplanation: We can do the following operations on the array:\\n- Choose i = 0, and increase the value of nums[0] by 1. The resulting array is [2,2,6,4].\\n- Choose i = 3, and decrease the value of nums[3] by 1. The resulting array is [2,2,6,3].\\n- Choose i = 3, and decrease the value of nums[3] by 1. The resulting array is [2,2,6,2].\\nThe element 2 is the most frequent in the final array so our score is 3.\\nIt can be shown that we cannot achieve a better score.\\n\\nExample 2:\\n\\nInput: nums = [1,4,4,2,4], k = 0\\nOutput: 3\\nExplanation: We cannot apply any operations so our score will be the frequency of the most frequent element in the original array, which is 3.\\n\\n \\nConstraints:\\n\\n1 <= nums.length <= 10^5\\n1 <= nums[i] <= 10^9\\n0 <= k <= 10^14',\n",
       " 'platform': 'leetcode',\n",
       " 'question_id': '3196',\n",
       " 'contest_id': 'weekly-contest-376',\n",
       " 'contest_date': '2023-12-16 00:00:00',\n",
       " 'starter_code': 'class Solution:\\n    def maxFrequencyScore(self, nums: List[int], k: int) -> int:\\n        ',\n",
       " 'difficulty': 'hard',\n",
       " 'metadata': '{\"func_name\": \"maxFrequencyScore\"}'}"
      ]
     },
     "execution_count": 173,
     "metadata": {},
     "output_type": "execute_result"
    }
   ],
   "source": [
    "df[\"original_json\"][0]"
   ]
  },
  {
   "cell_type": "code",
   "execution_count": 174,
   "metadata": {},
   "outputs": [],
   "source": [
    "full_message_coding_completion = \"\"\"\n",
    "### Instructions: You are an expert Python programmer. You will be given a question (problem specification) and the first lines of Python solution to this problem, and will write in Python the remaining lines of the program to produce a correct Python program that matches the specification and passes all tests. You will NOT return anything except for the second part of the program that you wrote.\n",
    "\n",
    "### Question: {question}\n",
    "\n",
    "### Format: You will use the following starter code to write the solution to the problem. \n",
    "\n",
    "```python\n",
    "{starter_code}\n",
    "```\n",
    "\n",
    "Only write the missing portion of the code, not the entire code. Be very careful to match appropiate indentation. Directly appending your code after the partial code should produce a correct completion solution. You will write the answer using the following JSON format:\n",
    "{{ \"answer\": \"<answer>\" }}\n",
    "\"\"\"\n",
    "\n",
    "full_message_LCB_generation = \"\"\"\n",
    "### Instructions: You are an expert Python programmer. You will be given a question (problem specification) and will generate a correct Python program that matches the specification and passes all tests. You will NOT return anything except for the program.\n",
    "\n",
    "### Question: {question}\n",
    "\n",
    "### Format: Read the inputs from stdin solve the problem and write the answer to stdout (do not directly test on the sample inputs). You will write the answer using the following JSON format:\n",
    "{{ \"answer\": \"<answer>\" }}\n",
    "\"\"\".strip()"
   ]
  },
  {
   "cell_type": "code",
   "execution_count": 175,
   "metadata": {},
   "outputs": [],
   "source": [
    "def create_full_message(original_json, question_type):\n",
    "    question = original_json[\"question_content\"]\n",
    "    if question_type == \"coding_completion\":\n",
    "        return full_message_coding_completion.format(question=question, starter_code=original_json[\"starter_code\"])\n",
    "    elif question_type == \"LCB_generation\":\n",
    "        return full_message_LCB_generation.format(question=question)\n",
    "    else:\n",
    "        raise ValueError(f\"Invalid question type: {question_type}\")"
   ]
  },
  {
   "cell_type": "code",
   "execution_count": 176,
   "metadata": {},
   "outputs": [],
   "source": [
    "questions = []\n",
    "for index, row in df.iterrows():\n",
    "    questions.append(create_full_message(row.original_json, row.task))"
   ]
  },
  {
   "cell_type": "code",
   "execution_count": 226,
   "metadata": {},
   "outputs": [],
   "source": [
    "import json\n",
    "\n",
    "client = OpenAI()\n",
    "\n",
    "response = client.chat.completions.create(\n",
    "    model=\"gpt-4o\",\n",
    "    messages=[\n",
    "        {\"role\": \"system\", \"content\": \"You are a helpful assistant.\"},\n",
    "        {\"role\": \"user\", \"content\": questions[0]}\n",
    "    ],\n",
    "    response_format={\"type\": \"json_object\"}\n",
    ")\n",
    "response_data = json.loads(response.choices[0].message.content)"
   ]
  },
  {
   "cell_type": "code",
   "execution_count": 234,
   "metadata": {},
   "outputs": [
    {
     "ename": "NameError",
     "evalue": "name 'List' is not defined",
     "output_type": "error",
     "traceback": [
      "\u001b[0;31m---------------------------------------------------------------------------\u001b[0m",
      "\u001b[0;31mNameError\u001b[0m                                 Traceback (most recent call last)",
      "Cell \u001b[0;32mIn[234], line 7\u001b[0m\n\u001b[1;32m      4\u001b[0m output \u001b[38;5;241m=\u001b[39m \u001b[38;5;28meval\u001b[39m(json\u001b[38;5;241m.\u001b[39mloads(df\u001b[38;5;241m.\u001b[39miloc[question_number]\u001b[38;5;241m.\u001b[39mpublic_test_cases)[\u001b[38;5;241m0\u001b[39m][\u001b[38;5;124m\"\u001b[39m\u001b[38;5;124moutput\u001b[39m\u001b[38;5;124m\"\u001b[39m])\n\u001b[1;32m      5\u001b[0m args \u001b[38;5;241m=\u001b[39m [\u001b[38;5;28meval\u001b[39m(arg) \u001b[38;5;28;01mfor\u001b[39;00m arg \u001b[38;5;129;01min\u001b[39;00m input_args]\n\u001b[0;32m----> 7\u001b[0m \u001b[43mexec\u001b[49m\u001b[43m(\u001b[49m\u001b[43mdf\u001b[49m\u001b[38;5;241;43m.\u001b[39;49m\u001b[43miloc\u001b[49m\u001b[43m[\u001b[49m\u001b[43mquestion_number\u001b[49m\u001b[43m]\u001b[49m\u001b[38;5;241;43m.\u001b[39;49m\u001b[43moriginal_json\u001b[49m\u001b[43m[\u001b[49m\u001b[38;5;124;43m\"\u001b[39;49m\u001b[38;5;124;43mstarter_code\u001b[39;49m\u001b[38;5;124;43m\"\u001b[39;49m\u001b[43m]\u001b[49m\u001b[43m \u001b[49m\u001b[38;5;241;43m+\u001b[39;49m\u001b[43m \u001b[49m\u001b[38;5;124;43m\"\u001b[39;49m\u001b[38;5;130;43;01m\\n\u001b[39;49;00m\u001b[38;5;124;43m\"\u001b[39;49m\u001b[43m \u001b[49m\u001b[38;5;241;43m+\u001b[39;49m\u001b[43m \u001b[49m\u001b[43mresponse_data\u001b[49m\u001b[43m[\u001b[49m\u001b[38;5;124;43m\"\u001b[39;49m\u001b[38;5;124;43manswer\u001b[39;49m\u001b[38;5;124;43m\"\u001b[39;49m\u001b[43m]\u001b[49m\u001b[43m)\u001b[49m\n\u001b[1;32m      9\u001b[0m arg_strs \u001b[38;5;241m=\u001b[39m []\n\u001b[1;32m     10\u001b[0m \u001b[38;5;28;01mfor\u001b[39;00m arg \u001b[38;5;129;01min\u001b[39;00m args:\n",
      "File \u001b[0;32m<string>:1\u001b[0m\n",
      "File \u001b[0;32m<string>:2\u001b[0m, in \u001b[0;36mSolution\u001b[0;34m()\u001b[0m\n",
      "\u001b[0;31mNameError\u001b[0m: name 'List' is not defined"
     ]
    }
   ],
   "source": [
    "question_number = 0\n",
    "func_name = json.loads(df.iloc[question_number].original_json[\"metadata\"])[\"func_name\"]\n",
    "input_args = json.loads(df.iloc[question_number].public_test_cases)[0][\"input\"].split(\"\\n\")\n",
    "output = eval(json.loads(df.iloc[question_number].public_test_cases)[0][\"output\"])\n",
    "args = [eval(arg) for arg in input_args]\n",
    "\n",
    "exec(df.iloc[question_number].original_json[\"starter_code\"] + \"\\n\" + response_data[\"answer\"])\n",
    "\n",
    "arg_strs = []\n",
    "for arg in args:\n",
    "    if isinstance(arg, str):\n",
    "        arg_strs.append(f\"'{arg}'\")\n",
    "    else:\n",
    "        arg_strs.append(str(arg))\n",
    "\n",
    "exec(f\"a = Solution()\\nresult = a.{func_name}({', '.join(arg_strs)})\\nassert result == {output}\")"
   ]
  },
  {
   "cell_type": "code",
   "execution_count": 225,
   "metadata": {},
   "outputs": [
    {
     "data": {
      "text/plain": [
       "'[{\"input\": \"[1, 2, 6, 4]\\\\n3\", \"output\": \"3\", \"testtype\": \"functional\"}, {\"input\": \"[1, 4, 4, 2, 4]\\\\n0\", \"output\": \"3\", \"testtype\": \"functional\"}]'"
      ]
     },
     "execution_count": 225,
     "metadata": {},
     "output_type": "execute_result"
    }
   ],
   "source": [
    "df.iloc[0][\"public_test_cases\"]"
   ]
  }
 ],
 "metadata": {
  "kernelspec": {
   "display_name": ".venv",
   "language": "python",
   "name": "python3"
  },
  "language_info": {
   "codemirror_mode": {
    "name": "ipython",
    "version": 3
   },
   "file_extension": ".py",
   "mimetype": "text/x-python",
   "name": "python",
   "nbconvert_exporter": "python",
   "pygments_lexer": "ipython3",
   "version": "3.10.4"
  }
 },
 "nbformat": 4,
 "nbformat_minor": 2
}
