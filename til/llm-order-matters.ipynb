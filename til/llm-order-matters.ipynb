{
 "cells": [
  {
   "cell_type": "markdown",
   "metadata": {},
   "source": [
    "---\n",
    "title: \"Structured outputs: putting the cart before the horse\"\n",
    "date: \"11/08/2024\"\n",
    "date-modified: last-modified\n",
    "description-meta: \"A common error I've seen people do when using LLMs to generate structured outputs and how to avoid it.\"\n",
    "toc: true\n",
    "toc-depth: 3\n",
    "lightbox: true\n",
    "fig-cap-location: margin\n",
    "categories:\n",
    "  - llm\n",
    "  - openai\n",
    "  - pydantic\n",
    "  - python\n",
    "author:\n",
    "  - name: Dylan Castillo\n",
    "    url: https://dylancastillo.co\n",
    "    affiliation: Iwana Labs\n",
    "    affiliation-url: https://iwanalabs.com\n",
    "citation: true\n",
    "comments:\n",
    "  utterances:\n",
    "    repo: dylanjcastillo/blog_comments\n",
    "    theme: dark-blue\n",
    "    issue-term: pathname\n",
    "---"
   ]
  },
  {
   "cell_type": "code",
   "execution_count": 12,
   "metadata": {},
   "outputs": [],
   "source": [
    "# | output: false\n",
    "# | echo: false\n",
    "\n",
    "import nest_asyncio\n",
    "\n",
    "nest_asyncio.apply()"
   ]
  },
  {
   "cell_type": "code",
   "execution_count": 13,
   "metadata": {},
   "outputs": [],
   "source": [
    "import asyncio\n",
    "from asyncio import Semaphore\n",
    "from datetime import datetime\n",
    "from pathlib import Path\n",
    "\n",
    "import numpy as np\n",
    "import pandas as pd\n",
    "from dotenv import load_dotenv\n",
    "from langsmith import traceable\n",
    "from langsmith.wrappers import wrap_openai\n",
    "from openai import AsyncOpenAI\n",
    "from scipy import stats\n",
    "\n",
    "load_dotenv()\n",
    "\n",
    "client = wrap_openai(AsyncOpenAI())"
   ]
  },
  {
   "cell_type": "code",
   "execution_count": 14,
   "metadata": {},
   "outputs": [],
   "source": [
    "data_dir = Path().absolute().parent / \"data\" / \"live_bench\"\n",
    "reasoning_dir = data_dir / \"reasoning\"\n",
    "live_bench_json = reasoning_dir / \"question.jsonl\"\n",
    "\n",
    "df = (\n",
    "    pd.read_json(live_bench_json, lines=True)\n",
    "    .query(\"livebench_release_date == '2024-07-26'\")\n",
    "    .assign(\n",
    "        turns_str=lambda x: x.turns.str[0], \n",
    "        expects_integer=lambda x: x.turns.str[0].str.contains(\"integer\", case=False)\n",
    "    )\n",
    ")"
   ]
  },
  {
   "cell_type": "code",
   "execution_count": 15,
   "metadata": {},
   "outputs": [],
   "source": [
    "from pydantic import BaseModel\n",
    "\n",
    "class ResponseFormatA(BaseModel):\n",
    "    reasoning: str\n",
    "    answer: str \n",
    "\n",
    "class ResponseFormatB(BaseModel):\n",
    "    answer: str \n",
    "    reasoning: str"
   ]
  },
  {
   "cell_type": "code",
   "execution_count": 16,
   "metadata": {},
   "outputs": [],
   "source": [
    "response_formatting_prompt = (\n",
    "    \"You're a helpful assistant. You will help me answer a question.\"\n",
    "    \"\\n{specific_instructions}\"\n",
    "    \"\\nYou will use this JSON schema for your response:\"\n",
    "    \"\\n{response_format}\"\n",
    ")"
   ]
  },
  {
   "cell_type": "code",
   "execution_count": 17,
   "metadata": {},
   "outputs": [],
   "source": [
    "def create_system_prompt(expects_integer, response_format):\n",
    "    if expects_integer:\n",
    "        specific_instructions = \"Provide your answer as a single integer.\"\n",
    "    else:\n",
    "        specific_instructions = \"Provide your answer as a a bolded string (**).\"\n",
    "    return response_formatting_prompt.format(\n",
    "        specific_instructions=specific_instructions, \n",
    "        response_format=response_format\n",
    "    )\n"
   ]
  },
  {
   "cell_type": "code",
   "execution_count": 19,
   "metadata": {},
   "outputs": [],
   "source": [
    "@traceable\n",
    "async def process_row(\n",
    "    row: pd.Series, \n",
    "    response_format: ResponseFormatA | ResponseFormatB, \n",
    "    semaphore: Semaphore\n",
    ") -> ResponseFormatA | ResponseFormatB:\n",
    "    system_prompt = create_system_prompt(row.expects_integer, response_format.model_json_schema())\n",
    "    async with semaphore:\n",
    "        response = await client.chat.completions.create(\n",
    "            model=\"gpt-4o\",\n",
    "            messages=[\n",
    "                {\"role\": \"system\", \"content\": system_prompt},\n",
    "                {\"role\": \"user\", \"content\": f\"Question:\\n{row.turns_str}\"}\n",
    "            ],\n",
    "            response_format={\"type\": \"json_object\"}\n",
    "        )\n",
    "        response_data = response_format.model_validate_json(\n",
    "            response.choices[0].message.content\n",
    "        )\n",
    "        return response_data\n",
    "\n",
    "async def main(response_format, concurrency: int = 30):\n",
    "    semaphore = Semaphore(concurrency)\n",
    "    tasks = [process_row(row, response_format, semaphore) for _, row in df.iterrows()]\n",
    "    responses = await asyncio.gather(*tasks)\n",
    "\n",
    "    return responses\n",
    "\n",
    "def extract_answer(answer):\n",
    "    return str(answer).strip(\"**\")\n",
    "\n",
    "for rf in [\n",
    "    (\"A\", ResponseFormatA),\n",
    "    (\"B\", ResponseFormatB)\n",
    "]:\n",
    "    responses = asyncio.run(main(rf[1]))\n",
    "    df[f\"raw_answer_{rf[0]}\"] = [r.answer for r in responses]\n",
    "    df[f\"response_{rf[0]}\"] = df.apply(lambda row: extract_answer(row[f\"raw_answer_{rf[0]}\"]), axis=1)\n",
    "    df[f\"is_correct_{rf[0]}\"] = df[f\"response_{rf[0]}\"] == df[\"ground_truth\"]"
   ]
  },
  {
   "cell_type": "code",
   "execution_count": 59,
   "metadata": {},
   "outputs": [
    {
     "name": "stdout",
     "output_type": "stream",
     "text": [
      "Response format A - Mean: 0.420, 95% CI: [0.280, 0.560]\n",
      "Response format B - Mean: 0.240, 95% CI: [0.120, 0.360]\n"
     ]
    }
   ],
   "source": [
    "\n",
    "bootstrap_accuracies_A = []\n",
    "bootstrap_accuracies_B = []\n",
    "for _ in range(10_000):\n",
    "    df_bootstrap = df.sample(frac=1, replace=True)\n",
    "    bootstrap_accuracies_A.append(df_bootstrap['is_correct_A'].mean())\n",
    "    bootstrap_accuracies_B.append(df_bootstrap['is_correct_B'].mean())\n",
    "\n",
    "ci_A = np.percentile(bootstrap_accuracies_A, [2.5, 97.5])\n",
    "ci_B = np.percentile(bootstrap_accuracies_B, [2.5, 97.5])\n",
    "\n",
    "print(f\"Response format A - Mean: {df['is_correct_A'].mean():.3f}, 95% CI: [{ci_A[0]:.3f}, {ci_A[1]:.3f}]\")\n",
    "print(f\"Response format B - Mean: {df['is_correct_B'].mean():.3f}, 95% CI: [{ci_B[0]:.3f}, {ci_B[1]:.3f}]\")"
   ]
  },
  {
   "cell_type": "code",
   "execution_count": 62,
   "metadata": {},
   "outputs": [
    {
     "name": "stdout",
     "output_type": "stream",
     "text": [
      "t-statistic: 2.2718381048200493, p-value: 0.013761289074778684\n"
     ]
    }
   ],
   "source": [
    "df[\"is_correct_A\"] = df[\"is_correct_A\"].astype(int)\n",
    "df[\"is_correct_B\"] = df[\"is_correct_B\"].astype(int)\n",
    "\n",
    "t_stat, p_value = stats.ttest_rel(df[\"is_correct_A\"], df[\"is_correct_B\"], alternative=\"greater\")\n",
    "\n",
    "print(f\"t-statistic: {t_stat}, p-value: {p_value}\")"
   ]
  },
  {
   "cell_type": "code",
   "execution_count": 9,
   "metadata": {},
   "outputs": [],
   "source": [
    "df.to_excel(\n",
    "    data_dir / \"results\" / f\"{datetime.now().strftime('%Y-%m-%d')}_reasoning_results.xlsx\"\n",
    ")"
   ]
  }
 ],
 "metadata": {
  "kernelspec": {
   "display_name": ".venv",
   "language": "python",
   "name": "python3"
  },
  "language_info": {
   "codemirror_mode": {
    "name": "ipython",
    "version": 3
   },
   "file_extension": ".py",
   "mimetype": "text/x-python",
   "name": "python",
   "nbconvert_exporter": "python",
   "pygments_lexer": "ipython3",
   "version": "3.10.4"
  }
 },
 "nbformat": 4,
 "nbformat_minor": 2
}
