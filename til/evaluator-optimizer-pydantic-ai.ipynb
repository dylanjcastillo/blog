{
 "cells": [
  {
   "cell_type": "markdown",
   "id": "9b9ac1d5",
   "metadata": {},
   "source": [
    "---\n",
    "title: \"Evaluator-optimizer workflow with Pydantic AI\"\n",
    "date: 2025-07-09\n",
    "description-meta: \"Using Pydantic AI to build the evaluator-optimizer agentic workflow\"\n",
    "categories:\n",
    "  - til\n",
    "  - llm\n",
    "  - pydantic-ai\n",
    "  - workflows \n",
    "---"
   ]
  },
  {
   "cell_type": "markdown",
   "id": "6b5c3bca",
   "metadata": {},
   "source": [
    "I'm doing a deep dive into Pydantic AI, so I've been re-implementing typical patterns for building [agentic](https://dylancastillo.co/til/react-agent-pydantic-ai.html) [systems](https://dylancastillo.co/posts/agentic-workflows-langgraph.html). \n",
    "\n",
    "In this post, I'll explore how to build a [evaluator-optimizer](https://www.anthropic.com/engineering/building-effective-agents#workflow-evaluator-optimizer) workflow. I won't cover the basics of agentic workflows, so if you're not familiar with the concept, I recommend you to read [this post](https://dylancastillo.co/posts/agentic-workflows-langgraph.html) first.\n",
    "\n",
    "## What is evaluator-optimizer?\n",
    "\n",
    "Evaluator-optimizer is a pattern that has an LLM generator and an LLM evaluator. The generator generates a solution and the evaluator evaluates if the solution is good enough. If it's not, the generator is given feedback and it generates a new solution. This process is repeated until the solution is good enough.\n",
    "\n",
    "It looks like this:\n",
    "\n",
    "```{mermaid}\n",
    "flowchart LR\n",
    "    In([In]) --> Gen[\"Generator (LLM)\"]\n",
    "    Gen -- \"Solution\" --> Eval[\"Evaluator (LLM)\"]\n",
    "    Eval -- \"Accepted\" --> Out([Out])\n",
    "    Eval -- \"Rejected + Feedback\" --> Gen\n",
    "\n",
    "```\n",
    "\n",
    "**Examples:**\n",
    "\n",
    "- Content generation that must match certain guidelines such as writing with a particular style.\n",
    "- Improving search results iteratively\n",
    "\n",
    "Let's see how this looks in practice."
   ]
  },
  {
   "cell_type": "markdown",
   "id": "4ce750c5",
   "metadata": {},
   "source": [
    "## Setup"
   ]
  },
  {
   "cell_type": "markdown",
   "id": "66a10e8e",
   "metadata": {},
   "source": [
    "I will implement a simple workflow:\n",
    "\n",
    "1. Generate a candidate article\n",
    "2. Evaluate if the article is good enough\n",
    "3. If it's not, provide feedback and generate a new article\n",
    "4. Repeat until the article is good enough\n",
    "\n",
    "Before we start, because Pydantic AI uses `asyncio` under the hood, you need to enable `nest_asyncio` to use it in a notebook:"
   ]
  },
  {
   "cell_type": "code",
   "execution_count": 5,
   "id": "2a607486",
   "metadata": {},
   "outputs": [],
   "source": [
    "import nest_asyncio\n",
    "\n",
    "nest_asyncio.apply()"
   ]
  },
  {
   "cell_type": "markdown",
   "id": "d5193cf3",
   "metadata": {},
   "source": [
    "Then, you need to import the required libraries. I'm using **[Logfire](https://logfire.pydantic.dev/)** to monitor the workflow."
   ]
  },
  {
   "cell_type": "code",
   "execution_count": 6,
   "id": "4081c493",
   "metadata": {},
   "outputs": [
    {
     "data": {
      "text/plain": [
       "True"
      ]
     },
     "execution_count": 6,
     "metadata": {},
     "output_type": "execute_result"
    }
   ],
   "source": [
    "import os\n",
    "from typing import Literal\n",
    "\n",
    "import logfire\n",
    "import requests\n",
    "from dotenv import load_dotenv\n",
    "from pydantic_ai import Agent, RunContext\n",
    "from pydantic import BaseModel, Field\n",
    "\n",
    "load_dotenv()"
   ]
  },
  {
   "cell_type": "markdown",
   "id": "c10e5695",
   "metadata": {},
   "source": [
    "**PydanticAI** is compatible with OpenTelemetry (OTel). So it's pretty easy to use it with Logfire or with any other OTel-compatible observability tool (e.g., [Langfuse](https://langfuse.com/)).\n",
    "\n",
    "To enable tracking, create a project in Logfire, generate a `Write token` and add it to the `.env` file. Then, you just need to run: "
   ]
  },
  {
   "cell_type": "code",
   "execution_count": 7,
   "id": "014a1f88",
   "metadata": {},
   "outputs": [],
   "source": [
    "logfire.configure(\n",
    "    token=os.getenv('LOGFIRE_TOKEN'),\n",
    ")\n",
    "logfire.instrument_pydantic_ai()"
   ]
  },
  {
   "cell_type": "markdown",
   "id": "38a02dc0",
   "metadata": {},
   "source": [
    "The first time you run this, it will ask you to create a project in Logfire. From it, it will generate a `logfire_credentials.json` file in your working directory. In following runs, it will automatically use the credentials from the file."
   ]
  },
  {
   "cell_type": "markdown",
   "id": "23c8cc51",
   "metadata": {},
   "source": [
    "## Evaluator-optimizer workflow "
   ]
  },
  {
   "cell_type": "markdown",
   "id": "1edbf064",
   "metadata": {},
   "source": [
    "The workflow is composed of two steps: \n",
    "\n",
    "- `Text generator`: Generates a candidate article.\n",
    "- `Evaluator`: Evaluates if the article is good enough.\n",
    "\n",
    "I'll split the text generation into two agents: `generator` and `fixer`. The `generator` will generate a candidate article and the `fixer` will fix the article, when provided with feedback."
   ]
  },
  {
   "cell_type": "code",
   "execution_count": 8,
   "id": "18ec377f",
   "metadata": {},
   "outputs": [
    {
     "data": {
      "text/html": [
       "<pre style=\"white-space:pre;overflow-x:auto;line-height:normal;font-family:Menlo,'DejaVu Sans Mono',consolas,'Courier New',monospace\"><span style=\"font-weight: bold\">Logfire</span> project URL: <a href=\"https://logfire-us.pydantic.dev/dylanjcastillo/blog\" target=\"_blank\"><span style=\"color: #008080; text-decoration-color: #008080; text-decoration: underline\">https://logfire-us.pydantic.dev/dylanjcastillo/blog</span></a>\n",
       "</pre>\n"
      ],
      "text/plain": [
       "\u001b[1mLogfire\u001b[0m project URL: \u001b]8;id=66680;https://logfire-us.pydantic.dev/dylanjcastillo/blog\u001b\\\u001b[4;36mhttps://logfire-us.pydantic.dev/dylanjcastillo/blog\u001b[0m\u001b]8;;\u001b\\\n"
      ]
     },
     "metadata": {},
     "output_type": "display_data"
    }
   ],
   "source": [
    "generator = Agent(\n",
    "    'openai:gpt-4.1-mini',\n",
    "    system_prompt=(\n",
    "        \"You are an expert writer. Provided with a topic, you will generate an engaging article with less than 500 words\"\n",
    "    ),\n",
    ")\n",
    "\n",
    "fixer = Agent(\n",
    "    'openai:gpt-4.1-mini',\n",
    "    system_prompt=(\n",
    "        \"You are an expert writer. Provided with a text and feedback, you wil improve the text.\"\n",
    "    ),\n",
    ")\n"
   ]
  },
  {
   "cell_type": "markdown",
   "id": "895cfcc2",
   "metadata": {},
   "source": [
    "Next, I'll create the `Evaluator` agent. It will take a text and it will evaluate if it's good enough. It'll produce an `Evaluation` object as the output."
   ]
  },
  {
   "cell_type": "code",
   "execution_count": 9,
   "id": "2dd08409",
   "metadata": {},
   "outputs": [],
   "source": [
    "class Evaluation(BaseModel):\n",
    "    explanation: str = Field(\n",
    "        description=\"Explain why the text evaluated matches or not the evaluation criteria\"\n",
    "    )\n",
    "    feedback: str = Field(\n",
    "        description=\"Provide feedback to the writer to improve the text\"\n",
    "    )\n",
    "    is_correct: bool = Field(\n",
    "        description=\"Whether the text evaluated matches or not the evaluation criteria\"\n",
    "    )\n",
    "\n",
    "evaluator = Agent(\n",
    "    'openai:gpt-4.1-mini',\n",
    "    system_prompt=(\n",
    "        \"You are an expert evaluator. Provided with a text, you will evaluate if it's written in British English and if it's appropriate for a young audience. The text must always use British spelling and grammar. Make sure the text doesn't include any em dashes.\"\n",
    "    ),\n",
    "    output_type=Evaluation,\n",
    ")"
   ]
  },
  {
   "cell_type": "markdown",
   "id": "e1fb7a26",
   "metadata": {},
   "source": [
    "Finally, you can encapsulate all the logic in a single function:"
   ]
  },
  {
   "cell_type": "code",
   "execution_count": 13,
   "id": "97be7efe",
   "metadata": {},
   "outputs": [
    {
     "name": "stdout",
     "output_type": "stream",
     "text": [
      "11:28:25.995 Run workflow\n",
      "11:28:25.995   generator run\n",
      "11:28:25.996     chat gpt-4.1-mini\n",
      "11:28:36.293   evaluator run\n",
      "11:28:36.294     chat gpt-4.1-mini\n"
     ]
    }
   ],
   "source": [
    "@logfire.instrument(\"Run workflow\")\n",
    "def run_workflow(topic: str) -> str:\n",
    "    text = generator.run_sync(f\"Generate an article about '{topic}'\")\n",
    "    evaluation = evaluator.run_sync(f\"Evaluate the following text: {text.output}\")\n",
    "    for _ in range(3):\n",
    "        if not evaluation.output.is_correct:\n",
    "            text = fixer.run_sync(f\"Fix the text: {text.output} with the following feedback: {evaluation.output.feedback}\")\n",
    "            evaluation = evaluator.run_sync(f\"Evaluate the following text: {text.output}\")\n",
    "        else:\n",
    "            return text.output\n",
    "    return text.output\n",
    "\n",
    "output = run_workflow(\"Consumption of hard drugs\")"
   ]
  },
  {
   "cell_type": "markdown",
   "id": "f4c618be",
   "metadata": {},
   "source": [
    "And here's the output:"
   ]
  },
  {
   "cell_type": "code",
   "execution_count": 14,
   "id": "1ee5bd83",
   "metadata": {},
   "outputs": [
    {
     "name": "stdout",
     "output_type": "stream",
     "text": [
      "**The Complex Reality of Hard Drug Consumption**\n",
      "\n",
      "Hard drugs — substances such as heroin, cocaine, methamphetamines, and crack — have long been a subject of concern worldwide due to their profound impact on individuals and society. The consumption of these drugs is not merely a matter of personal choice but a complex issue influenced by social, economic, psychological, and cultural factors.\n",
      "\n",
      "**Understanding Hard Drugs and Their Effects**\n",
      "\n",
      "Hard drugs are characterized by their high potential for addiction and severe physical and psychological effects. Unlike softer substances such as marijuana or alcohol (when consumed responsibly), hard drugs often disrupt brain function dramatically, leading to addiction, mental health disorders, and significant physical health problems. Users may experience paranoia, hallucinations, heart issues, and even fatal overdoses.\n",
      "\n",
      "The allure of hard drugs often stems from their ability to produce intense euphoria or numb emotional pain temporarily. However, this fleeting escape comes at a steep cost. Dependence quickly sets in, making cessation incredibly difficult and often trapping users in a cycle of abuse.\n",
      "\n",
      "**Social and Economic Implications**\n",
      "\n",
      "The ramifications of hard drug consumption ripple beyond the individual. Families endure emotional and financial strain, communities face increased crime rates and reduced public safety, and healthcare systems are burdened with treating overdoses and long-term complications. Moreover, productivity declines as addiction interferes with employment, contributing to broader economic challenges.\n",
      "\n",
      "Many users come from marginalized backgrounds, where poverty, trauma, and lack of education or opportunity make drugs seem like a refuge or an escape. This correlation highlights that addressing drug consumption isn't only a matter of law enforcement but of social equity and support.\n",
      "\n",
      "**Challenges in Addressing Hard Drug Use**\n",
      "\n",
      "Efforts to reduce hard drug consumption have varied widely, from strict punitive measures to harm reduction strategies. While criminalization seeks to deter use, it often leads to overcrowded prisons and can exacerbate social stigma, making it harder for users to seek help. Conversely, approaches like supervised consumption sites, needle exchange programs, and accessible addiction treatment aim to minimize harm and promote recovery.\n",
      "\n",
      "Prevention and education are critical components. Informing communities about the risks of hard drugs and providing mental health support can reduce initial experimentation and help those at risk before addiction takes hold.\n",
      "\n",
      "**Moving Towards Compassionate Solutions**\n",
      "\n",
      "Ultimately, the consumption of hard drugs is a multifaceted issue requiring balanced and compassionate responses. Policymakers, healthcare providers, and communities must work together to create environments that prioritize treatment over punishment, recognize addiction as a health issue, and promote social support.\n",
      "\n",
      "By understanding the complex realities behind hard drug use, society can better address its consequences and help those affected find a path to recovery and hope.\n"
     ]
    }
   ],
   "source": [
    "print(output)"
   ]
  },
  {
   "cell_type": "markdown",
   "id": "9be7735b",
   "metadata": {},
   "source": [
    "That's all!\n",
    "\n",
    "You can access this notebook [here](https://github.com/dylanjcastillo/blog/tree/main/til/prompt-chaining-pydantic-ai.ipynb).\n",
    "\n",
    "If you have any questions or feedback, please let me know in the comments below."
   ]
  }
 ],
 "metadata": {
  "kernelspec": {
   "display_name": ".venv",
   "language": "python",
   "name": "python3"
  },
  "language_info": {
   "codemirror_mode": {
    "name": "ipython",
    "version": 3
   },
   "file_extension": ".py",
   "mimetype": "text/x-python",
   "name": "python",
   "nbconvert_exporter": "python",
   "pygments_lexer": "ipython3",
   "version": "3.13.2"
  }
 },
 "nbformat": 4,
 "nbformat_minor": 5
}
