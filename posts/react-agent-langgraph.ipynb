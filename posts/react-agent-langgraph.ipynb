{
 "cells": [
  {
   "cell_type": "markdown",
   "metadata": {
    "vscode": {
     "languageId": "plaintext"
    }
   },
   "source": [
    "---\n",
    "title: \"Building ReAct agents with (and without) LangGraph\"\n",
    "date: 2025-07-04\n",
    "description-meta: \"How to build ReAct agents from scratch with (and without) LangGraph\"\n",
    "categories:\n",
    "  - llm\n",
    "  - python\n",
    "  - anthropic\n",
    "  - openai\n",
    "  - agents\n",
    "---\n",
    "\n",
    "As Large Language Models (LLMs) have become more powerful, I've started to see increasing interest from clients in building agents.\n",
    "\n",
    "The problem is that most of the use cases clients have in mind for agents are better suited for [agentic workflows](https://dylancastillo.co/posts/agentic-workflows-langgraph.html). Agents are a good fit for tasks without a predefined path and where the order of steps is not known beforehand. Agentic workflows, on the other hand, are the right choice for tasks where both of these things are known. \n",
    "\n",
    "Nonetheless, agents are still a good fit for many use cases, such as coding assistants and support agents. You should definitely spend some time learning about them.\n",
    "\n",
    "In this post, I'll show you how to build a Reasoning and Acting (ReAct) agent with (and without) LangGraph.\n",
    "\n",
    "Let's start by defining some key concepts.\n",
    "\n",
    "## What is an agent?\n",
    "\n",
    "The biggest players in the ecosystem have converged on similar definitions of what constitutes an \"agent.\" [Anthropic](https://www.anthropic.com/engineering/building-effective-agents) describes them as systems where LLMs \"dynamically direct their own processes and tool usage,\" while [OpenAI](https://openai.com/index/new-tools-for-building-agents/) calls them \"systems that independently accomplish tasks on behalf of users.\" [LangChain](https://blog.langchain.com/what-is-an-agent/) similarly defines them as systems using an LLM to \"decide the control flow of an application.\"\n",
    "\n",
    "In essence, agents are systems that can independently make decisions, use tools, take actions, and pursue a goal without direct human guidance. The most well-known agent implementation are *ReAct Agents*. \n",
    "\n",
    "## What's a ReAct agent?\n",
    "\n",
    "[ReAct (Reasoning and Acting) Agents](https://arxiv.org/abs/2210.03629) are AI systems that merge the reasoning of Large Language Models (LLMs) with the ability to perform actions. They follow an iterative \"think, act, observe\" cycle to solve problems and achieve user goals. For example, a ReAct agent would:\n",
    "\n",
    "1. Take a user query.\n",
    "2. Think about the query and decide on an action.\n",
    "3. Execute the action using available tools (environment).\n",
    "4. Analyzes the result of that action (environment).\n",
    "5. Continues the \"Reason, Act, Observe\" loop until it reaches the final answer.\n",
    "\n",
    "Here's a diagram of a ReAct agent:\n",
    "\n",
    "```{mermaid}\n",
    "graph LR\n",
    "    Human <--> LLM[LLM]\n",
    "    LLM -->|Action| Environment\n",
    "    Environment -->|Feedback| LLM\n",
    "    LLM -.-> Stop\n",
    "```\n",
    "\n",
    "\n",
    "The first generation of ReAct agents used a prompt technique of \"Thought, Action, Observation\". Current agents rely on [function-calling](https://dylancastillo.co/posts/function-calling-structured-outputs.html) to implement the \"think, act, observe\" loop.\n",
    "\n",
    "## What is LangGraph?\n",
    "\n",
    "LangGraph is a graph-based framework for building complex LLM applications, designed for stateful workflows. It makes it easier to build complex agent architectures.\n",
    "\n",
    "Graphs are composed of nodes, edges, state, and reducers. Nodes are the units of work (functions, tools) and edges define the paths between nodes. State is persistent data passed between nodes and updated through reducers (functions that define how the state is updated).\n",
    "\n",
    "I like LangGraph because it provides you with easy-to-use components, a simple API, and it lets you visualize your workflow. It also integrates well with LangSmith, a tool for monitoring and debugging LLM applications.\n",
    "\n",
    "In this tutorial, I'll show you how to build a ReAct agent with (and without) LangGraph. I'll also use *LangChain* as a thin wrapper on top of OpenAI models."
   ]
  },
  {
   "cell_type": "markdown",
   "metadata": {},
   "source": [
    "## Prerequisites\n",
    "\n",
    "To follow this tutorial you'll need to:\n",
    "\n",
    "1. Sign up and generate an API key in [OpenAI](https://platform.openai.com/docs/overview).\n",
    "2. Set the API key as an environment variable called `OPENAI_API_KEY`.\n",
    "3. Create a virtual environment in Python and install the requirements:\n",
    "\n",
    "```bash\n",
    "python -m venv venv\n",
    "source venv/bin/activate\n",
    "pip install langchain langchain-openai langchain-community langgraph jupyter\n",
    "```\n",
    "\n",
    "Once you've completed the steps above, you can run the code from this article. You can also download the notebook from [here](https://github.com/dylanjcastillo/blog/tree/main/posts/react-agent-langgraph.ipynb)."
   ]
  },
  {
   "cell_type": "markdown",
   "metadata": {},
   "source": [
    "## Implementation"
   ]
  },
  {
   "cell_type": "markdown",
   "metadata": {
    "vscode": {
     "languageId": "raw"
    }
   },
   "source": [
    "As usual, you must start by importing the necessary libraries and loading the environment variables. You'll use the same model in all the examples, so you'll define it once here: "
   ]
  },
  {
   "cell_type": "code",
   "execution_count": 1,
   "metadata": {},
   "outputs": [],
   "source": [
    "from typing import Literal\n",
    "\n",
    "from dotenv import load_dotenv\n",
    "from IPython.display import Image, display\n",
    "from langchain_core.messages import HumanMessage, SystemMessage, ToolMessage\n",
    "from langchain_core.tools import tool\n",
    "from langchain_openai import ChatOpenAI\n",
    "from langgraph.graph import END, START, MessagesState, StateGraph\n",
    "\n",
    "load_dotenv()\n",
    "\n",
    "model = ChatOpenAI(model=\"gpt-4.1-mini\", temperature=0)"
   ]
  },
  {
   "cell_type": "markdown",
   "metadata": {
    "vscode": {
     "languageId": "raw"
    }
   },
   "source": [
    "This code: \n",
    "\n",
    "1. Imports the necessary libraries. \n",
    "2. Loads environment variables from a `.env` file using `load_dotenv()`. \n",
    "3. Defines a model (`gpt-4.1-mini`) that you'll use in all the examples."
   ]
  },
  {
   "cell_type": "markdown",
   "metadata": {},
   "source": [
    "### Vanilla ReAct agent"
   ]
  },
  {
   "cell_type": "markdown",
   "metadata": {},
   "source": [
    "You'll build an agent that takes a question from a user and has access to a a tool. The tool is a Python REPL that it can use to answer the question. \n",
    "\n",
    "**You should not use this in production**. This tool can run arbitrary Python code on your device, and that's not something you want to expose to random people on the internet.\n",
    "\n",
    "First, let's define the `run_python_code` tool."
   ]
  },
  {
   "cell_type": "code",
   "execution_count": 2,
   "metadata": {},
   "outputs": [],
   "source": [
    "@tool\n",
    "def run_python_code(code: str) -> str:\n",
    "    \"\"\"Run arbitrary Python code including imports, assignments, and statements. Do not use any external libraries. Save your results as a variable.\n",
    "\n",
    "    Args:\n",
    "        code: Python code to run\n",
    "    \"\"\"\n",
    "    import sys\n",
    "    from io import StringIO\n",
    "\n",
    "    old_stdout = sys.stdout\n",
    "    sys.stdout = captured_output = StringIO()\n",
    "\n",
    "    namespace = {}\n",
    "\n",
    "    try:\n",
    "        exec(code, namespace)\n",
    "\n",
    "        output = captured_output.getvalue()\n",
    "\n",
    "        if not output.strip():\n",
    "            user_vars = {\n",
    "                k: v\n",
    "                for k, v in namespace.items()\n",
    "                if not k.startswith(\"__\") and k not in [\"StringIO\", \"sys\"]\n",
    "            }\n",
    "            if user_vars:\n",
    "                if len(user_vars) == 1:\n",
    "                    output = str(list(user_vars.values())[0])\n",
    "                else:\n",
    "                    output = str(user_vars)\n",
    "\n",
    "        return output.strip() if output.strip() else \"Code executed successfully\"\n",
    "\n",
    "    except Exception as e:\n",
    "        return f\"Error: {str(e)}\"\n",
    "    finally:\n",
    "        sys.stdout = old_stdout\n",
    "\n",
    "\n",
    "tools = [run_python_code]\n",
    "tools_mapping = {tool.name: tool for tool in tools}\n",
    "model_with_tools = model.bind_tools(tools)"
   ]
  },
  {
   "cell_type": "markdown",
   "metadata": {},
   "source": [
    "This code defines a tool. In `LangChain` tools are defined as functions decorated with `@tool`. These functions must have a *docstring* because it will be used to describe the tool to the LLM. \n",
    "\n",
    "`run_python_code` is a function that takes a code string and returns the result of executing that code.\n",
    "\n",
    "Next, you provide the model with a mapping of the tool to its name by creating `tools_mapping`. This is often a point of confusion. The LLM doesn't run the tools on its own. It only decides if a tool should be used. Then, your own code must make the actual tool call. \n",
    "\n",
    "The mapping is more useful when there are multiple tools, and not a single tool, like in this case. However, I'm showing it here to illustrate how you'd usually do this in a real-world application.\n",
    "\n",
    "Finally, you _bind_ the tool to the model. The binding makes the model aware of the tool, so that it can use it. \n",
    "\n",
    "Then, let's define a function that encapsulates the logic of the agent."
   ]
  },
  {
   "cell_type": "code",
   "execution_count": 3,
   "metadata": {},
   "outputs": [],
   "source": [
    "def run_agent(question: str):\n",
    "    messages = [\n",
    "        SystemMessage(\n",
    "            \"You're a helpful assistant. Use the tools provided when relevant.\"\n",
    "        ),\n",
    "        HumanMessage(question),\n",
    "    ]\n",
    "    ai_message = model_with_tools.invoke(messages)\n",
    "    messages.append(ai_message)\n",
    "\n",
    "    while ai_message.tool_calls:\n",
    "        for tool_call in ai_message.tool_calls:\n",
    "            selected_tool = tools_mapping[tool_call[\"name\"]]\n",
    "            tool_msg = selected_tool.invoke(tool_call)\n",
    "            messages.append(tool_msg)\n",
    "        ai_message = model_with_tools.invoke(messages)\n",
    "        messages.append(ai_message)\n",
    "\n",
    "    return messages"
   ]
  },
  {
   "cell_type": "markdown",
   "metadata": {},
   "source": [
    "This function takes a question from a user, comes up with a python script, uses `run_python_code` to execute it and returns the result.\n",
    "\n",
    "It works as follows:\n",
    "\n",
    "- **Lines 2 to 9** set up the [prompts](https://dylancastillo.co/posts/prompt-engineering-101.html) and call the assistant. \n",
    "- **Lines 11 to 17** is where the magic happens. This is a loop that will check if there's been a tool call in the response from the model. If there is, it will call (invoke) the tool and add the result to the messages. It will then send the results back to the assistant, and repeat this process until there are no more tool calls.\n",
    "\n",
    "This is the core idea behind how agents work. You provide the assistant with a question and one or more tools. Then you let the assistant decide which tool to use, until it has all the information it needs to answer the question.\n",
    "\n",
    "You can try it out by running the following code:"
   ]
  },
  {
   "cell_type": "code",
   "execution_count": 4,
   "metadata": {},
   "outputs": [
    {
     "name": "stdout",
     "output_type": "stream",
     "text": [
      "================================\u001b[1m System Message \u001b[0m================================\n",
      "\n",
      "You're a helpful assistant. Use the tools provided when relevant.\n",
      "================================\u001b[1m Human Message \u001b[0m=================================\n",
      "\n",
      "Generate 10 random numbers between 1 and 100\n",
      "==================================\u001b[1m Ai Message \u001b[0m==================================\n",
      "Tool Calls:\n",
      "  run_python_code (call_twMJ1JkZK81ofm3842P3jNtb)\n",
      " Call ID: call_twMJ1JkZK81ofm3842P3jNtb\n",
      "  Args:\n",
      "    code: import random\n",
      "random_numbers = [random.randint(1, 100) for _ in range(10)]\n",
      "random_numbers\n",
      "=================================\u001b[1m Tool Message \u001b[0m=================================\n",
      "Name: run_python_code\n",
      "\n",
      "{'random': <module 'random' from '/opt/homebrew/Cellar/python@3.13/3.13.2/Frameworks/Python.framework/Versions/3.13/lib/python3.13/random.py'>, 'random_numbers': [74, 75, 58, 19, 90, 45, 44, 52, 90, 33]}\n",
      "==================================\u001b[1m Ai Message \u001b[0m==================================\n",
      "\n",
      "Here are 10 random numbers between 1 and 100: 74, 75, 58, 19, 90, 45, 44, 52, 90, 33.\n"
     ]
    }
   ],
   "source": [
    "messages = run_agent(\"Generate 10 random numbers between 1 and 100\")\n",
    "\n",
    "for m in messages:\n",
    "    m.pretty_print()"
   ]
  },
  {
   "cell_type": "markdown",
   "metadata": {},
   "source": [
    "You can see that the agent took the user's request, used the `run_python_code` tool to generate the numbers, and then returned the result.\n",
    "\n",
    "Now, let's see how you can build a ReAct agent with LangGraph."
   ]
  },
  {
   "cell_type": "markdown",
   "metadata": {},
   "source": [
    "### LangGraph ReAct agent"
   ]
  },
  {
   "cell_type": "markdown",
   "metadata": {},
   "source": [
    "Like, in the previous example, you start by defining the tools you want to use. You'll use the same `run_python_code` tool."
   ]
  },
  {
   "cell_type": "code",
   "execution_count": 5,
   "metadata": {},
   "outputs": [],
   "source": [
    "@tool\n",
    "def run_python_code(code: str) -> str:\n",
    "    \"\"\"Run arbitrary Python code including imports, assignments, and statements. Do not use any external libraries. Save your results as a variable.\n",
    "\n",
    "    Args:\n",
    "        code: Python code to run\n",
    "    \"\"\"\n",
    "    import sys\n",
    "    from io import StringIO\n",
    "\n",
    "    old_stdout = sys.stdout\n",
    "    sys.stdout = captured_output = StringIO()\n",
    "\n",
    "    namespace = {}\n",
    "\n",
    "    try:\n",
    "        exec(code, namespace)\n",
    "\n",
    "        output = captured_output.getvalue()\n",
    "\n",
    "        if not output.strip():\n",
    "            user_vars = {\n",
    "                k: v\n",
    "                for k, v in namespace.items()\n",
    "                if not k.startswith(\"__\") and k not in [\"StringIO\", \"sys\"]\n",
    "            }\n",
    "            if user_vars:\n",
    "                if len(user_vars) == 1:\n",
    "                    output = str(list(user_vars.values())[0])\n",
    "                else:\n",
    "                    output = str(user_vars)\n",
    "\n",
    "        return output.strip() if output.strip() else \"Code executed successfully\"\n",
    "\n",
    "    except Exception as e:\n",
    "        return f\"Error: {str(e)}\"\n",
    "    finally:\n",
    "        sys.stdout = old_stdout\n",
    "\n",
    "\n",
    "tools = [run_python_code]\n",
    "tools_by_name = {tool.name: tool for tool in tools}\n",
    "model_with_tools = model.bind_tools(tools)"
   ]
  },
  {
   "cell_type": "markdown",
   "metadata": {},
   "source": [
    "With langgraph you also need to you define the tools in the same way: set up the functions, add `@tool`, and create the tool mapping. Then, *bind* the tools to the model.\n",
    "\n",
    "Next, you need to define the functions (nodes) that correspond to the steps the agent will take: "
   ]
  },
  {
   "cell_type": "code",
   "execution_count": 6,
   "metadata": {},
   "outputs": [],
   "source": [
    "def call_llm(state: MessagesState):\n",
    "    messages = [\n",
    "        SystemMessage(content=\"You are a helpful assistant that can run python code.\"),\n",
    "    ] + state[\"messages\"]\n",
    "    return {\"messages\": [model_with_tools.invoke(messages)]}\n",
    "\n",
    "\n",
    "def call_tool(state: MessagesState):\n",
    "    result = []\n",
    "    for tool_call in state[\"messages\"][-1].tool_calls:\n",
    "        tool = tools_by_name[tool_call[\"name\"]]\n",
    "        observation = tool.invoke(tool_call[\"args\"])\n",
    "        result.append(ToolMessage(content=observation, tool_call_id=tool_call[\"id\"]))\n",
    "    return {\"messages\": result}\n",
    "\n",
    "\n",
    "def should_continue(state: MessagesState) -> Literal[\"environment\", END]:\n",
    "    messages = state[\"messages\"]\n",
    "    last_message = messages[-1]\n",
    "    if last_message.tool_calls:\n",
    "        return \"Action\"\n",
    "    return END"
   ]
  },
  {
   "cell_type": "markdown",
   "metadata": {},
   "source": [
    "This is how it works:\n",
    "\n",
    "1. `call_llm`: Sends the conversation history to the LLM to get the next response.\n",
    "2. `call_tool`: If the LLM's response is a request to use a tool, this function executes the tool with the specified arguments.\n",
    "3. `should_continue`: This is the control logic. It checks the LLM's last message. If it's a tool request, it routes to the `call_tool`; otherwise, it ends the conversation.\n",
    "\n",
    "`call_llm` and `call_tool` take `MessagesState` as input and return a the message key with the new message. This updates the `messages` key in the `MessagesState`. `should_continue` takes `MessagesState` act as a router, so it decides if a tool should be executed or if the conversation should end."
   ]
  },
  {
   "cell_type": "code",
   "execution_count": 7,
   "metadata": {},
   "outputs": [],
   "source": [
    "agent_builder = StateGraph(MessagesState)\n",
    "\n",
    "agent_builder.add_node(\"llm\", call_llm)\n",
    "agent_builder.add_node(\"environment\", call_tool)\n",
    "\n",
    "agent_builder.add_edge(START, \"llm\")\n",
    "agent_builder.add_conditional_edges(\n",
    "    \"llm\",\n",
    "    should_continue,\n",
    "    {\n",
    "        \"Action\": \"environment\",\n",
    "        END: END,\n",
    "    },\n",
    ")\n",
    "agent_builder.add_edge(\"environment\", \"llm\")\n",
    "\n",
    "agent = agent_builder.compile()"
   ]
  },
  {
   "cell_type": "markdown",
   "metadata": {},
   "source": [
    "This code sets up the logic of the agent. It starts with a call to the LLM. The LLM then decides whether to use a tool or to finish the task. If it uses a tool, the tool's output is sent back to the LLM for the next step. This \"think-act\" loop continues until the agent decides the task is complete.\n",
    "\n",
    "You can use `LangGraph` to visualize the agent's flow:"
   ]
  },
  {
   "cell_type": "code",
   "execution_count": 8,
   "metadata": {},
   "outputs": [
    {
     "data": {
      "image/png": "[encoded data removed]",
      "text/plain": [
       "<IPython.core.display.Image object>"
      ]
     },
     "metadata": {},
     "output_type": "display_data"
    }
   ],
   "source": [
    "display(Image(agent.get_graph(xray=True).draw_mermaid_png()))"
   ]
  },
  {
   "cell_type": "markdown",
   "metadata": {},
   "source": [
    "Finally, you can run the agent by invoking the graph. For that, you'll need to pass a list of messages to the graph."
   ]
  },
  {
   "cell_type": "code",
   "execution_count": 9,
   "metadata": {},
   "outputs": [],
   "source": [
    "messages = [\n",
    "    SystemMessage(content=\"You are a helpful assistant that can run python code.\"),\n",
    "    HumanMessage(content=\"Generate 10 random numbers between 1 and 100\"),\n",
    "]\n",
    "\n",
    "messages = agent.invoke({\"messages\": messages})"
   ]
  },
  {
   "cell_type": "markdown",
   "metadata": {},
   "source": [
    "You can review the process by printing the messages:"
   ]
  },
  {
   "cell_type": "code",
   "execution_count": 10,
   "metadata": {},
   "outputs": [
    {
     "name": "stdout",
     "output_type": "stream",
     "text": [
      "================================\u001b[1m System Message \u001b[0m================================\n",
      "\n",
      "You are a helpful assistant that can run python code.\n",
      "================================\u001b[1m Human Message \u001b[0m=================================\n",
      "\n",
      "Generate 10 random numbers between 1 and 100\n",
      "==================================\u001b[1m Ai Message \u001b[0m==================================\n",
      "Tool Calls:\n",
      "  run_python_code (call_bsBRC5aL7kgHjeGHXaLR85TC)\n",
      " Call ID: call_bsBRC5aL7kgHjeGHXaLR85TC\n",
      "  Args:\n",
      "    code: import random\n",
      "random_numbers = [random.randint(1, 100) for _ in range(10)]\n",
      "random_numbers\n",
      "=================================\u001b[1m Tool Message \u001b[0m=================================\n",
      "\n",
      "{'random': <module 'random' from '/opt/homebrew/Cellar/python@3.13/3.13.2/Frameworks/Python.framework/Versions/3.13/lib/python3.13/random.py'>, 'random_numbers': [77, 37, 97, 26, 22, 29, 58, 82, 17, 80]}\n",
      "==================================\u001b[1m Ai Message \u001b[0m==================================\n",
      "\n",
      "Here are 10 random numbers between 1 and 100: 77, 37, 97, 26, 22, 29, 58, 82, 17, 80.\n"
     ]
    }
   ],
   "source": [
    "for m in messages[\"messages\"]:\n",
    "    m.pretty_print()"
   ]
  },
  {
   "cell_type": "markdown",
   "metadata": {},
   "source": [
    "That's all!"
   ]
  },
  {
   "cell_type": "markdown",
   "metadata": {},
   "source": [
    "## Conclusion"
   ]
  },
  {
   "cell_type": "markdown",
   "metadata": {},
   "source": [
    "In this tutorial, you've learned what agents are, how they work, and how to build a simple ReAct agent with and without LangGraph. We covered:\n",
    "\n",
    "- **Agent fundamentals**: How agents differ from agentic workflows by dynamically directing their own processes\n",
    "- **ReAct pattern**: The core \"think, act, observe\" loop that enables agents to take actions based on the information they have\n",
    "- **Vanilla and LangGraph implementation**: Understanding how to implement agents with and without LangGraph \n",
    "\n",
    "Agents are great for open-ended tasks where the path isn't predetermined. If you're working on one of those, this article provides a good starting point. On the other hand, for tasks that have predefined steps, consider [agentic workflows](https://dylancastillo.co/posts/agentic-workflows-langgraph.html) instead.\n",
    "\n",
    "Hope you find this tutorial useful. If you have any questions, let me know in the comments below."
   ]
  }
 ],
 "metadata": {
  "kernelspec": {
   "display_name": ".venv",
   "language": "python",
   "name": "python3"
  },
  "language_info": {
   "codemirror_mode": {
    "name": "ipython",
    "version": 3
   },
   "file_extension": ".py",
   "mimetype": "text/x-python",
   "name": "python",
   "nbconvert_exporter": "python",
   "pygments_lexer": "ipython3",
   "version": "3.13.2"
  }
 },
 "nbformat": 4,
 "nbformat_minor": 2
}
