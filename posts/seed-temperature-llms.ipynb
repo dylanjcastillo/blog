{
 "cells": [
  {
   "cell_type": "markdown",
   "metadata": {},
   "source": [
    "---\n",
    "title: \"Controlling randomness in LLMs: Temperature and Seed\"\n",
    "date: \"25/06/2025\"\n",
    "date-modified: last-modified\n",
    "description-meta: \"What are temperature and seed, and how do they affect the output of an LLM?\"\n",
    "toc: true\n",
    "toc-depth: 3\n",
    "lightbox: true\n",
    "fig-cap-location: margin\n",
    "code-line-numbers: true\n",
    "categories:\n",
    "  - llm\n",
    "  - openai\n",
    "  - python\n",
    "author:\n",
    "  - name: Dylan Castillo\n",
    "    url: https://dylancastillo.co\n",
    "    affiliation: Iwana Labs\n",
    "    affiliation-url: https://iwanalabs.com\n",
    "citation: true\n",
    "comments:\n",
    "  utterances:\n",
    "    repo: dylanjcastillo/blog_comments\n",
    "    theme: dark-blue\n",
    "    issue-term: pathname\n",
    "---"
   ]
  },
  {
   "cell_type": "markdown",
   "metadata": {},
   "source": [
    "Temperature and seed are commonly used parameters when interacting with Large Language Models (LLMs). They're also a source of confusion for many people. In this post, I'll show you what they are and how they work.\n",
    "\n",
    "Temperature is a parameter that controls the randomness of the output by scaling the logits of the tokens before applying the softmax function. Seed is also a parameter that controls the randomness of how the model selects tokens during text generation. It sets the initial state of the random number generator, which is then used for the sampling of the tokens during the generation process.\n",
    "\n",
    "Temperature is available for most providers, while seed is only available for [OpenAI](https://openai.com/api/) and open-weight models (that I know of).\n",
    "\n",
    "Let's get started.\n",
    "\n",
    "## How LLMs generate text\n",
    "\n",
    "To understand how seed and temperature work, we first need to understand how LLMs generate text. Provided with a prompt, a model uses what's called a [decoding strategy](https://huggingface.co/docs/transformers/en/generation_strategies) to generate the next token.\n",
    "\n",
    "There are many strategies, but for this post, we'll focus on just two: **greedy search** and **sampling**.\n",
    "\n",
    "In **greedy search**, the model picks the token with the highest probability at each step. In **sampling**, the model picks a token based on the probability distribution of the tokens in the vocabulary. In both cases, the model will calculate the probability of each token in the vocabulary^[Modern LLMs often have a vocabulary of 100k+ tokens], and use that to pick the next token. Let's see an example.\n",
    "\n",
    "Take the following prompt:\n",
    "\n",
    "> What's the favorite dish of Chuck Norris?\n",
    "\n",
    "These might be the top 5 most likely next tokens:\n",
    "\n",
    "| Rank | Token | Probability |\n",
    "|------|-------|-------------|\n",
    "| 1 | 'Dynamite' | 0.5823 |\n",
    "| 2 | 'Venom' | 0.2891 |\n",
    "| 3 | 'Himself' | 0.0788 |\n",
    "| 4 | 'Radiation' | 0.0354 |\n",
    "| 5 | 'You' | 0.0144 |\n",
    "\n",
    "If the model uses **greedy search**, it will pick the token with the highest probability, which is 'Dynamite'. \n",
    "\n",
    "If it uses **sampling**, it will make a random selection based on those probabilities. So, the model has a 58% chance of picking 'Dynamite', a 29% chance of picking 'Venom', a 8% chance of picking 'Himself', a 4% chance of picking 'Radiation', and a 1% chance of picking 'You'.\n",
    "\n",
    "Let's see how this works in practice, and how seed and temperature have an effect on the output. "
   ]
  },
  {
   "cell_type": "markdown",
   "metadata": {},
   "source": [
    "Logits are the raw scores that the model assigns to each token. To go from logits to probabilities, you must apply the softmax function:\n",
    "\n",
    "$$\\text{P}(w_i) = \\text{softmax}(z_i) = \\frac{e^{z_i}}{\\sum_{j=1}^{n} e^{z_j}}$$\n",
    "\n",
    "Where:\n",
    "\n",
    "- $P(w_i)$ is the probability of token $w_i$\n",
    "- $z_i$ is the logit for token $w_i$\n",
    "- $n$ is the total number of possible tokens\n",
    "\n",
    "Logits are the raw output scores from the language model before any transformation. The softmax function gives you the probability assigned to each token."
   ]
  },
  {
   "cell_type": "markdown",
   "metadata": {},
   "source": [
    "## Temperature"
   ]
  },
  {
   "cell_type": "markdown",
   "metadata": {},
   "source": [
    "Temperature is a parameter that usually goes between 0 and 1 or 2, and it's used to influence the randomness of the output. It does so by scaling the logits of the tokens by the temperature value.\n",
    "\n",
    "You cannot know for sure how proprietary providers (OpenAI, Anthropic, etc.) implement temperature, but you can get a good idea of how it works by looking at [`TemperatureLogitWrapper`](https://github.com/huggingface/transformers/blob/6bdd4ec95264e5d8f219cfe4ee29ea9b42474bb7/src/transformers/generation/logits_process.py#L231) in the `transformers` library.\n",
    "\n",
    "It's magic boils down to this:\n",
    "\n",
    "```python\n",
    "scores_processed = scores / self.temperature\n",
    "```\n",
    "\n",
    "Temperature ($T$) simply scales the scores (logits) of the tokens by the temperature value. This, in turn, will change the probabilities of the tokens:\n",
    "\n",
    "$$P(w_i) = \\frac{e^{z_i / T}}{\\sum_{j=1}^{n} e^{z_j / T}}$$\n",
    "\n",
    "The example below shows how temperature affects the probabilities of the tokens:"
   ]
  },
  {
   "cell_type": "code",
   "execution_count": 17,
   "metadata": {},
   "outputs": [
    {
     "name": "stdout",
     "output_type": "stream",
     "text": [
      "\n",
      "Temperature: 0.10\n",
      "What's the favorite dish of Chuck Norris?\n",
      "Rank | Token      | Probability\n",
      "-----|------------|------------\n",
      "   1 | 'Dynamite  ' | 0.9991\n",
      "   2 | 'Venom     ' | 0.0009\n",
      "   3 | 'Himself   ' | 0.0000\n",
      "   4 | 'Radiation ' | 0.0000\n",
      "   5 | 'You       ' | 0.0000\n",
      "Sum of probabilities: 1.0000\n",
      "\n",
      "Temperature: 0.50\n",
      "What's the favorite dish of Chuck Norris?\n",
      "Rank | Token      | Probability\n",
      "-----|------------|------------\n",
      "   1 | 'Dynamite  ' | 0.7879\n",
      "   2 | 'Venom     ' | 0.1943\n",
      "   3 | 'Himself   ' | 0.0144\n",
      "   4 | 'Radiation ' | 0.0029\n",
      "   5 | 'You       ' | 0.0005\n",
      "Sum of probabilities: 1.0000\n",
      "\n",
      "Temperature: 1.00\n",
      "What's the favorite dish of Chuck Norris?\n",
      "Rank | Token      | Probability\n",
      "-----|------------|------------\n",
      "   1 | 'Dynamite  ' | 0.5823\n",
      "   2 | 'Venom     ' | 0.2891\n",
      "   3 | 'Himself   ' | 0.0788\n",
      "   4 | 'Radiation ' | 0.0354\n",
      "   5 | 'You       ' | 0.0144\n",
      "Sum of probabilities: 1.0000\n",
      "\n",
      "Temperature: 1.50\n",
      "What's the favorite dish of Chuck Norris?\n",
      "Rank | Token      | Probability\n",
      "-----|------------|------------\n",
      "   1 | 'Dynamite  ' | 0.4694\n",
      "   2 | 'Venom     ' | 0.2944\n",
      "   3 | 'Himself   ' | 0.1237\n",
      "   4 | 'Radiation ' | 0.0726\n",
      "   5 | 'You       ' | 0.0398\n",
      "Sum of probabilities: 1.0000\n",
      "\n",
      "Temperature: 2.00\n",
      "What's the favorite dish of Chuck Norris?\n",
      "Rank | Token      | Probability\n",
      "-----|------------|------------\n",
      "   1 | 'Dynamite  ' | 0.4038\n",
      "   2 | 'Venom     ' | 0.2846\n",
      "   3 | 'Himself   ' | 0.1486\n",
      "   4 | 'Radiation ' | 0.0996\n",
      "   5 | 'You       ' | 0.0635\n",
      "Sum of probabilities: 1.0000\n"
     ]
    }
   ],
   "source": [
    "#| output: false\n",
    "import numpy as np\n",
    "\n",
    "tokens = ['Dynamite', 'Venom', 'Himself', 'Radiation', 'You']\n",
    "logits = np.array([2.5, 1.8, 0.5, -0.3, -1.2])\n",
    "\n",
    "temperatures = [0.1, 0.5, 1.0, 1.5, 1.999999999]\n",
    "\n",
    "for temperature in temperatures:\n",
    "    probs = np.exp(logits / temperature) / np.sum(np.exp(logits / temperature))\n",
    "    print(f\"\\nTemperature: {temperature:.2f}\")\n",
    "    print(\"What's the favorite dish of Chuck Norris?\")\n",
    "    print(\"Rank | Token      | Probability\")\n",
    "    print(\"-----|------------|------------\")\n",
    "    for i, (token, prob) in enumerate(zip(tokens, probs), 1):\n",
    "        print(f\"{i:4d} | '{token:10s}' | {prob:.4f}\")\n",
    "    print(f\"Sum of probabilities: {np.sum(probs):.4f}\")"
   ]
  },
  {
   "cell_type": "markdown",
   "metadata": {},
   "source": [
    "This code simulates the impact of different temperature values on the next token probability. Given some initial logits and assuming this is the full vocabulary, we can calculate the probabilities of the tokens for a given temperature.\n",
    "\n",
    "For a temperature of **0.1**, you get the following probabilities:\n",
    "\n",
    "Rank | Token      | Probability\n",
    "-----|------------|------------\n",
    "   1 | 'Dynamite  ' | 0.9991\n",
    "   2 | 'Venom     ' | 0.0009\n",
    "   3 | 'Himself   ' | 0.0000\n",
    "   4 | 'Radiation ' | 0.0000\n",
    "   5 | 'You       ' | 0.0000\n",
    "\n",
    "For a temperature of **2**, you get the following probabilities:\n",
    "\n",
    "Rank | Token      | Probability\n",
    "-----|------------|------------\n",
    "   1 | 'Dynamite  ' | 0.4038\n",
    "   2 | 'Venom     ' | 0.2846\n",
    "   3 | 'Himself   ' | 0.1486\n",
    "   4 | 'Radiation ' | 0.0996\n",
    "   5 | 'You       ' | 0.0635\n",
    "\n",
    "You can see that for lower temperature values, the model becomes more deterministic. For temperature 0.1, the probability of picking 'Dynamite' is >99.9%, while for temperature 2, it's only 40%. \n",
    "\n",
    "In essence, temperature impacts the randomness of the output by changing the probabilities of selecting the next token. This should give you a good idea of how temperature works. But let's try it with a real LLM instead of a simulation. \n",
    "\n",
    "First, let's import the required libraries and load the model."
   ]
  },
  {
   "cell_type": "code",
   "execution_count": 18,
   "metadata": {},
   "outputs": [],
   "source": [
    "import numpy as np\n",
    "import torch\n",
    "import torch.nn.functional as F\n",
    "from transformers import AutoModelForCausalLM, AutoTokenizer\n",
    "\n",
    "model_name = \"unsloth/Qwen3-1.7B\"\n",
    "tokenizer = AutoTokenizer.from_pretrained(model_name)\n",
    "model = AutoModelForCausalLM.from_pretrained(\n",
    "    model_name,\n",
    "    torch_dtype=\"auto\",\n",
    "    device_map=\"auto\"\n",
    ")"
   ]
  },
  {
   "cell_type": "markdown",
   "metadata": {},
   "source": [
    "For the sake of this example, we'll use `unsloth/Qwen3-1.7B`. But what you see here is applicable to most LLMs. We'll use `generate_text` as our text generation function."
   ]
  },
  {
   "cell_type": "code",
   "execution_count": 19,
   "metadata": {},
   "outputs": [],
   "source": [
    "def generate_text(prompt, temperature, seed=None, print_top_k=False):\n",
    "    if seed:\n",
    "        torch.manual_seed(seed)\n",
    "        if torch.cuda.is_available():\n",
    "            torch.cuda.manual_seed(seed)\n",
    "\n",
    "    messages = [\n",
    "        {\"role\": \"user\", \"content\": prompt}\n",
    "    ]\n",
    "    text = tokenizer.apply_chat_template(\n",
    "        messages,\n",
    "        tokenize=False,\n",
    "        add_generation_prompt=True,\n",
    "        enable_thinking=False\n",
    "    )\n",
    "    model_inputs = tokenizer([text], return_tensors=\"pt\").to(model.device)\n",
    "\n",
    "    if temperature > 0:\n",
    "        model_params = {\n",
    "            \"do_sample\": True,\n",
    "            \"temperature\": temperature if temperature < 2 else 1.9999999,\n",
    "        }\n",
    "    else:\n",
    "        model_params = {\n",
    "            \"do_sample\": False,\n",
    "        }\n",
    "    outputs = model.generate(\n",
    "        **model_inputs,\n",
    "        **model_params,\n",
    "        max_new_tokens=1,\n",
    "        output_scores=True,\n",
    "        return_dict_in_generate=True,\n",
    "        pad_token_id=tokenizer.eos_token_id\n",
    "    )\n",
    "\n",
    "    output_token_id = outputs.sequences[0][-1].tolist()\n",
    "    selected_token = tokenizer.decode([output_token_id])\n",
    "\n",
    "    if not print_top_k:\n",
    "        return selected_token\n",
    "    \n",
    "    probs = F.softmax(outputs.scores[0][0], dim=-1)\n",
    "    top_k_probs, top_k_indices = torch.topk(probs, 10)\n",
    "\n",
    "    print(\"Top-10 most likely tokens:\")\n",
    "    for i, (prob, idx) in enumerate(zip(top_k_probs, top_k_indices)):\n",
    "        token_text = tokenizer.decode([idx.item()])\n",
    "        is_selected = \"← SELECTED\" if idx.item() == output_token_id else \"\"\n",
    "        print(f\"  {i+1}. '{token_text}' (prob: {prob.item():.4f}, logit: {outputs.scores[0][0][idx.item()].item():.4f}) {is_selected}\")\n",
    "\n",
    "    return selected_token"
   ]
  },
  {
   "cell_type": "markdown",
   "metadata": {},
   "source": [
    "On a high-level, this function takes a prompt, a temperature value, and a seed, and returns the top 10 most likely tokens with their probabilities and logits. The implementation looks a bit complicated, so let's break it down.\n",
    "\n",
    "1. **Lines 2 to 16**: It takes a prompt, a temperature value, and optionally a seed. If a seed is provided, it sets the random number generator to that value. Then, it processes the prompt to create the required input for the model.\n",
    "\n",
    "2. **Lines 18 to 37**: It chooses to sample from the model or not, based on the temperature value. If temperature is 0, the model will use to a greedy search strategy.\n",
    "\n",
    "3. **Lines 39 to 50**: It returns the completion token and optinally prints the top 10 most likely tokens with their probabilities and logits.\n",
    "\n",
    "Similar to what you saw in the previous example, you can try low and high temperature values.\n",
    "\n",
    "This is what you get for a temperature of 0.1:\n"
   ]
  },
  {
   "cell_type": "code",
   "execution_count": 20,
   "metadata": {},
   "outputs": [
    {
     "name": "stdout",
     "output_type": "stream",
     "text": [
      "Top-10 most likely tokens:\n",
      "  1. 'Why' (prob: 1.0000, logit: 330.0000) ← SELECTED\n",
      "  2. '!' (prob: 0.0000, logit: -inf) \n",
      "  3. '\"' (prob: 0.0000, logit: -inf) \n",
      "  4. '#' (prob: 0.0000, logit: -inf) \n",
      "  5. '$' (prob: 0.0000, logit: -inf) \n",
      "  6. '%' (prob: 0.0000, logit: -inf) \n",
      "  7. '&' (prob: 0.0000, logit: -inf) \n",
      "  8. ''' (prob: 0.0000, logit: -inf) \n",
      "  9. '(' (prob: 0.0000, logit: -inf) \n",
      "  10. ')' (prob: 0.0000, logit: -inf) \n"
     ]
    }
   ],
   "source": [
    "token = generate_text(\"Tell me a joke about dogs\", temperature=0.1, print_top_k=True)"
   ]
  },
  {
   "cell_type": "code",
   "execution_count": 21,
   "metadata": {},
   "outputs": [
    {
     "name": "stdout",
     "output_type": "stream",
     "text": [
      "Top-10 most likely tokens:\n",
      "  1. 'Why' (prob: 0.5742, logit: 16.5829) ← SELECTED\n",
      "  2. 'Sure' (prob: 0.3939, logit: 16.2060) \n",
      "  3. 'Here' (prob: 0.0319, logit: 13.6935) \n",
      "  4. '!' (prob: 0.0000, logit: -inf) \n",
      "  5. '\"' (prob: 0.0000, logit: -inf) \n",
      "  6. '#' (prob: 0.0000, logit: -inf) \n",
      "  7. '$' (prob: 0.0000, logit: -inf) \n",
      "  8. '%' (prob: 0.0000, logit: -inf) \n",
      "  9. '&' (prob: 0.0000, logit: -inf) \n",
      "  10. ''' (prob: 0.0000, logit: -inf) \n"
     ]
    }
   ],
   "source": [
    "token = generate_text(\"Tell me a joke about dogs\", temperature=1.99, print_top_k=True)"
   ]
  },
  {
   "cell_type": "markdown",
   "metadata": {},
   "source": [
    "You should see similar results. For the \"Tell me a joke about dogs\" prompt, when using a temperature of 0.1, the model had ~100% probability of picking 'Why', while for temperature 2, it's only 57%.\n",
    "\n",
    "Note, that when temperature is 0, the model will use to a greedy search strategy, which is the same as picking the most likely token. So no sampling is done and results are deterministic."
   ]
  },
  {
   "cell_type": "markdown",
   "metadata": {},
   "source": [
    "## Seed \n",
    "\n"
   ]
  },
  {
   "cell_type": "markdown",
   "metadata": {},
   "source": [
    "The seed parameter controls the randomness of how a model selects tokens. It sets the initial state for the random number generator used in the token sampling process.\n",
    "\n",
    "Let's revisit the example from the previous section to see this in action. By setting the seed to a fixed value, you ensure the generation process is deterministic. This means you will get an identical result on every run, provided all other parameters (like temperature) remain the same in those runs.\n",
    "\n",
    "We can start by setting our seed to 42 and temperature to 1 to verify which token is generated."
   ]
  },
  {
   "cell_type": "code",
   "execution_count": 22,
   "metadata": {},
   "outputs": [
    {
     "name": "stdout",
     "output_type": "stream",
     "text": [
      "Top-10 most likely tokens:\n",
      "  1. 'Why' (prob: 0.6792, logit: 33.0000) \n",
      "  2. 'Sure' (prob: 0.3208, logit: 32.2500) ← SELECTED\n",
      "  3. '!' (prob: 0.0000, logit: -inf) \n",
      "  4. '\"' (prob: 0.0000, logit: -inf) \n",
      "  5. '#' (prob: 0.0000, logit: -inf) \n",
      "  6. '$' (prob: 0.0000, logit: -inf) \n",
      "  7. '%' (prob: 0.0000, logit: -inf) \n",
      "  8. '&' (prob: 0.0000, logit: -inf) \n",
      "  9. ''' (prob: 0.0000, logit: -inf) \n",
      "  10. '(' (prob: 0.0000, logit: -inf) \n"
     ]
    },
    {
     "data": {
      "text/plain": [
       "'Sure'"
      ]
     },
     "execution_count": 22,
     "metadata": {},
     "output_type": "execute_result"
    }
   ],
   "source": [
    "generate_text(\"Tell me a joke about dogs\", temperature=1, seed=42, print_top_k=True)"
   ]
  },
  {
   "cell_type": "markdown",
   "metadata": {},
   "source": [
    "In this case, the model selected \"Sure\" as the next token, even though its probability is lower than 'Why'. Now, we can verify that this stays the same over multiple runs."
   ]
  },
  {
   "cell_type": "code",
   "execution_count": 23,
   "metadata": {},
   "outputs": [
    {
     "name": "stdout",
     "output_type": "stream",
     "text": [
      "{'Sure'}\n"
     ]
    }
   ],
   "source": [
    "tokens = []\n",
    "for i in range(100):\n",
    "    token = generate_text(\"Tell me a joke about dogs\", temperature=1, seed=42)\n",
    "    tokens.append(token)\n",
    "assert len(set(tokens)) == 1\n",
    "print(set(tokens))"
   ]
  },
  {
   "cell_type": "markdown",
   "metadata": {},
   "source": [
    "This code runs the text generation process 100 times and verifies that \"Sure\" was picked in all runs. Next, we should verify that this consistency is lost when we omit the seed parameter."
   ]
  },
  {
   "cell_type": "code",
   "execution_count": 25,
   "metadata": {},
   "outputs": [
    {
     "name": "stdout",
     "output_type": "stream",
     "text": [
      "{'Sure', 'Why'}\n"
     ]
    }
   ],
   "source": [
    "tokens = []\n",
    "for i in range(100):\n",
    "    token = generate_text(\"Tell me a joke about dogs\", temperature=1)\n",
    "    tokens.append(token)\n",
    "assert len(set(tokens)) > 1\n",
    "print(set(tokens))"
   ]
  },
  {
   "cell_type": "markdown",
   "metadata": {},
   "source": [
    "In this case, you see that after the 100 generations, the model picked two different tokens: 'Sure' and 'Why'. This is expected due to not setting a seed.\n",
    "\n",
    "You can also use test this with a propietary model. Let's try it with `gpt-4.1-nano` from OpenAI."
   ]
  },
  {
   "cell_type": "code",
   "execution_count": 30,
   "metadata": {},
   "outputs": [],
   "source": [
    "import openai\n",
    "\n",
    "from dotenv import load_dotenv\n",
    "\n",
    "load_dotenv()\n",
    "\n",
    "client = openai.OpenAI()\n",
    "\n",
    "def generate_text_openai(prompt, temperature, seed=None, print_top_k=False):\n",
    "    response = client.chat.completions.create(\n",
    "        model=\"gpt-4.1-nano\",\n",
    "        messages=[{\"role\": \"user\", \"content\": prompt}],\n",
    "        temperature=temperature,\n",
    "        seed=seed,\n",
    "        max_tokens=1,\n",
    "        logprobs=True,\n",
    "        top_logprobs=10,\n",
    "    )\n",
    "    selected_token = response.choices[0].message.content\n",
    "    if print_top_k:\n",
    "        logprobs = response.choices[0].logprobs.content[0].top_logprobs\n",
    "        print(\"Top 10 most likely tokens:\")\n",
    "        for idx, token_info in enumerate(logprobs):\n",
    "            token = token_info.token\n",
    "            logprob = token_info.logprob\n",
    "            prob = np.round(np.exp(logprob)*100,2)\n",
    "            token_text = f\"{idx+1}. '{token}': {prob:.4f} ({logprob:.4f})\"\n",
    "            is_selected = \"← SELECTED\" if token_info.token == selected_token else \"\"\n",
    "            print(f\"{token_text} {is_selected}\")\n",
    "    return selected_token"
   ]
  },
  {
   "cell_type": "markdown",
   "metadata": {},
   "source": [
    "Similar to the previous function, you provide a prompt, a temperature value, and a seed, and the model will return a completion token and will print the top 10 most likely tokens.\n",
    "\n",
    "In this case, instead of providing you with the logits, OpenAI will provide you with `logprobs` which are the logaritmic probabilities of the tokens:\n",
    "\n",
    "$$logprob(w_i) = ln(P(w_i)) = ln(\\frac{e^{z_i}}{\\sum_{j=1}^{n} e^{z_j}}) $$\n",
    "\n",
    "First, let's check the completion token we get for a temperature of 1 and a seed of 42."
   ]
  },
  {
   "cell_type": "code",
   "execution_count": 31,
   "metadata": {},
   "outputs": [
    {
     "name": "stdout",
     "output_type": "stream",
     "text": [
      "Top 10 most likely tokens:\n",
      "1. 'Why': 59.2600 (-0.5232) ← SELECTED\n",
      "2. 'Sure': 40.7300 (-0.8982) \n",
      "3. ' Why': 0.0000 (-10.6482) \n",
      "4. ' sure': 0.0000 (-11.0232) \n",
      "5. ' why': 0.0000 (-11.2732) \n",
      "6. '为什么': 0.0000 (-11.6482) \n",
      "7. ' Sure': 0.0000 (-11.8982) \n",
      "8. 'Pourquoi': 0.0000 (-12.2732) \n",
      "9. 'why': 0.0000 (-12.3982) \n",
      "10. 'sure': 0.0000 (-12.6482) \n"
     ]
    }
   ],
   "source": [
    "token = generate_text_openai(\"Tell me a joke about dogs\", temperature=1, seed=42, print_top_k=True)"
   ]
  },
  {
   "cell_type": "markdown",
   "metadata": {},
   "source": [
    "In this case, we get 'Why' as the completion token. You can see that the top 10 most likely tokens are not the same as the ones we got with `Qwen3-1.7B`. This is expected, as the model is different.\n",
    "\n",
    "Then, we can try to generate 100 tokens with a temperature of 1 and a seed of 42."
   ]
  },
  {
   "cell_type": "code",
   "execution_count": null,
   "metadata": {},
   "outputs": [
    {
     "name": "stdout",
     "output_type": "stream",
     "text": [
      "{'Why'}\n"
     ]
    }
   ],
   "source": [
    "tokens = []\n",
    "for i in range(100):\n",
    "    token = generate_text_openai(\"Tell me a joke about dogs\", temperature=1, seed=42)\n",
    "    tokens.append(token)\n",
    "assert len(set(tokens)) == 1\n",
    "print(set(tokens))"
   ]
  },
  {
   "cell_type": "markdown",
   "metadata": {},
   "source": [
    "Similar to the previous example, we run 100 generations with the same seed and temperature and check if the completion token is the same.\n",
    "\n",
    "This should *generally* work, but OpenAI doesn't guarantee that the same seed will always produce the same output. It might occur that your request is handled by a model with a [different configuration](https://cookbook.openai.com/examples/reproducible_outputs_with_the_seed_parameter), and you'll get different results.\n",
    "\n",
    "You can also verify that not using a seed will result in different tokens."
   ]
  },
  {
   "cell_type": "code",
   "execution_count": 33,
   "metadata": {},
   "outputs": [
    {
     "name": "stdout",
     "output_type": "stream",
     "text": [
      "{'Sure', 'Why'}\n"
     ]
    }
   ],
   "source": [
    "tokens = []\n",
    "for i in range(100):\n",
    "    token = generate_text_openai(\"Tell me a joke about dogs\", temperature=1)\n",
    "    tokens.append(token)\n",
    "assert len(set(tokens)) > 1\n",
    "print(set(tokens))"
   ]
  },
  {
   "cell_type": "markdown",
   "metadata": {},
   "source": [
    "Now, you can see that the output is not the same in all runs. Some runs picked \"Why\", and others picked \"Sure\".\n",
    "\n",
    "In essence, seed influences the output by setting the initial state of the random number generator, which is then used for the sampling of the tokens during the generation process."
   ]
  },
  {
   "cell_type": "markdown",
   "metadata": {},
   "source": [
    "## `top-k` and `top-p`\n",
    "\n",
    "In addition to temperature, there are two other parameters that are commonly used to control the randomness of the output of a language model: `top-k` and `top-p`.\n",
    "\n",
    "### top-k\n",
    "\n",
    "Top-k sampling is a technique that limits the number of tokens that can be selected from the vocabulary. It does so by keeping only the top-k tokens with the highest probabilities. This reduces the [computational workload](https://huyenchip.com/2024/01/16/sampling.html#top_k) by getting the top-k logits and then calculating the softmax over these instead of using the complete vocabulary.\n",
    "\n",
    "\n",
    "This parameter isn't available for OpenAI models. They provide a `top_logprobs` parameter, but it's not the same as top-k sampling. It's a parameter that returns the top N most likely tokens with their logprobs, but it doesn't change the sampling process.\n",
    "\n",
    "### top-p\n",
    "\n",
    "Top-p sampling is a technique that limits the number of tokens that can be selected from the vocabulary. It does so by keeping only the tokens with the highest probabilities that cumulatively account for at least p% of the total probability mass. So it selects the fewest possible tokens to reach the desired probability mass.\n",
    "\n",
    "This is available for most providers. "
   ]
  },
  {
   "cell_type": "code",
   "execution_count": 51,
   "metadata": {},
   "outputs": [
    {
     "name": "stdout",
     "output_type": "stream",
     "text": [
      "Top 10 most likely tokens:\n",
      "1. 'Why': 59.2600 (-0.5232) ← SELECTED\n",
      "2. 'Sure': 40.7300 (-0.8982) \n",
      "3. ' Why': 0.0000 (-10.6482) \n",
      "4. ' sure': 0.0000 (-11.0232) \n",
      "5. ' why': 0.0000 (-11.2732) \n",
      "6. '为什么': 0.0000 (-11.6482) \n",
      "7. ' Sure': 0.0000 (-11.8982) \n",
      "8. 'Pourquoi': 0.0000 (-12.2732) \n",
      "9. 'why': 0.0000 (-12.3982) \n",
      "10. 'sure': 0.0000 (-12.6482) \n"
     ]
    },
    {
     "data": {
      "text/plain": [
       "'Why'"
      ]
     },
     "execution_count": 51,
     "metadata": {},
     "output_type": "execute_result"
    }
   ],
   "source": [
    "generate_text_openai(\"Tell me a joke about dogs\", top_p=0.50, print_top_k=True)"
   ]
  },
  {
   "cell_type": "markdown",
   "metadata": {},
   "source": [
    "## Seed and temperature in practice\n",
    "\n",
    "Now that you understand how seed and temperature work, here are some things to keep in mind when using them:\n",
    "\n",
    "1. `seed` is only available for `OpenAI` and open-weight models.\n",
    "2. To get the most deterministic output for a given prompt, set temperature to 0. This minimizes randomness.\n",
    "3. If you want creative results that are still reproducible, set temperature to a value greater than 0 and use a fixed seed. This allows for varied outputs that you can generate again.\n",
    "4. If you don't need reproducible results and want unique outputs on every run, you can omit the seed parameter entirely.\n",
    "5. Be aware that even if you set a temperature of 0 and a seed, outputs are not guaranteed to be identical. Providers [might change model configurations](https://platform.openai.com/docs/advanced-usage#reproducible-outputs) that might impact the output. For OpenAI models, you can monitor such changes by keeping track of the [system_fingerprint](https://platform.openai.com/docs/api-reference/backward-compatibility) provided in the responses. "
   ]
  },
  {
   "cell_type": "markdown",
   "metadata": {},
   "source": [
    "## Conclusion\n",
    "\n",
    "In this post, we explored how the temperature and seed parameters control the output of Large Language Models.\n",
    "\n",
    "You learned that temperature adjusts the level of randomness: low values (near 0) produce more predictable, deterministic outputs, while high values (near 1) encourage more creative and varied results. In contrast, the seed makes the generation process reproducible. While the specific seed value isn't important, fixing it ensures you get the same output for a given prompt and set of parameters.\n",
    "\n",
    "Finally, remember that while temperature is a near-universal setting, seed is only available (at the time of writing) for OpenAI and open-weight models.\n",
    "\n",
    "I hope you found this post useful. If you have any questions, let me know in the comments below."
   ]
  }
 ],
 "metadata": {
  "kernelspec": {
   "display_name": ".venv",
   "language": "python",
   "name": "python3"
  },
  "language_info": {
   "codemirror_mode": {
    "name": "ipython",
    "version": 3
   },
   "file_extension": ".py",
   "mimetype": "text/x-python",
   "name": "python",
   "nbconvert_exporter": "python",
   "pygments_lexer": "ipython3",
   "version": "3.10.16"
  }
 },
 "nbformat": 4,
 "nbformat_minor": 2
}
