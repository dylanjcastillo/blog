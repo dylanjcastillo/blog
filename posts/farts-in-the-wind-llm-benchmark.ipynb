{
 "cells": [
  {
   "cell_type": "markdown",
   "metadata": {},
   "source": [
    "---\n",
    "title: \"How many times did Ulysses fart in the Odyssey?\"\n",
    "date: \"01/05/2024\"\n",
    "date-modified: \"2024-07-07\"\n",
    "toc: true\n",
    "toc-depth: 3\n",
    "categories:\n",
    "  - python\n",
    "  - llm\n",
    "author:\n",
    "  - name: Dylan Castillo\n",
    "    url: https://dylancastillo.co\n",
    "    affiliation: Iwana Labs\n",
    "    affiliation-url: https://iwanalabs.com\n",
    "citation: true\n",
    "draft: true\n",
    "---"
   ]
  },
  {
   "cell_type": "markdown",
   "metadata": {},
   "source": [
    "The correct answer is two.\n",
    "\n",
    "Or, at least, that's the answer based on my modified version of the Odyssey."
   ]
  }
 ],
 "metadata": {
  "kernelspec": {
   "display_name": ".venv",
   "language": "python",
   "name": "python3"
  },
  "language_info": {
   "name": "python",
   "version": "3.13.2"
  }
 },
 "nbformat": 4,
 "nbformat_minor": 2
}
