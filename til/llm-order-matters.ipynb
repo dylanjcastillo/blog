{
 "cells": [
  {
   "cell_type": "markdown",
   "metadata": {},
   "source": [
    "---\n",
    "title: \"Structured outputs: putting the cart before the horse\"\n",
    "date: \"11/08/2024\"\n",
    "date-modified: last-modified\n",
    "description-meta: \"A common error I've seen people do when using LLMs to generate structured outputs and how to avoid it.\"\n",
    "toc: true\n",
    "toc-depth: 3\n",
    "lightbox: true\n",
    "fig-cap-location: margin\n",
    "categories:\n",
    "  - llm\n",
    "  - openai\n",
    "  - pydantic\n",
    "  - python\n",
    "author:\n",
    "  - name: Dylan Castillo\n",
    "    url: https://dylancastillo.co\n",
    "    affiliation: Iwana Labs\n",
    "    affiliation-url: https://iwanalabs.com\n",
    "citation: true\n",
    "comments:\n",
    "  utterances:\n",
    "    repo: dylanjcastillo/blog_comments\n",
    "    theme: dark-blue\n",
    "    issue-term: pathname\n",
    "---"
   ]
  },
  {
   "cell_type": "code",
   "execution_count": 1,
   "metadata": {},
   "outputs": [],
   "source": [
    "# | output: false\n",
    "# | echo: false\n",
    "\n",
    "import nest_asyncio\n",
    "\n",
    "nest_asyncio.apply()"
   ]
  },
  {
   "cell_type": "code",
   "execution_count": 2,
   "metadata": {},
   "outputs": [],
   "source": [
    "from pathlib import Path\n",
    "\n",
    "import pandas as pd\n",
    "\n",
    "from dotenv import load_dotenv\n",
    "from openai import AsyncOpenAI\n",
    "\n",
    "load_dotenv()\n",
    "\n",
    "client = AsyncOpenAI()"
   ]
  },
  {
   "cell_type": "code",
   "execution_count": 3,
   "metadata": {},
   "outputs": [],
   "source": [
    "data_dir = Path().absolute().parent / \"data\" / \"live_bench\"\n",
    "reasoning_dir = data_dir / \"reasoning\"\n",
    "live_bench_json = reasoning_dir / \"question.jsonl\"\n",
    "\n",
    "df = (\n",
    "    pd.read_json(live_bench_json, lines=True)\n",
    "    .query(\"livebench_release_date == '2024-07-26'\")\n",
    "    .assign(\n",
    "        turns_str=lambda x: x.turns.str[0], \n",
    "        expects_integer=lambda x: x.turns.str[0].str.contains(\"integer\", case=False)\n",
    "    )\n",
    ")"
   ]
  },
  {
   "cell_type": "code",
   "execution_count": 4,
   "metadata": {},
   "outputs": [],
   "source": [
    "from pydantic import BaseModel\n",
    "\n",
    "class ResponseFormatA(BaseModel):\n",
    "    reasoning: str\n",
    "    answer: int\n",
    "\n",
    "class ResponseFormatB(BaseModel):\n",
    "    answer: int\n",
    "    reasoning: str"
   ]
  },
  {
   "cell_type": "code",
   "execution_count": 5,
   "metadata": {},
   "outputs": [],
   "source": [
    "response_formatting_prompt = \"\"\"You're a helpful assistant. You will help me answer a question.\\n{specific_instructions}\\nYou will always using this JSON schema: \\n{response_format}.\"\"\"\n"
   ]
  },
  {
   "cell_type": "code",
   "execution_count": 6,
   "metadata": {},
   "outputs": [],
   "source": [
    "def create_system_prompt(expects_integer, response_format):\n",
    "    if expects_integer:\n",
    "        specific_instructions = \"Provide your answer as a single integer.\"\n",
    "    else:\n",
    "        specific_instructions = \"Provide your answer as a a bolded string (**).\"\n",
    "    return response_formatting_prompt.format(specific_instructions=specific_instructions, response_format=response_format)\n"
   ]
  },
  {
   "cell_type": "code",
   "execution_count": null,
   "metadata": {},
   "outputs": [],
   "source": [
    "import json\n",
    "import asyncio\n",
    "from asyncio import Semaphore\n",
    "\n",
    "client = AsyncOpenAI()\n",
    "\n",
    "async def process_row(row, response_format, semaphore):\n",
    "    async with semaphore:\n",
    "        response = await client.chat.completions.create(\n",
    "            model=\"gpt-4o\",\n",
    "            messages=[\n",
    "                {\"role\": \"system\", \"content\": create_system_prompt(row.expects_integer, response_format)},\n",
    "                {\"role\": \"user\", \"content\": f\"Question:\\n{row.turns_str}\"}\n",
    "            ],\n",
    "            response_format={\"type\": \"json_object\"}\n",
    "        )\n",
    "        response_data = json.loads(response.choices[0].message.content)\n",
    "        return response_data\n",
    "\n",
    "async def main(response_format):\n",
    "    semaphore = Semaphore(30)\n",
    "    tasks = [process_row(row, response_format, semaphore) for _, row in df.iterrows()]\n",
    "    responses = await asyncio.gather(*tasks)\n",
    "\n",
    "    return responses\n",
    "\n",
    "response_format = ResponseFormatA.model_json_schema()\n",
    "responses = asyncio.run(main(response_format))\n",
    "responses"
   ]
  },
  {
   "cell_type": "code",
   "execution_count": 13,
   "metadata": {},
   "outputs": [],
   "source": [
    "def extract_answer(expects_integer, answer):\n",
    "    if expects_integer:\n",
    "        return str(answer)\n",
    "    else:\n",
    "        return str(answer).strip(\"**\")\n",
    "\n",
    "df[\"raw_answer\"] = [r[\"answer\"] for r in responses]\n",
    "df[\"response\"] = df.apply(lambda row: extract_answer(row.expects_integer, row.raw_answer), axis=1)\n"
   ]
  },
  {
   "cell_type": "code",
   "execution_count": null,
   "metadata": {},
   "outputs": [],
   "source": [
    "df[\"response\"] == df[\"ground_truth\"]"
   ]
  }
 ],
 "metadata": {
  "kernelspec": {
   "display_name": ".venv",
   "language": "python",
   "name": "python3"
  },
  "language_info": {
   "codemirror_mode": {
    "name": "ipython",
    "version": 3
   },
   "file_extension": ".py",
   "mimetype": "text/x-python",
   "name": "python",
   "nbconvert_exporter": "python",
   "pygments_lexer": "ipython3",
   "version": "3.10.4"
  }
 },
 "nbformat": 4,
 "nbformat_minor": 2
}
