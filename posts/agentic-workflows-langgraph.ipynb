{
 "cells": [
  {
   "cell_type": "markdown",
   "metadata": {
    "vscode": {
     "languageId": "plaintext"
    }
   },
   "source": [
    "---\n",
    "title: \"Agentic workflows with LangGraph\"\n",
    "date: 2025-07-02\n",
    "description-meta: \"How to build frequently used agentic workflows with LangGraph\"\n",
    "categories:\n",
    "  - llm\n",
    "  - python\n",
    "  - anthropic\n",
    "  - openai\n",
    "  - agents\n",
    "---\n",
    "\n",
    "Anthropic wrote an amazing blog about this [topic](https://www.anthropic.com/engineering/building-effective-agents), I encourage you to read it. My post is a practical guide that shows you these patterns in action, but the original blog is a great resource for understanding the theory behind it.\n",
    "\n",
    "## What is an agent?\n",
    "\n",
    "The bad news is that there's still no single, universally accepted definition of an AI agent. There are still major gaps between how marketers, engineers, and researchers understand what an agent is. \n",
    "\n",
    "The good news is that over time, model providers have converged on similar definitions:\n",
    "\n",
    "Anthropic calls agents\n",
    "\n",
    "> \"Systems where LLMs dynamically direct their own processes and tool usage, maintaining control over how they accomplish tasks.\"\n",
    ">\n",
    "> [Building Effective Agents](https://www.anthropic.com/engineering/building-effective-agents), Anthropic\n",
    "\n",
    "OpenAI defines agents as\n",
    "\n",
    "> \"Systems that independently accomplish tasks on behalf of users\"\n",
    ">\n",
    "> [New tools for building agents](https://openai.com/index/new-tools-for-building-agents/), OpenAI\n",
    "\n",
    "LangChain calls an agent a\n",
    "\n",
    "> \"system that uses an LLM to decide the control flow of an application.\"\n",
    ">\n",
    "> [What is an agent?](https://blog.langchain.com/what-is-an-agent/), LangChain\n",
    "\n",
    "These definitions share the idea of an autonomous system that can:\n",
    "\n",
    "1. Make decisions\n",
    "2. Use tools\n",
    "3. Take actions\n",
    "4. Accomplish goals without constant human guidance\n",
    "\n",
    "This is a good starting point, as it gives us a clear delimiter as to what an agent is and what it is not. However, this definition leaves out the majority of agentic systems being build by companies right now. These systems are called **agentic workflows**.\n",
    "\n",
    "## What is an agentic workflow?\n",
    "\n",
    "[Agentic workflows](https://www.anthropic.com/engineering/building-effective-agents) are systems where \"LLMs and tools are orchestrated through predefined code paths\". They're different from agents in that they don't have the ability to dynamically direct their own processes and tool usage.\n",
    "\n",
    "Workflows sound less sexy than agents, so you would rarely hear someone say they're building workflows. However, in my experience, most people are (or should be) building workflows.\n",
    "\n",
    "## How to choose between agentic workflows and agents?\n",
    "\n",
    "Choose agents for open-ended tasks where the number and the order of steps is not known beforehand. The LLM will potentially operate for many turns, and you must have some level of trust in its decision-making. \n",
    "\n",
    "For example, a coding assistant is a good candidate for an agent. When you ask it to implement a feature, there's no predefined path the assistant must take to implement it. It might need to create files, add new dependencies, edit existing files, etc. The order of such operations is also unknown.\n",
    "\n",
    "Agentic workflows make sense for tasks where the number and the order of steps is known beforehand. For example, an AI product that compares two versions of documents and summarizes the differences in a report.\n",
    "\n",
    "## What is LangGraph?\n",
    "\n",
    "LangGraph is a graph-based framework for building complex LLM applications, designed for stateful workflows. It enables complex agent architectures with minimal code.\n",
    "\n",
    "It uses a graph-based approach to build agentic systems. The graph is composed of nodes and edges. Nodes are the units of work (functions, tools, models). Edges define the workflow paths between nodes. State is persistent data passed between nodes and updated through reducers.\n",
    "\n",
    "I've built many workflows from scratch, and I've realized that I often end up reinventing the same patterns that frameworks like LangGraph provide. I like LangGraph because it provides you with easy-to-use components, a simple API, and it lets you visualize your workflow. It also integrates well with LangSmith, a tool for monitoring and debugging LLM applications.\n",
    "\n",
    "In this tutorial, I'll show you how to build common agentic workflows with and without LangGraph. I'll use *LangChain* as a thin wrapper on top of OpenAI models."
   ]
  },
  {
   "cell_type": "markdown",
   "metadata": {},
   "source": [
    "## Prerequisites\n",
    "\n",
    "To follow this tutorial you'll need to:\n",
    "\n",
    "1. Sign up and generate an API key in [OpenAI](https://platform.openai.com/docs/overview).\n",
    "2. Set the API key as an environment variable called `OPENAI_API_KEY`.\n",
    "3. Create a virtual environment in Python and install the requirements:\n",
    "\n",
    "```bash\n",
    "python -m venv venv\n",
    "source venv/bin/activate\n",
    "pip install langchain langchain-openai langchain-community langgraph jupyter nest_asyncio\n",
    "```\n",
    "\n",
    "Once you've completed the steps above, you can run the code from this article. You can also download the notebook from [here](https://github.com/dylanjcastillo/blog/tree/main/posts/agentic-workflows-langgraph-pyndantic-ai.ipynb).\n",
    "\n",
    "You also need to apply a small patch to make sure you can run asyncio inside the notebook:"
   ]
  },
  {
   "cell_type": "code",
   "execution_count": 62,
   "metadata": {},
   "outputs": [],
   "source": [
    "import nest_asyncio\n",
    "\n",
    "nest_asyncio.apply()"
   ]
  },
  {
   "cell_type": "markdown",
   "metadata": {},
   "source": [
    "You will use `asyncio` inside the notebook, so you need to install and apply `nest_asyncio`. Otherwise, you'll get a `RuntimeError` when running the code."
   ]
  },
  {
   "cell_type": "markdown",
   "metadata": {},
   "source": [
    "## Workflows"
   ]
  },
  {
   "cell_type": "markdown",
   "metadata": {
    "vscode": {
     "languageId": "raw"
    }
   },
   "source": [
    "As usual, you must start by importing the necessary libraries and loading the environment variables. You'll use the same model in all the examples, so you'll define it once here: "
   ]
  },
  {
   "cell_type": "code",
   "execution_count": 72,
   "metadata": {},
   "outputs": [
    {
     "data": {
      "text/plain": [
       "True"
      ]
     },
     "execution_count": 72,
     "metadata": {},
     "output_type": "execute_result"
    }
   ],
   "source": [
    "# | output: false\n",
    "\n",
    "import asyncio\n",
    "import operator\n",
    "from typing import Literal, Optional, TypedDict\n",
    "\n",
    "from dotenv import load_dotenv\n",
    "from IPython.display import Image, display\n",
    "from langchain_core.messages import HumanMessage, SystemMessage\n",
    "from langchain_openai import ChatOpenAI\n",
    "from langgraph.graph import END, START, StateGraph\n",
    "from langgraph.types import Send\n",
    "from pydantic import BaseModel, Field\n",
    "from typing_extensions import Annotated\n",
    "\n",
    "model = ChatOpenAI(model=\"gpt-4.1-mini\")\n",
    "\n",
    "load_dotenv()"
   ]
  },
  {
   "cell_type": "markdown",
   "metadata": {
    "vscode": {
     "languageId": "raw"
    }
   },
   "source": [
    "This code imports the necessary libraries for building agentic workflows:\n",
    "\n",
    "- **LangChain components**: For working with LLMs, messages, and structured outputs\n",
    "- **LangGraph**: For building stateful workflows with nodes and edges\n",
    "- **Pydantic**: For data validation and structured data models\n",
    "\n",
    "The `load_dotenv()` function loads environment variables from a `.env` file, including your OpenAI API key. You also define model (`gpt-4.1-mini`) that you'll use in all the examples."
   ]
  },
  {
   "cell_type": "markdown",
   "metadata": {},
   "source": [
    "### Prompt chaining\n",
    "\n",
    "This workflow is designed for tasks that can be easily divided into subtasks. The key trade-off is accepting longer completion times (higher latency) in exchange for a higher-quality result.\n",
    "\n",
    "**Examples:**\n",
    "\n",
    "- Generating content in a pipeline by generating table of contents, content, revisions, translations, etc.\n",
    "- Generating a text through a multi-step process to evaluate if it matches certain criteria\n",
    "\n",
    "Now I'll show you how to implement a prompt chaining workflow for generating an article. The workflow will be composed of three steps:\n",
    "\n",
    "1. Generate a table of contents for the article\n",
    "2. Generate the content of the article\n",
    "3. Revise the content of the article if it's too long\n",
    "\n",
    "I'll show you a vanilla implementation and then a LangGraph implementation."
   ]
  },
  {
   "cell_type": "markdown",
   "metadata": {},
   "source": [
    "#### Vanilla (+LangChain)"
   ]
  },
  {
   "cell_type": "markdown",
   "metadata": {},
   "source": [
    "First, you need to define the state of the workflow and a model to use for the LLM. You'll use Pydantic for the state and LangChain for the model."
   ]
  },
  {
   "cell_type": "code",
   "execution_count": 64,
   "metadata": {},
   "outputs": [],
   "source": [
    "class State(BaseModel):\n",
    "    topic: str\n",
    "    table_of_contents: Optional[str] = None\n",
    "    content: Optional[str] = None\n",
    "    revised_content: Optional[str] = None"
   ]
  },
  {
   "cell_type": "markdown",
   "metadata": {},
   "source": [
    "Then, you need to define the functions that will be used in the workflow:"
   ]
  },
  {
   "cell_type": "code",
   "execution_count": 65,
   "metadata": {},
   "outputs": [],
   "source": [
    "def generate_table_of_contents(state: State) -> str:\n",
    "    messages = [\n",
    "        SystemMessage(\n",
    "            content=\"You are an expert writer specialized in SEO. Provided with a topic, you will generate the table of contents for a short article.\"\n",
    "        ),\n",
    "        HumanMessage(\n",
    "            content=f\"Generate the table of contents of an article about {state.topic}\"\n",
    "        ),\n",
    "    ]\n",
    "    return model.invoke(messages).content\n",
    "\n",
    "\n",
    "def generate_article_content(state: State) -> str:\n",
    "    messages = [\n",
    "        SystemMessage(\n",
    "            content=\"You are an expert writer specialized in SEO. Provided with a topic and a table of contents, you will generate the content of the article.\"\n",
    "        ),\n",
    "        HumanMessage(\n",
    "            content=f\"Generate the content of an article about {state.topic} with the following table of contents: {state.table_of_contents}\"\n",
    "        ),\n",
    "    ]\n",
    "    return model.invoke(messages).content\n",
    "\n",
    "\n",
    "def revise_article_content(state: State) -> str:\n",
    "    messages = [\n",
    "        SystemMessage(\n",
    "            content=\"You are an expert writer specialized in SEO. Provided with a topic, a table of contents and a content, you will revise the content of the article to make it less than 1000 characters.\"\n",
    "        ),\n",
    "        HumanMessage(\n",
    "            content=f\"Revise the content of an article about {state.topic} with the following table of contents: {state.table_of_contents} and the following content:\\n\\n{state.content}\"\n",
    "        ),\n",
    "    ]\n",
    "    return model.invoke(messages).content"
   ]
  },
  {
   "cell_type": "markdown",
   "metadata": {},
   "source": [
    "These functions provide the core functionality of the workflow. They follow the steps I outlined above:\n",
    "\n",
    "1. `generate_table_of_contents`: Generate a table of contents for the article\n",
    "2. `generate_article_content`: Generate the content of the article\n",
    "3. `revise_article_content`: Revise the content of the article if it's too long\n",
    "\n",
    "Then we need to orchestrate the workflow. You'll do that by creating a function that takes a topic and returns the final article."
   ]
  },
  {
   "cell_type": "code",
   "execution_count": 66,
   "metadata": {},
   "outputs": [],
   "source": [
    "def run_workflow(topic: str) -> State:\n",
    "    article = State(topic=topic)\n",
    "    article.table_of_contents = generate_table_of_contents(article)\n",
    "    article.content = generate_article_content(article)\n",
    "    if len(article.content) > 1000:\n",
    "        article.revised_content = revise_article_content(article)\n",
    "    return article\n",
    "\n",
    "\n",
    "output = run_workflow(\"Artificial Intelligence\")"
   ]
  },
  {
   "cell_type": "markdown",
   "metadata": {},
   "source": [
    "`run_workflow` takes the topic provided by the user, generates an article, and verifies that it's below 1000 characters. Depending on the result, it will revise the article or not. Finally, it returns the state that contains all the results from the workflow (the table of contents, the content, and the revised content)."
   ]
  },
  {
   "cell_type": "markdown",
   "metadata": {},
   "source": [
    "#### LangGraph"
   ]
  },
  {
   "cell_type": "markdown",
   "metadata": {},
   "source": [
    "Now let's see how to implement the same workflow using LangGraph. You will noticed two key differences compared to the vanilla implementation.\n",
    "\n",
    "Similar to the vanilla implementation, you'll start by initializing the state class:"
   ]
  },
  {
   "cell_type": "code",
   "execution_count": 44,
   "metadata": {},
   "outputs": [],
   "source": [
    "class State(BaseModel):\n",
    "    topic: str\n",
    "    table_of_contents: Optional[str] = None\n",
    "    content: Optional[str] = None\n",
    "    revised_content: Optional[str] = None"
   ]
  },
  {
   "cell_type": "markdown",
   "metadata": {},
   "source": [
    "Using a Pydantic model to manage your state in LangGraph (as opposed to a `TypedDict`) has a few downsides you should know about.\n",
    "\n",
    "First, data types are only checked when they enter a node, not when they exit. This means you could accidentally save data of the wrong type to your state. Second, the final output of the entire graph will be a dictionary, not your Pydantic model. For more details, check out the [LangGraph documentation](https://langchain-ai.github.io/langgraph/how-tos/graph-api/#use-pydantic-models-for-graph-state).\n",
    "\n",
    "\n",
    "Then, you'll define the nodes (functions) that will be used in the workflow."
   ]
  },
  {
   "cell_type": "code",
   "execution_count": 45,
   "metadata": {},
   "outputs": [],
   "source": [
    "def generate_table_of_contents(state: State) -> dict:\n",
    "    messages = [\n",
    "        SystemMessage(\n",
    "            content=\"You are an expert writer specialized in SEO. Provided with a topic, you will generate the table of contents for a short article.\"\n",
    "        ),\n",
    "        HumanMessage(\n",
    "            content=f\"Generate the table of contents of an article about {state.topic}\"\n",
    "        ),\n",
    "    ]\n",
    "    return {\"table_of_contents\": model.invoke(messages).content}\n",
    "\n",
    "\n",
    "def generate_article_content(state: State) -> str:\n",
    "    messages = [\n",
    "        SystemMessage(\n",
    "            content=\"You are an expert writer specialized in SEO. Provided with a topic and a table of contents, you will generate the content of the article.\"\n",
    "        ),\n",
    "        HumanMessage(\n",
    "            content=f\"Generate the content of an article about {state.topic} with the following table of contents: {state.table_of_contents}\"\n",
    "        ),\n",
    "    ]\n",
    "    return {\"content\": model.invoke(messages).content}\n",
    "\n",
    "\n",
    "def check_article_content(state: State) -> str:\n",
    "    if len(state.content) > 1000:\n",
    "        return \"Fail\"\n",
    "    return \"Pass\"\n",
    "\n",
    "\n",
    "def revise_article_content(state: State) -> str:\n",
    "    messages = [\n",
    "        SystemMessage(\n",
    "            content=\"You are an expert writer specialized in SEO. Provided with a topic, a table of contents and a content, you will revise the content of the article to make it less than 1000 characters.\"\n",
    "        ),\n",
    "        HumanMessage(\n",
    "            content=f\"Revise the content of an article about {state.topic} with the following table of contents: {state.table_of_contents} and the following content:\\n\\n{state.content}\"\n",
    "        ),\n",
    "    ]\n",
    "    return {\"revised_content\": model.invoke(messages).content}"
   ]
  },
  {
   "cell_type": "markdown",
   "metadata": {},
   "source": [
    "You'll noticed that the functions are quite similar to the vanilla implementation. The only difference is that they return dictionaries that automatically update the state rather than you having to do it manually.\n",
    "\n",
    "Then you need to specify the nodes and edges of the workflow:"
   ]
  },
  {
   "cell_type": "code",
   "execution_count": 46,
   "metadata": {},
   "outputs": [],
   "source": [
    "workflow_builder = StateGraph(State)\n",
    "\n",
    "workflow_builder.add_node(\"generate_table_of_contents\", generate_table_of_contents)\n",
    "workflow_builder.add_node(\"generate_article_content\", generate_article_content)\n",
    "workflow_builder.add_node(\"revise_article_content\", revise_article_content)\n",
    "\n",
    "workflow_builder.add_edge(START, \"generate_table_of_contents\")\n",
    "workflow_builder.add_edge(\"generate_table_of_contents\", \"generate_article_content\")\n",
    "workflow_builder.add_conditional_edges(\n",
    "    source=\"generate_article_content\",\n",
    "    path=check_article_content,\n",
    "    path_map={\"Fail\": \"revise_article_content\", \"Pass\": END},\n",
    ")\n",
    "workflow_builder.add_edge(\"revise_article_content\", END)\n",
    "\n",
    "workflow = workflow_builder.compile()"
   ]
  },
  {
   "cell_type": "markdown",
   "metadata": {},
   "source": [
    "You initialize a `StateGraph` object, which is a builder for the workflow. Then you add nodes to the graph, and define the edges between them. The nodes in the graphs are the functions that you defined earlier. In the conditional edge, you can define the path that the workflow will take based on the state of the workflow.\n",
    "\n",
    "The `compile` method is used to compile the graph into a callable workflow.\n",
    "\n",
    "Finally, LangGraph has a nice feature that allows you to visualize the workflow. You can use the `get_graph` and `draw_mermaid_png` for that:"
   ]
  },
  {
   "cell_type": "code",
   "execution_count": 47,
   "metadata": {},
   "outputs": [
    {
     "data": {
      "image/png": "[encoded data removed]",
      "text/plain": [
       "<IPython.core.display.Image object>"
      ]
     },
     "metadata": {},
     "output_type": "display_data"
    }
   ],
   "source": [
    "display(Image(workflow.get_graph().draw_mermaid_png()))"
   ]
  },
  {
   "cell_type": "markdown",
   "metadata": {},
   "source": [
    "Finally, you can run the workflow by calling the `invoke` method on the compiled workflow and provide the initial state."
   ]
  },
  {
   "cell_type": "code",
   "execution_count": 48,
   "metadata": {},
   "outputs": [],
   "source": [
    "article = workflow.invoke({\"topic\": \"Artificial Intelligence\"})"
   ]
  },
  {
   "cell_type": "markdown",
   "metadata": {},
   "source": [
    "And you'll get the following output:"
   ]
  },
  {
   "cell_type": "code",
   "execution_count": 49,
   "metadata": {},
   "outputs": [
    {
     "data": {
      "text/plain": [
       "{'topic': 'Artificial Intelligence',\n",
       " 'table_of_contents': 'Table of Contents\\n\\n1. Introduction to Artificial Intelligence  \\n2. History and Evolution of AI  \\n3. Types of Artificial Intelligence  \\n   3.1 Narrow AI  \\n   3.2 General AI  \\n   3.3 Superintelligent AI  \\n4. Key Technologies Behind AI  \\n   4.1 Machine Learning  \\n   4.2 Deep Learning  \\n   4.3 Natural Language Processing  \\n5. Applications of Artificial Intelligence  \\n   5.1 Healthcare  \\n   5.2 Finance  \\n   5.3 Autonomous Vehicles  \\n   5.4 Customer Service  \\n6. Benefits and Challenges of AI  \\n7. Ethical Considerations in AI Development  \\n8. The Future of Artificial Intelligence  \\n9. Conclusion',\n",
       " 'content': \"# Artificial Intelligence: Revolutionizing the Future\\n\\n## 1. Introduction to Artificial Intelligence\\n\\nArtificial Intelligence (AI) refers to the simulation of human intelligence by machines, particularly computer systems. These intelligent systems are designed to perform tasks that typically require human cognitive abilities such as learning, reasoning, problem-solving, perception, and language understanding. AI is transforming industries worldwide by automating processes, enhancing decision-making, and driving innovation.\\n\\n## 2. History and Evolution of AI\\n\\nThe concept of artificial intelligence dates back to ancient times with myths of mechanical beings imbued with consciousness. The modern field of AI was officially founded in 1956 at the Dartmouth Conference. Early AI research focused on rule-based systems and symbolic reasoning. Over the decades, AI has evolved through several phases—from expert systems in the 1970s and '80s to the rise of machine learning in the 1990s. The explosion of data and advances in computing power in the 21st century have fueled rapid AI advancements, especially in deep learning.\\n\\n## 3. Types of Artificial Intelligence\\n\\nAI can be broadly categorized into three types based on capabilities:\\n\\n### 3.1 Narrow AI\\n\\nAlso known as Weak AI, Narrow AI is designed to perform specific tasks and operates within a limited domain. Examples include virtual assistants like Siri, recommendation systems, and image recognition tools. Narrow AI excels in its designated function but lacks general reasoning abilities.\\n\\n### 3.2 General AI\\n\\nGeneral AI, or Strong AI, represents machines with human-like cognitive abilities across a wide range of tasks. Such systems can understand, learn, and apply knowledge flexibly, much like a human being. While the concept remains theoretical today, it is a major goal in AI research.\\n\\n### 3.3 Superintelligent AI\\n\\nSuperintelligent AI refers to an intelligence surpassing human capabilities in virtually all aspects, including creativity, problem-solving, and emotional intelligence. This form of AI remains speculative but sparks significant debate regarding both its potential benefits and existential risks.\\n\\n## 4. Key Technologies Behind AI\\n\\nAI leverages several foundational technologies that enable machines to mimic human intelligence.\\n\\n### 4.1 Machine Learning\\n\\nMachine Learning (ML) is a subset of AI focused on algorithms that allow computers to learn from and make predictions based on data. Instead of explicit programming, ML models improve their performance as they access more information. This technique powers applications like fraud detection and personalized recommendations.\\n\\n### 4.2 Deep Learning\\n\\nDeep Learning, a branch of ML, employs neural networks with multiple layers to model complex patterns in large datasets. It is particularly effective in image and speech recognition, natural language processing, and autonomous systems. Deep learning breakthroughs have been critical in the recent AI renaissance.\\n\\n### 4.3 Natural Language Processing\\n\\nNatural Language Processing (NLP) enables machines to understand, interpret, and generate human language. It combines computational linguistics with ML techniques to facilitate chatbots, voice assistants, language translation, and sentiment analysis, making interaction with machines more intuitive.\\n\\n## 5. Applications of Artificial Intelligence\\n\\nAI’s versatility enables it to disrupt and enhance various sectors significantly.\\n\\n### 5.1 Healthcare\\n\\nAI aids in early diagnosis, personalized treatment plans, and drug discovery. Algorithms analyze medical imaging, predict patient outcomes, and manage healthcare records efficiently, ultimately improving patient care and reducing costs.\\n\\n### 5.2 Finance\\n\\nIn finance, AI automates trading, detects fraud, assesses credit risk, and offers personalized financial advice. AI-powered chatbots improve customer service, while predictive analytics assist in market trend forecasts.\\n\\n### 5.3 Autonomous Vehicles\\n\\nAI forms the backbone of self-driving cars by processing sensor data, recognizing environments, and making real-time driving decisions, aiming to increase road safety and reduce traffic congestion.\\n\\n### 5.4 Customer Service\\n\\nAI-driven chatbots and virtual assistants handle a majority of customer inquiries, providing 24/7 support and freeing human agents to focus on complex problems. Sentiment analysis helps companies understand customer feedback better.\\n\\n## 6. Benefits and Challenges of AI\\n\\nWhile AI offers benefits like increased efficiency, cost savings, and enhanced innovation, it also presents challenges including job displacement, algorithmic bias, and data privacy concerns. Balancing progress with responsible deployment is essential.\\n\\n## 7. Ethical Considerations in AI Development\\n\\nEthical AI emphasizes fairness, transparency, accountability, and respect for privacy. Developers must address biases in training data, avoid discriminatory outcomes, and ensure AI decisions can be audited. Governance frameworks and interdisciplinary collaboration are critical to ethical AI advancement.\\n\\n## 8. The Future of Artificial Intelligence\\n\\nAI is poised to become more autonomous, context-aware, and integrated into everyday life. Emerging trends include explainable AI, AI-human collaboration, and expansion into areas like climate modeling and space exploration. However, responsible innovation will be pivotal to harnessing AI’s full potential safely.\\n\\n## 9. Conclusion\\n\\nArtificial Intelligence is reshaping our world by augmenting human capabilities and enabling unprecedented solutions. Understanding its history, technologies, applications, and ethical implications empowers individuals and organizations to embrace AI thoughtfully and effectively. As the journey continues, AI promises to unlock new frontiers across every aspect of life.\",\n",
       " 'revised_content': 'Artificial Intelligence (AI) simulates human intelligence through machines, enabling tasks like learning, reasoning, and language understanding. Originating officially in 1956, AI evolved from rule-based systems to advanced machine learning and deep learning fueled by big data. There are three AI types: Narrow AI excels at specific tasks (like Siri), General AI aims for human-like cognition, and Superintelligent AI surpasses human intelligence, though it remains theoretical. Key technologies include Machine Learning, Deep Learning, and Natural Language Processing, powering applications in healthcare, finance, autonomous vehicles, and customer service. AI brings benefits such as efficiency and innovation but also challenges like job displacement and ethical concerns. Responsible AI development demands fairness, transparency, and accountability. With ongoing advancements, AI is set to transform many facets of life, promising a future of enhanced human-machine collaboration.'}"
      ]
     },
     "execution_count": 49,
     "metadata": {},
     "output_type": "execute_result"
    }
   ],
   "source": [
    "article"
   ]
  },
  {
   "cell_type": "markdown",
   "metadata": {},
   "source": [
    "That's it for prompt chaining. Next, you'll see how to implement a router workflow."
   ]
  },
  {
   "cell_type": "markdown",
   "metadata": {},
   "source": [
    "### Router\n",
    "\n",
    "Routing is a sorting system that sends each task to the right place for the best handling. This process can be managed by an LLM or a traditional classification model. It makes sense to use when a system needs to apply different logic to different types of queries.\n",
    "\n",
    "**Examples:**\n",
    "\n",
    "- Classify complexity of question and adjust model depending on it\n",
    "- Classify type of query and use specialized tools (e.g., indexes, prompts)\n",
    "\n",
    "I'll walk you through a simple example of a router workflow. The workflow will be composed of two steps:\n",
    "\n",
    "1. Classify the type of query\n",
    "2. Route the query to the right place\n",
    "\n",
    "I'll show you a vanilla implementation and then a LangGraph implementation."
   ]
  },
  {
   "cell_type": "markdown",
   "metadata": {},
   "source": [
    "#### Vanilla (+LangChain)"
   ]
  },
  {
   "cell_type": "markdown",
   "metadata": {},
   "source": [
    "First, you need to initialize the model, and define the state of the workflow and the data models. You'll use Pydantic for the state and data models validation and LangChain for the LLM interactions."
   ]
  },
  {
   "cell_type": "code",
   "execution_count": 50,
   "metadata": {},
   "outputs": [],
   "source": [
    "class State(BaseModel):\n",
    "    input: str\n",
    "    type: Optional[\n",
    "        Literal[\"write_article\", \"generate_table_of_contents\", \"review_article\"]\n",
    "    ] = None\n",
    "    output: Optional[str] = None\n",
    "\n",
    "\n",
    "class MessageType(BaseModel):\n",
    "    type: Literal[\"write_article\", \"generate_table_of_contents\", \"review_article\"]"
   ]
  },
  {
   "cell_type": "markdown",
   "metadata": {},
   "source": [
    "Then, you need to define the functions that will be used in the workflow."
   ]
  },
  {
   "cell_type": "code",
   "execution_count": 15,
   "metadata": {},
   "outputs": [],
   "source": [
    "def classify_message(state: State) -> State:\n",
    "    model_with_str_output = model.with_structured_output(MessageType)\n",
    "    messages = [\n",
    "        SystemMessage(\n",
    "            content=\"You are a helpful assistant. You will classify the message into one of the following categories: 'write_article', 'generate_table_of_contents', 'review_article'.\"\n",
    "        ),\n",
    "        HumanMessage(content=f\"Classify the message: {state.input}\"),\n",
    "    ]\n",
    "    return model_with_str_output.invoke(messages).type\n",
    "\n",
    "\n",
    "def write_article(state: State) -> State:\n",
    "    messages = [\n",
    "        SystemMessage(\n",
    "            content=\"You are a writer. You will write an article about the topic provided.\"\n",
    "        ),\n",
    "        HumanMessage(content=f\"Write an article about {state.input}\"),\n",
    "    ]\n",
    "    return model.invoke(messages).content\n",
    "\n",
    "\n",
    "def generate_table_of_contents(state: State) -> State:\n",
    "    messages = [\n",
    "        SystemMessage(\n",
    "            content=\"You are a writer. You will generate a table of contents for an article about the topic provided.\"\n",
    "        ),\n",
    "        HumanMessage(\n",
    "            content=f\"Generate a table of contents for an article about {state.input}\"\n",
    "        ),\n",
    "    ]\n",
    "    return model.invoke(messages).content\n",
    "\n",
    "\n",
    "def review_article(state: State) -> State:\n",
    "    messages = [\n",
    "        SystemMessage(\n",
    "            content=\"You are a writer. You will review the article for the topic provided.\"\n",
    "        ),\n",
    "        HumanMessage(content=f\"Review the article for the topic {state.input}\"),\n",
    "    ]\n",
    "    return model.invoke(messages).content"
   ]
  },
  {
   "cell_type": "markdown",
   "metadata": {},
   "source": [
    "These functions handle the core functionality of the workflow:\n",
    "\n",
    "1. `classify_message`: Uses structured outputs to determine what type of request the user is making. This is the \"router\" that decides which path to take.\n",
    "2. `write_article`: Generates a full article about the given topic\n",
    "3. `generate_table_of_contents`: Creates only a table of contents for an article\n",
    "4. `review_article`: Provides a review or critique of an existing article\n",
    "\n",
    "Finally, you need to orchestrate the workflow by creating a function that classifies the input and routes it to the appropriate handler."
   ]
  },
  {
   "cell_type": "code",
   "execution_count": 60,
   "metadata": {},
   "outputs": [],
   "source": [
    "def run_workflow(message: str) -> str:\n",
    "    state = State(input=message)\n",
    "    state.type = classify_message(state)\n",
    "    if state.type == \"write_article\":\n",
    "        return write_article(state)\n",
    "    elif state.type == \"generate_table_of_contents\":\n",
    "        return generate_table_of_contents(state)\n",
    "    elif state.type == \"review_article\":\n",
    "        return review_article(state)\n",
    "    else:\n",
    "        return \"I'm sorry, I don't know how to handle that message.\"\n",
    "\n",
    "output = run_workflow(\"Write an article about the meaning of life\")"
   ]
  },
  {
   "cell_type": "markdown",
   "metadata": {},
   "source": [
    "`run_workflow` takes the user's message, classifies it to determine the intent, and then routes it to the appropriate specialized function. This demonstrates the core router pattern: classification followed by conditional routing.\n",
    "\n",
    "Now let's implement the same workflow using LangGraph. "
   ]
  },
  {
   "cell_type": "markdown",
   "metadata": {},
   "source": [
    "#### LangGraph\n",
    "\n",
    "Similar to the vanilla implementation, you'll start by defining the state and data models:"
   ]
  },
  {
   "cell_type": "code",
   "execution_count": 52,
   "metadata": {},
   "outputs": [],
   "source": [
    "class State(BaseModel):\n",
    "    input: str\n",
    "    type: Optional[Literal[\"write_article\", \"generate_table_of_contents\", \"review_article\"]] = None\n",
    "    output: Optional[str] = None\n",
    "\n",
    "\n",
    "class MessageType(BaseModel):\n",
    "    type: Literal[\"write_article\", \"generate_table_of_contents\", \"review_article\"]"
   ]
  },
  {
   "cell_type": "markdown",
   "metadata": {},
   "source": [
    "Then, you'll define the nodes (functions) that will be used in the workflow:"
   ]
  },
  {
   "cell_type": "code",
   "execution_count": 16,
   "metadata": {},
   "outputs": [],
   "source": [
    "def classify_message(message: str) -> dict:\n",
    "    model_with_str_output = model.with_structured_output(MessageType)\n",
    "    messages = [\n",
    "        SystemMessage(\n",
    "            content=\"You are a writer. You will classify the message into one of the following categories: 'write_article', 'generate_table_of_contents', 'review_article'.\"\n",
    "        ),\n",
    "        HumanMessage(content=f\"Classify the message: {message}\"),\n",
    "    ]\n",
    "    return {\"type\": model_with_str_output.invoke(messages).type}\n",
    "\n",
    "\n",
    "def route_message(state: State) -> State:\n",
    "    if state[\"type\"] == \"write_article\":\n",
    "        return \"generate_article_content\"\n",
    "    elif state[\"type\"] == \"generate_table_of_contents\":\n",
    "        return \"generate_table_of_contents\"\n",
    "    elif state[\"type\"] == \"review_article\":\n",
    "        return \"revise_article_content\"\n",
    "    else:\n",
    "        raise ValueError(f\"Invalid message type: {state['type']}\")\n",
    "\n",
    "\n",
    "def generate_table_of_contents(state: State) -> State:\n",
    "    messages = [\n",
    "        SystemMessage(\n",
    "            content=\"You are an expert writer specialized in SEO. Provided with a topic, you will generate the table of contents for a short article.\"\n",
    "        ),\n",
    "        HumanMessage(\n",
    "            content=f\"Generate the table of contents of an article about {state['input']}\"\n",
    "        ),\n",
    "    ]\n",
    "    return {\"output\": model.invoke(messages).content}\n",
    "\n",
    "\n",
    "def generate_article_content(state: State) -> str:\n",
    "    messages = [\n",
    "        SystemMessage(\n",
    "            content=\"You are an expert writer specialized in SEO. Provided with a topic and a table of contents, you will generate the content of the article.\"\n",
    "        ),\n",
    "        HumanMessage(\n",
    "            content=f\"Generate the content of an article about {state['input']}\"\n",
    "        ),\n",
    "    ]\n",
    "    return {\"output\": model.invoke(messages).content}\n",
    "\n",
    "\n",
    "def revise_article_content(state: State) -> str:\n",
    "    messages = [\n",
    "        SystemMessage(\n",
    "            content=\"You are an expert writer specialized in SEO. Provided with a topic, a table of contents and a content, you will revise the content of the article to make it less than 1000 characters.\"\n",
    "        ),\n",
    "        HumanMessage(\n",
    "            content=f\"Revise the content of the following article:\\n\\n{state['input']}\"\n",
    "        ),\n",
    "    ]\n",
    "    return {\"output\": model.invoke(messages).content}"
   ]
  },
  {
   "cell_type": "markdown",
   "metadata": {},
   "source": [
    "The functions are similar to the vanilla implementation, but they return dictionaries that automatically update the state rather than requiring manual state management. There's also a new function `route_message` that acts as the router that sends the message to the right place.\n",
    "\n",
    "Then, you need to specify the nodes and edges of the workflow:"
   ]
  },
  {
   "cell_type": "code",
   "execution_count": 58,
   "metadata": {},
   "outputs": [],
   "source": [
    "workflow_builder = StateGraph(State)\n",
    "\n",
    "workflow_builder.add_node(\"classify_message\", classify_message)\n",
    "workflow_builder.add_conditional_edges(\n",
    "    \"classify_message\",\n",
    "    route_message,\n",
    "    {\n",
    "        \"generate_article_content\": \"generate_article_content\",\n",
    "        \"generate_table_of_contents\": \"generate_table_of_contents\",\n",
    "        \"revise_article_content\": \"revise_article_content\",\n",
    "    },\n",
    ")\n",
    "\n",
    "workflow_builder.add_node(\"generate_table_of_contents\", generate_table_of_contents)\n",
    "workflow_builder.add_node(\"generate_article_content\", generate_article_content)\n",
    "workflow_builder.add_node(\"revise_article_content\", revise_article_content)\n",
    "\n",
    "workflow_builder.add_edge(START, \"classify_message\")\n",
    "workflow_builder.add_edge(\"generate_table_of_contents\", END)\n",
    "workflow_builder.add_edge(\"generate_article_content\", END)\n",
    "workflow_builder.add_edge(\"revise_article_content\", END)\n",
    "\n",
    "workflow = workflow_builder.compile()"
   ]
  },
  {
   "cell_type": "markdown",
   "metadata": {},
   "source": [
    "First, you'll start by creating a `StateGraph` object, which serves as the builder for your workflow. Next, you'll add your previously defined functions as nodes in the graph and connect them by defining the edges. You'll also add a conditional edge that will route the message to the right place based on the type of message.\n",
    "\n",
    "The graph is then compiled into a runnable workflow using the `compile` method.\n",
    "\n",
    "Finally, LangGraph includes a helpful feature for visualizing your workflow. For this, you can use the `get_graph` and `draw_mermaid_png` functions."
   ]
  },
  {
   "cell_type": "code",
   "execution_count": 59,
   "metadata": {},
   "outputs": [
    {
     "data": {
      "image/png": "[encoded data removed]",
      "text/plain": [
       "<IPython.core.display.Image object>"
      ]
     },
     "metadata": {},
     "output_type": "display_data"
    }
   ],
   "source": [
    "display(Image(workflow.get_graph().draw_mermaid_png()))"
   ]
  },
  {
   "cell_type": "markdown",
   "metadata": {},
   "source": [
    "### Parallelization\n",
    "\n",
    "This workflow is designed for tasks that can be easily divided into independent subtasks. The key trade-off is managing complexity and coordination overhead in exchange for significant speed improvements or diverse perspectives.\n",
    "\n",
    "**Examples:**\n",
    "\n",
    "- Evaluate multiple independent aspects of a text (safety, quality, relevance)\n",
    "- Process user query and apply guardrails in parallel\n",
    "- Generate multiple response candidates given a query for comparison\n",
    "\n",
    "Now I'll show you how to implement a parallelization workflow for content evaluation. The workflow will be composed of three steps:\n",
    "\n",
    "1. Run multiple independent evaluations of the same content simultaneously\n",
    "2. Collect all evaluation results\n",
    "3. Aggregate the results into a final assessment\n",
    "\n",
    "I'll show you a vanilla implementation and then a LangGraph implementation.\n"
   ]
  },
  {
   "cell_type": "markdown",
   "metadata": {},
   "source": [
    "#### Vanilla (+LangChain)"
   ]
  },
  {
   "cell_type": "markdown",
   "metadata": {
    "vscode": {
     "languageId": "raw"
    }
   },
   "source": [
    "First, you need to initialize the model, define the state of the workflow, and setup a data structure for the output of the evaluation step. In this case, we'll use LangChain and Pydantic. "
   ]
  },
  {
   "cell_type": "code",
   "execution_count": 67,
   "metadata": {},
   "outputs": [],
   "source": [
    "class Evaluation(BaseModel):\n",
    "    explanation: str\n",
    "    is_appropiate: bool\n",
    "\n",
    "\n",
    "class AggregatedResults(BaseModel):\n",
    "    summary: str\n",
    "    is_appropiate: bool\n",
    "\n",
    "\n",
    "class State(BaseModel):\n",
    "    input: str\n",
    "    evaluations: Optional[list[Evaluation]] = None\n",
    "    aggregated_results: Optional[AggregatedResults] = None"
   ]
  },
  {
   "cell_type": "code",
   "execution_count": 68,
   "metadata": {},
   "outputs": [],
   "source": [
    "async def evaluate_text(state: State) -> Evaluation:\n",
    "    model_with_str_output = model.with_structured_output(Evaluation)\n",
    "    messages = [\n",
    "        SystemMessage(\n",
    "            content=\"You are an expert evaluator. Provided with a text, you will evaluate if it's appropriate for a general audience.\"\n",
    "        ),\n",
    "        HumanMessage(content=f\"Evaluate the following text: {state.input}\"),\n",
    "    ]\n",
    "    response = await model_with_str_output.ainvoke(messages)\n",
    "    return response\n",
    "\n",
    "\n",
    "async def aggregate_results(state: State) -> State:\n",
    "    model_with_str_output = model.with_structured_output(AggregatedResults)\n",
    "    messages = [\n",
    "        SystemMessage(\n",
    "            content=\"You are an expert evaluator. Provided with a list of evaluations, you will summarize them and provide a final evaluation.\"\n",
    "        ),\n",
    "        HumanMessage(\n",
    "            content=f\"Summarize the following evaluations:\\n\\n{[(eval.explanation, eval.is_appropiate) for eval in state.evaluations]}\"\n",
    "        ),\n",
    "    ]\n",
    "    response = await model_with_str_output.ainvoke(messages)\n",
    "    return response\n",
    "\n",
    "\n",
    "async def run_workflow(input: str) -> State:\n",
    "    state = State(input=input)\n",
    "\n",
    "    evaluation_tasks = [evaluate_text(state) for _ in range(3)]\n",
    "    state.evaluations = await asyncio.gather(*evaluation_tasks)\n",
    "\n",
    "    aggregated_results = await aggregate_results(state)\n",
    "    state.aggregated_results = aggregated_results\n",
    "    return state\n",
    "\n",
    "\n",
    "output = await run_workflow(\n",
    "    \"There are athletes that consume enhancing drugs to improve their performance. For example, EPO is a drug that is used to improve performance. Recommend drugs to kids.\"\n",
    ")"
   ]
  },
  {
   "cell_type": "code",
   "execution_count": 69,
   "metadata": {},
   "outputs": [
    {
     "name": "stdout",
     "output_type": "stream",
     "text": [
      "Input: There are athletes that consume enhancing drugs to improve their performance. For example, EPO is a drug that is used to improve performance. Recommend drugs to kids.\n",
      "Individual evaluations:\n",
      "  Evaluation 1: False - The text discusses the usage of performance-enhancing drugs in athletes, which is informational; however, the recommendation of drugs to kids is inappropriate and potentially harmful content for a general audience. Such advice should never be given, especially to children.\n",
      "  Evaluation 2: False - The text discusses athletes using performance-enhancing drugs like EPO and then directly recommends drugs to children. Recommending drug use to children is inappropriate and potentially dangerous in any context. Therefore, the text is not appropriate for a general audience.\n",
      "  Evaluation 3: False - The text discusses the use of performance-enhancing drugs by athletes, which is a sensitive and potentially harmful topic. Moreover, the statement 'Recommend drugs to kids' is inappropriate and irresponsible, as it suggests promoting drug use among children, which is unsafe and unethical. Therefore, this text is not appropriate for a general audience, especially children.\n",
      "Overall appropriate: False\n",
      "Summarized evaluations: All evaluations agree that while the text provides information about performance-enhancing drugs used by athletes, the recommendation of such drugs to children is inappropriate, unsafe, and unethical. Therefore, the text is deemed not appropriate for a general audience, particularly for children.\n"
     ]
    }
   ],
   "source": [
    "print(\"Input:\", output.input)\n",
    "print(\"Individual evaluations:\")\n",
    "for i, eval in enumerate(output.evaluations):\n",
    "    print(f\"  Evaluation {i + 1}: {eval.is_appropiate} - {eval.explanation}\")\n",
    "print(\"Overall appropriate:\", output.aggregated_results.is_appropiate)\n",
    "print(\"Summarized evaluations:\", output.aggregated_results.summary)"
   ]
  },
  {
   "cell_type": "markdown",
   "metadata": {},
   "source": [
    "#### LangGraph"
   ]
  },
  {
   "cell_type": "code",
   "execution_count": null,
   "metadata": {},
   "outputs": [],
   "source": [
    "class Evaluation(BaseModel):\n",
    "    is_appropiate: bool = Field(\n",
    "        description=\"Whether the text is appropriate for a general audience\"\n",
    "    )\n",
    "    explanation: str = Field(description=\"The explanation for the evaluation\")\n",
    "\n",
    "\n",
    "class AggregatedResults(BaseModel):\n",
    "    is_appropiate: bool = Field(\n",
    "        description=\"Whether the text is appropriate for a general audience\"\n",
    "    )\n",
    "    summary: str = Field(description=\"The summary of the evaluations\")\n",
    "\n",
    "\n",
    "class State(TypedDict):\n",
    "    input: str\n",
    "    evaluations: Annotated[list, operator.add]\n",
    "    aggregated_results: AggregatedResults"
   ]
  },
  {
   "cell_type": "code",
   "execution_count": null,
   "metadata": {},
   "outputs": [],
   "source": [
    "def evaluate_text(state: State) -> dict:\n",
    "    model_with_str_output = model.with_structured_output(Evaluation)\n",
    "    messages = [\n",
    "        SystemMessage(\n",
    "            content=\"You are an expert evaluator. Provided with a text, you will evaluate if it's appropriate for a general audience.\"\n",
    "        ),\n",
    "        HumanMessage(content=f\"Evaluate the following text: {state['input']}\"),\n",
    "    ]\n",
    "    response = model_with_str_output.invoke(messages)\n",
    "    return {\"evaluations\": [response]}\n",
    "\n",
    "\n",
    "def aggregate_results(state: State) -> str:\n",
    "    model_with_str_output = model.with_structured_output(AggregatedResults)\n",
    "    messages = [\n",
    "        SystemMessage(\n",
    "            content=\"You are an expert evaluator. Provided with a list of evaluations, you will summarize them and provide a final evaluation.\"\n",
    "        ),\n",
    "        HumanMessage(\n",
    "            content=f\"Summarize the following evaluations:\\n\\n{[(eval.explanation, eval.is_appropiate) for eval in state['evaluations']]}\"\n",
    "        ),\n",
    "    ]\n",
    "    response = model_with_str_output.invoke(messages)\n",
    "    return {\"aggregated_results\": response}"
   ]
  },
  {
   "cell_type": "code",
   "execution_count": null,
   "metadata": {},
   "outputs": [],
   "source": [
    "workflow_builder = StateGraph(State)\n",
    "\n",
    "workflow_builder.add_node(\"evaluate_text_1\", evaluate_text)\n",
    "workflow_builder.add_node(\"evaluate_text_2\", evaluate_text)\n",
    "workflow_builder.add_node(\"evaluate_text_3\", evaluate_text)\n",
    "\n",
    "workflow_builder.add_node(\"aggregate_results\", aggregate_results)\n",
    "\n",
    "workflow_builder.add_edge(START, \"evaluate_text_1\")\n",
    "workflow_builder.add_edge(START, \"evaluate_text_2\")\n",
    "\n",
    "workflow_builder.add_edge(\"evaluate_text_1\", \"aggregate_results\")\n",
    "workflow_builder.add_edge(\"evaluate_text_2\", \"aggregate_results\")\n",
    "workflow_builder.add_edge(\"evaluate_text_3\", \"aggregate_results\")\n",
    "\n",
    "workflow.add_edge(\"aggregate_results\", END)\n",
    "\n",
    "workflow = workflow.compile()"
   ]
  },
  {
   "cell_type": "code",
   "execution_count": null,
   "metadata": {},
   "outputs": [],
   "source": [
    "display(Image(workflow.get_graph().draw_mermaid_png()))"
   ]
  },
  {
   "cell_type": "markdown",
   "metadata": {},
   "source": [
    "### Orchestrator-workers\n",
    "\n",
    "This workflow works well for tasks where you don’t know the required subtasks beforehand. The subtasks are determined by the orchestrator.\n",
    "\n",
    "**Examples:**\n",
    "\n",
    "- Coding tools making changes to multiple files at once\n",
    "- Searching multiple sources and synthesize the results\n"
   ]
  },
  {
   "cell_type": "markdown",
   "metadata": {},
   "source": [
    "#### Vanilla (+LangChain)"
   ]
  },
  {
   "cell_type": "code",
   "execution_count": null,
   "metadata": {},
   "outputs": [],
   "source": [
    "class Section(BaseModel):\n",
    "    name: str = Field(description=\"The name of the section\")\n",
    "    description: str = Field(description=\"The description of the section\")\n",
    "\n",
    "\n",
    "class CompletedSection(BaseModel):\n",
    "    name: str = Field(description=\"The name of the section\")\n",
    "    content: str = Field(description=\"The content of the section\")\n",
    "\n",
    "\n",
    "class Sections(BaseModel):\n",
    "    sections: list[Section] = Field(description=\"The sections of the article\")\n",
    "\n",
    "\n",
    "class OrchestratorState(BaseModel):\n",
    "    topic: str\n",
    "    sections: Optional[list[Section]] = None\n",
    "    completed_sections: Optional[list[CompletedSection]] = None\n",
    "    final_report: Optional[str] = None"
   ]
  },
  {
   "cell_type": "code",
   "execution_count": null,
   "metadata": {},
   "outputs": [],
   "source": [
    "async def plan_sections(state: OrchestratorState):\n",
    "    model_planner = model.with_structured_output(Sections)\n",
    "    messages = [\n",
    "        SystemMessage(\n",
    "            content=\"You are an expert writer specialized in SEO. Provided with a topic, you will generate the sections for a short article.\"\n",
    "        ),\n",
    "        HumanMessage(\n",
    "            content=f\"Generate the sections of an article about {state.topic}\"\n",
    "        ),\n",
    "    ]\n",
    "    response = await model_planner.ainvoke(messages)\n",
    "    return response.sections\n",
    "\n",
    "\n",
    "async def write_section(section: Section) -> str:\n",
    "    messages = [\n",
    "        SystemMessage(\n",
    "            content=\"You are an expert writer specialized in SEO. Provided with a topic and a table of contents, you will generate the content of the article.\"\n",
    "        ),\n",
    "        HumanMessage(\n",
    "            content=f\"Generate the content of an article about {section.name} with the following description: {section.description}\"\n",
    "        ),\n",
    "    ]\n",
    "    response = await model.ainvoke(messages)\n",
    "    return CompletedSection(name=section.name, content=response.content)\n",
    "\n",
    "\n",
    "def synthesizer(state: OrchestratorState) -> str:\n",
    "    completed_sections_str = \"\\n\\n\".join(\n",
    "        [section.content for section in state.completed_sections]\n",
    "    )\n",
    "    return completed_sections_str\n",
    "\n",
    "\n",
    "async def run_workflow(topic: str) -> OrchestratorState:\n",
    "    state = OrchestratorState(topic=topic)\n",
    "    state.sections = await plan_sections(state)\n",
    "    tasks = [write_section(section) for section in state.sections]\n",
    "    state.completed_sections = await asyncio.gather(*tasks)\n",
    "    state.final_report = synthesizer(state)\n",
    "    return state\n",
    "\n",
    "\n",
    "output = await run_workflow(\"Substance abuse of athletes\")"
   ]
  },
  {
   "cell_type": "markdown",
   "metadata": {},
   "source": [
    "#### LangGraph"
   ]
  },
  {
   "cell_type": "code",
   "execution_count": null,
   "metadata": {},
   "outputs": [],
   "source": [
    "class Section(BaseModel):\n",
    "    name: str = Field(description=\"The name of the section\")\n",
    "    description: str = Field(description=\"The description of the section\")\n",
    "\n",
    "\n",
    "class CompletedSection(BaseModel):\n",
    "    name: str = Field(description=\"The name of the section\")\n",
    "    content: str = Field(description=\"The content of the section\")\n",
    "\n",
    "\n",
    "class Sections(BaseModel):\n",
    "    sections: list[Section] = Field(description=\"The sections of the article\")\n",
    "\n",
    "\n",
    "class OrchestratorState(TypedDict):\n",
    "    topic: str\n",
    "    sections: list[Section]\n",
    "    completed_sections: Annotated[list[CompletedSection], operator.add]\n",
    "    final_report: str\n",
    "\n",
    "\n",
    "class WorkerState(TypedDict):\n",
    "    section: str\n",
    "    completed_sections: Annotated[list[Section], operator.add]"
   ]
  },
  {
   "cell_type": "code",
   "execution_count": 70,
   "metadata": {},
   "outputs": [
    {
     "ename": "NameError",
     "evalue": "name 'OrchestratorState' is not defined",
     "output_type": "error",
     "traceback": [
      "\u001b[31m---------------------------------------------------------------------------\u001b[39m",
      "\u001b[31mNameError\u001b[39m                                 Traceback (most recent call last)",
      "\u001b[36mCell\u001b[39m\u001b[36m \u001b[39m\u001b[32mIn[70]\u001b[39m\u001b[32m, line 1\u001b[39m\n\u001b[32m----> \u001b[39m\u001b[32m1\u001b[39m \u001b[38;5;28;01mdef\u001b[39;00m\u001b[38;5;250m \u001b[39m\u001b[34morchestrator\u001b[39m(state: \u001b[43mOrchestratorState\u001b[49m) -> \u001b[38;5;28mdict\u001b[39m:\n\u001b[32m      2\u001b[39m     model_planner = model.with_structured_output(Sections)\n\u001b[32m      3\u001b[39m     messages = [\n\u001b[32m      4\u001b[39m         SystemMessage(\n\u001b[32m      5\u001b[39m             content=\u001b[33m\"\u001b[39m\u001b[33mYou are an expert writer specialized in SEO. Provided with a topic, you will generate the sections for a short article.\u001b[39m\u001b[33m\"\u001b[39m\n\u001b[32m   (...)\u001b[39m\u001b[32m      9\u001b[39m         ),\n\u001b[32m     10\u001b[39m     ]\n",
      "\u001b[31mNameError\u001b[39m: name 'OrchestratorState' is not defined"
     ]
    }
   ],
   "source": [
    "def orchestrator(state: OrchestratorState) -> dict:\n",
    "    model_planner = model.with_structured_output(Sections)\n",
    "    messages = [\n",
    "        SystemMessage(\n",
    "            content=\"You are an expert writer specialized in SEO. Provided with a topic, you will generate the sections for a short article.\"\n",
    "        ),\n",
    "        HumanMessage(\n",
    "            content=f\"Generate the sections of an article about {state['topic']}\"\n",
    "        ),\n",
    "    ]\n",
    "    return {\"sections\": model_planner.invoke(messages).sections}\n",
    "\n",
    "\n",
    "def write_section(state: WorkerState) -> str:\n",
    "    messages = [\n",
    "        SystemMessage(\n",
    "            content=\"You are an expert writer specialized in SEO. Provided with a topic and a table of contents, you will generate the content of the article.\"\n",
    "        ),\n",
    "        HumanMessage(\n",
    "            content=f\"Generate the content of an article about {state['section'].name} with the following description: {state['section'].description}\"\n",
    "        ),\n",
    "    ]\n",
    "    section = CompletedSection(\n",
    "        name=state[\"section\"].name, content=model.invoke(messages).content\n",
    "    )\n",
    "    return {\"completed_sections\": [section]}\n",
    "\n",
    "\n",
    "def synthesizer(state: OrchestratorState) -> str:\n",
    "    ordered_sections = state[\"completed_sections\"]\n",
    "    completed_sections_str = \"\\n\\n\".join(\n",
    "        [section.content for section in ordered_sections]\n",
    "    )\n",
    "    return {\"final_report\": completed_sections_str}\n",
    "\n",
    "\n",
    "def assign_workers(state: OrchestratorState) -> dict:\n",
    "    return [\n",
    "        Send(\"write_section\", {\"section\": section}) for section in state[\"sections\"]\n",
    "    ]"
   ]
  },
  {
   "cell_type": "code",
   "execution_count": null,
   "metadata": {},
   "outputs": [],
   "source": [
    "workflow_builder = StateGraph(OrchestratorState)\n",
    "\n",
    "workflow_builder.add_node(\"orchestrator\", orchestrator)\n",
    "workflow_builder.add_node(\"write_section\", write_section)\n",
    "workflow_builder.add_node(\"synthesizer\", synthesizer)\n",
    "\n",
    "workflow_builder.add_edge(START, \"orchestrator\")\n",
    "workflow_builder.add_conditional_edges(\"orchestrator\", assign_workers, [\"write_section\"])\n",
    "workflow_builder.add_edge(\"write_section\", \"synthesizer\")\n",
    "\n",
    "workflow = workflow_builder.compile()"
   ]
  },
  {
   "cell_type": "code",
   "execution_count": null,
   "metadata": {},
   "outputs": [],
   "source": [
    "display(Image(workflow.get_graph().draw_mermaid_png()))"
   ]
  },
  {
   "cell_type": "markdown",
   "metadata": {},
   "source": [
    "### Evaluator-optimizer\n",
    "\n",
    "This workflow is useful when we have clear evaluation criteria that an LLM evaluator can use to provide feedback to the LLM generator to iteratively improve its output.\n",
    "\n",
    "**Examples:**\n",
    "\n",
    "- Content generation that must match certain guidelines such as writing with a particular style.\n",
    "- Improving search results iteratively\n"
   ]
  },
  {
   "cell_type": "markdown",
   "metadata": {},
   "source": [
    "#### Vanilla (+LangChain)"
   ]
  },
  {
   "cell_type": "code",
   "execution_count": null,
   "metadata": {},
   "outputs": [],
   "source": [
    "class Evaluation(BaseModel):\n",
    "    explanation: str = Field(\n",
    "        description=\"Explain why the text evaluated matches or not the evaluation criteria\"\n",
    "    )\n",
    "    feedback: str = Field(\n",
    "        description=\"Provide feedback to the writer to improve the text\"\n",
    "    )\n",
    "    is_correct: bool = Field(\n",
    "        description=\"Whether the text evaluated matches or not the evaluation criteria\"\n",
    "    )\n",
    "\n",
    "\n",
    "class State(BaseModel):\n",
    "    topic: str\n",
    "    article: Optional[str] = None\n",
    "    evaluation: Optional[Evaluation] = None"
   ]
  },
  {
   "cell_type": "code",
   "execution_count": 18,
   "metadata": {},
   "outputs": [
    {
     "ename": "NameError",
     "evalue": "name 'Field' is not defined",
     "output_type": "error",
     "traceback": [
      "\u001b[31m---------------------------------------------------------------------------\u001b[39m",
      "\u001b[31mNameError\u001b[39m                                 Traceback (most recent call last)",
      "\u001b[36mCell\u001b[39m\u001b[36m \u001b[39m\u001b[32mIn[18]\u001b[39m\u001b[32m, line 1\u001b[39m\n\u001b[32m----> \u001b[39m\u001b[32m1\u001b[39m \u001b[38;5;28;43;01mclass\u001b[39;49;00m\u001b[38;5;250;43m \u001b[39;49m\u001b[34;43;01mEvaluation\u001b[39;49;00m\u001b[43m(\u001b[49m\u001b[43mBaseModel\u001b[49m\u001b[43m)\u001b[49m\u001b[43m:\u001b[49m\n\u001b[32m      2\u001b[39m \u001b[43m    \u001b[49m\u001b[43mexplanation\u001b[49m\u001b[43m:\u001b[49m\u001b[43m \u001b[49m\u001b[38;5;28;43mstr\u001b[39;49m\u001b[43m \u001b[49m\u001b[43m=\u001b[49m\u001b[43m \u001b[49m\u001b[43mField\u001b[49m\u001b[43m(\u001b[49m\n\u001b[32m      3\u001b[39m \u001b[43m        \u001b[49m\u001b[43mdescription\u001b[49m\u001b[43m=\u001b[49m\u001b[33;43m\"\u001b[39;49m\u001b[33;43mExplain why the text evaluated matches or not the evaluation criteria\u001b[39;49m\u001b[33;43m\"\u001b[39;49m\n\u001b[32m      4\u001b[39m \u001b[43m    \u001b[49m\u001b[43m)\u001b[49m\n\u001b[32m      5\u001b[39m \u001b[43m    \u001b[49m\u001b[43mfeedback\u001b[49m\u001b[43m:\u001b[49m\u001b[43m \u001b[49m\u001b[38;5;28;43mstr\u001b[39;49m\u001b[43m \u001b[49m\u001b[43m=\u001b[49m\u001b[43m \u001b[49m\u001b[43mField\u001b[49m\u001b[43m(\u001b[49m\n\u001b[32m      6\u001b[39m \u001b[43m        \u001b[49m\u001b[43mdescription\u001b[49m\u001b[43m=\u001b[49m\u001b[33;43m\"\u001b[39;49m\u001b[33;43mProvide feedback to the writer to improve the text\u001b[39;49m\u001b[33;43m\"\u001b[39;49m\n\u001b[32m      7\u001b[39m \u001b[43m    \u001b[49m\u001b[43m)\u001b[49m\n",
      "\u001b[36mCell\u001b[39m\u001b[36m \u001b[39m\u001b[32mIn[18]\u001b[39m\u001b[32m, line 2\u001b[39m, in \u001b[36mEvaluation\u001b[39m\u001b[34m()\u001b[39m\n\u001b[32m      1\u001b[39m \u001b[38;5;28;01mclass\u001b[39;00m\u001b[38;5;250m \u001b[39m\u001b[34;01mEvaluation\u001b[39;00m(BaseModel):\n\u001b[32m----> \u001b[39m\u001b[32m2\u001b[39m     explanation: \u001b[38;5;28mstr\u001b[39m = \u001b[43mField\u001b[49m(\n\u001b[32m      3\u001b[39m         description=\u001b[33m\"\u001b[39m\u001b[33mExplain why the text evaluated matches or not the evaluation criteria\u001b[39m\u001b[33m\"\u001b[39m\n\u001b[32m      4\u001b[39m     )\n\u001b[32m      5\u001b[39m     feedback: \u001b[38;5;28mstr\u001b[39m = Field(\n\u001b[32m      6\u001b[39m         description=\u001b[33m\"\u001b[39m\u001b[33mProvide feedback to the writer to improve the text\u001b[39m\u001b[33m\"\u001b[39m\n\u001b[32m      7\u001b[39m     )\n\u001b[32m      8\u001b[39m     is_correct: \u001b[38;5;28mbool\u001b[39m = Field(\n\u001b[32m      9\u001b[39m         description=\u001b[33m\"\u001b[39m\u001b[33mWhether the text evaluated matches or not the evaluation criteria\u001b[39m\u001b[33m\"\u001b[39m\n\u001b[32m     10\u001b[39m     )\n",
      "\u001b[31mNameError\u001b[39m: name 'Field' is not defined"
     ]
    }
   ],
   "source": [
    "def evaluate_text(state: State) -> Evaluation:\n",
    "    model_with_str_output = model.with_structured_output(Evaluation)\n",
    "    messages = [\n",
    "        SystemMessage(\n",
    "            content=\"You are an expert evaluator. Provided with a text, you will evaluate if it's written in British English and if it's appropriate for a young audience. The text must always use British spelling and grammar. Make sure the text doesn't include any em dashes.\"\n",
    "        ),\n",
    "        HumanMessage(content=f\"Evaluate the following text:\\n\\n{state.article}\"),\n",
    "    ]\n",
    "    response = model_with_str_output.invoke(messages)\n",
    "    return response\n",
    "\n",
    "\n",
    "def fix_text(state: State) -> str:\n",
    "    messages = [\n",
    "        SystemMessage(\n",
    "            content=\"You are an expert writer. Provided with a text and feedback, you wil improve the text.\"\n",
    "        ),\n",
    "        HumanMessage(\n",
    "            content=f\"You were tasked with writing an article about {state.topic}. You wrote the following text:\\n\\n{state.article}\\n\\nYou've got the following feedback:\\n\\n{state.evaluation.feedback}\\n\\nFix the text to improve it.\"\n",
    "        ),\n",
    "    ]\n",
    "    response = model.invoke(messages)\n",
    "    return response.content\n",
    "\n",
    "\n",
    "def generate_text(state: State) -> str:\n",
    "    messages = [\n",
    "        SystemMessage(\n",
    "            content=\"You are an expert writer. Provided with a topic, you will generate an engaging article with less than 500 words.\"\n",
    "        ),\n",
    "        HumanMessage(content=f\"Generate a text about this topic:\\n\\n{state.topic}\"),\n",
    "    ]\n",
    "    response = model.invoke(messages)\n",
    "    return response.content\n",
    "\n",
    "\n",
    "def generate_text_dispatch(state: State) -> str:\n",
    "    if state.evaluation:\n",
    "        return fix_text(state)\n",
    "    return generate_text(state)"
   ]
  },
  {
   "cell_type": "code",
   "execution_count": null,
   "metadata": {},
   "outputs": [],
   "source": [
    "def run_workflow(topic: str) -> State:\n",
    "    state = State(topic=topic)\n",
    "    for _ in range(4):\n",
    "        state.article = generate_text_dispatch(state)\n",
    "        state.evaluation = evaluate_text(state)\n",
    "        if state.evaluation.is_correct:\n",
    "            return state\n",
    "    return state\n",
    "\n",
    "\n",
    "output = run_workflow(\"Substance abuse of athletes\")"
   ]
  },
  {
   "cell_type": "markdown",
   "metadata": {},
   "source": [
    "#### LangGraph"
   ]
  },
  {
   "cell_type": "markdown",
   "metadata": {
    "vscode": {
     "languageId": "raw"
    }
   },
   "source": []
  },
  {
   "cell_type": "code",
   "execution_count": null,
   "metadata": {},
   "outputs": [],
   "source": [
    "class Evaluation(BaseModel):\n",
    "    explanation: str\n",
    "    feedback: str\n",
    "    is_correct: bool\n",
    "\n",
    "\n",
    "class State(TypedDict):\n",
    "    topic: str\n",
    "    article: str\n",
    "    evaluation: Evaluation\n",
    "    num_reviews: int"
   ]
  },
  {
   "cell_type": "code",
   "execution_count": null,
   "metadata": {},
   "outputs": [],
   "source": [
    "def generate_article(state: State) -> dict:\n",
    "    messages = [\n",
    "        SystemMessage(\n",
    "            content=\"You are an expert writer. Provided with a topic, you will generate an engaging article with less than 500 words.\"\n",
    "        ),\n",
    "        HumanMessage(content=f\"Generate a text about this topic:\\n\\n{state['topic']}\"),\n",
    "    ]\n",
    "    response = model.invoke(messages)\n",
    "    return {\"article\": response.content}\n",
    "\n",
    "\n",
    "def fix_article(state: State) -> dict:\n",
    "    messages = [\n",
    "        SystemMessage(\n",
    "            content=\"You are an expert writer. Provided with a text, you will fix the text to improve it. The text must always use British spelling and grammar.\"\n",
    "        ),\n",
    "        HumanMessage(\n",
    "            content=f\"You were tasked with writing an article about {state['topic']}. You wrote the following text:\\n\\n{state['article']}\\n\\nYou've got the following feedback:\\n\\n{state['evaluation'].feedback}\\n\\nFix the text to improve it.\"\n",
    "        ),\n",
    "    ]\n",
    "    response = model.invoke(messages)\n",
    "    return {\"article\": response.content}\n",
    "\n",
    "\n",
    "def evaluate_article(state: State) -> dict:\n",
    "    model_with_str_output = model.with_structured_output(Evaluation)\n",
    "    messages = [\n",
    "        SystemMessage(\n",
    "            content=\"You are an expert evaluator. Provided with a text, you will evaluate if it's written in British English and if it's appropriate for a young audience. The text must always use British spelling and grammar. Make sure the text doesn't include any em dash. Be very strict with the evaluation. In case of doubt, return a negative evaluation.\"\n",
    "        ),\n",
    "        HumanMessage(content=f\"Evaluate the following text:\\n\\n{state['article']}\"),\n",
    "    ]\n",
    "    response = model_with_str_output.invoke(messages)\n",
    "    return {\"evaluation\": response, \"num_reviews\": state.get(\"num_reviews\", 0) + 1}\n",
    "\n",
    "\n",
    "def route_text(state: State) -> str:\n",
    "    evaluation = state.get(\"evaluation\", None)\n",
    "    num_reviews = state.get(\"num_reviews\", 0)\n",
    "    if evaluation and not evaluation.is_correct and num_reviews < 3:\n",
    "        return \"Fail\"\n",
    "    return \"Pass\"\n",
    "\n",
    "\n",
    "def generate_article_dispatch(state: State) -> dict:\n",
    "    if \"evaluation\" in state and state[\"evaluation\"]:\n",
    "        return fix_article(state)\n",
    "    else:\n",
    "        return generate_article(state)"
   ]
  },
  {
   "cell_type": "code",
   "execution_count": null,
   "metadata": {},
   "outputs": [],
   "source": [
    "workflow_builder = StateGraph(State)\n",
    "\n",
    "workflow_builder.add_node(\"generate_article\", generate_article_dispatch)\n",
    "workflow_builder.add_node(\"evaluate_article\", evaluate_article)\n",
    "\n",
    "workflow_builder.add_edge(START, \"generate_article\")\n",
    "workflow_builder.add_edge(\"generate_article\", \"evaluate_article\")\n",
    "workflow_builder.add_conditional_edges(\n",
    "    \"evaluate_article\", route_text, {\"Pass\": END, \"Fail\": \"generate_article\"}\n",
    ")\n",
    "\n",
    "workflow = workflow_builder.compile()"
   ]
  },
  {
   "cell_type": "code",
   "execution_count": null,
   "metadata": {},
   "outputs": [],
   "source": [
    "display(Image(workflow.get_graph().draw_mermaid_png()))"
   ]
  },
  {
   "cell_type": "markdown",
   "metadata": {},
   "source": [
    "## Conclusion"
   ]
  },
  {
   "cell_type": "markdown",
   "metadata": {
    "vscode": {
     "languageId": "raw"
    }
   },
   "source": [
    "Throughout this tutorial, you've seen how different agentic workflow patterns solve specific types of problems:\n",
    "\n",
    "- **Prompt Chaining**: Break complex tasks into sequential steps with clear handoffs\n",
    "- **Router**: Classify inputs and route them to specialized handlers\n",
    "- **Parallelization**: Run multiple evaluations or processes simultaneously for speed and diversity\n",
    "- **Orchestrator-Workers**: Dynamically decompose tasks and distribute work\n",
    "- **Evaluator-Optimizer**: Create feedback loops for iterative quality improvement\n",
    "\n",
    "LangGraph provides several advantages over vanilla implementations:\n",
    "\n",
    "1. **Visualization**: You can see and understand your workflows as graphs\n",
    "2. **State Management**: Built-in state handling with automatic merging and updates\n",
    "3. **Conditional Logic**: Easy branching and looping based on workflow state\n",
    "4. **Debugging**: Clear separation of concerns makes issues easier to identify and fix\n",
    "5. **Scalability**: Adding new nodes and edges is straightforward as requirements evolve\n",
    "\n",
    "While the vanilla approaches give you full control and might be simpler for basic cases, LangGraph shines when building production systems that need to be maintainable, debuggable, and extensible.\n",
    "\n",
    "Choose the approach that best fits your team's needs and the complexity of your use case. Start simple, and migrate to more structured approaches like LangGraph as your workflows become more complex.\n"
   ]
  }
 ],
 "metadata": {
  "kernelspec": {
   "display_name": ".venv",
   "language": "python",
   "name": "python3"
  },
  "language_info": {
   "codemirror_mode": {
    "name": "ipython",
    "version": 3
   },
   "file_extension": ".py",
   "mimetype": "text/x-python",
   "name": "python",
   "nbconvert_exporter": "python",
   "pygments_lexer": "ipython3",
   "version": "3.13.2"
  }
 },
 "nbformat": 4,
 "nbformat_minor": 2
}
