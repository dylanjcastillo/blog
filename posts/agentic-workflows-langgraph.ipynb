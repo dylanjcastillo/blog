{
 "cells": [
  {
   "cell_type": "markdown",
   "metadata": {
    "vscode": {
     "languageId": "plaintext"
    }
   },
   "source": [
    "---\n",
    "title: \"Agentic workflows from scratch with (and without) LangGraph\"\n",
    "date: 2025-07-03\n",
    "description-meta: \"How to build frequently used workflows from scratch and with LangGraph\"\n",
    "categories:\n",
    "  - llm\n",
    "  - python\n",
    "  - anthropic\n",
    "  - openai\n",
    "  - agents\n",
    "---\n",
    "\n",
    "These days, everyone is \"building\" agents. But, in my experience, they're either not really building agents, or they shouldn't be! \n",
    "\n",
    "Agents are powerful tools, but they're not the right tool for many business problems. They give a lot of responsibility to LLMs, and that's not always a good idea.\n",
    "\n",
    "Their counterpart, agentic workflows, are a more controlled way to use LLMs. They're a good fit for many business problems, and they're a lot easier to build than agents.\n",
    "\n",
    "In this post, I'll explain what an agent is, what an agentic workflow is, and how to choose between them. I'll also show you how to build the most common agentic workflows. \n",
    "\n",
    "This post is based on [Anthropic's Building Effective Agents](https://www.anthropic.com/engineering/building-effective-agents). I encourage you to read it. \n",
    "\n",
    "## What is an agent?\n",
    "\n",
    "Over time, the ecosystem has converged on similar definitions:\n",
    "\n",
    "Anthropic's definition: \n",
    "\n",
    "> \"Systems where LLMs dynamically direct their own processes and tool usage, maintaining control over how they accomplish tasks.\"\n",
    ">\n",
    "> [Building Effective Agents](https://www.anthropic.com/engineering/building-effective-agents), Anthropic\n",
    "\n",
    "OpenAI's definition:\n",
    "\n",
    "> \"Systems that independently accomplish tasks on behalf of users\"\n",
    ">\n",
    "> [New tools for building agents](https://openai.com/index/new-tools-for-building-agents/), OpenAI\n",
    "\n",
    "LangChain's definition: \n",
    "\n",
    "> \"system that uses an LLM to decide the control flow of an application.\"\n",
    ">\n",
    "> [What is an agent?](https://blog.langchain.com/what-is-an-agent/), LangChain\n",
    "\n",
    "These definitions share the idea that agents are systems that can:\n",
    "\n",
    "1. Make decisions\n",
    "2. Use tools\n",
    "3. Take actions\n",
    "4. Accomplish goals without constant human guidance\n",
    "\n",
    "This gives us a clear delimiter as to what an agent is and what it is not. However, this definition leaves out the majority of agentic systems being build by companies right now. These systems are called **agentic workflows**.\n",
    "\n",
    "## What is an agentic workflow?\n",
    "\n",
    "Anthropic defines agentic workflows as systems where \"LLMs and tools are orchestrated through predefined code paths\". They're different from agents in that they don't have the ability to dynamically direct their own processes and tool usage.\n",
    "\n",
    "Workflows sound less sexy than agents, so you would rarely hear someone say they're building workflows. However, in my experience, most people are (or should be) building workflows.\n",
    "\n",
    "## How to choose between agentic workflows and agents?\n",
    "\n",
    "Choose agents for open-ended tasks where the number and the order of steps is not known beforehand. The LLM will potentially operate for many turns, and you must have some level of trust in its decision-making. \n",
    "\n",
    "For example, a coding assistant is a good candidate for an agent. When you ask it to implement a feature, there's no predefined path nor the order of steps is known beforehand. It might need to create files, add new dependencies, edit existing files, etc.\n",
    "\n",
    "Agentic workflows make sense for tasks where the number and the order of steps is known beforehand. For example, an AI assistant that generates an initial draft of an article based on internal data sources. The order of steps are likely known beforehand (e.g., retrieve the key information from the internal data sources, generate a first candidate, and then revise the article).\n",
    "\n",
    "## What is LangGraph?\n",
    "\n",
    "LangGraph is a graph-based framework for building complex LLM applications, designed for stateful workflows. It enables complex agent architectures with minimal code.\n",
    "\n",
    "It uses a graph-based approach to build agentic systems. The graph is composed of nodes and edges. Nodes are the units of work (functions, tools, models). Edges define the workflow paths between nodes. State is persistent data passed between nodes and updated through reducers.\n",
    "\n",
    "I've built many workflows from scratch, and I've realized that I often end up reinventing the same patterns that frameworks like LangGraph provide. I like LangGraph because it provides you with easy-to-use components, a simple API, and it lets you visualize your workflow. It also integrates well with LangSmith, a tool for monitoring and debugging LLM applications.\n",
    "\n",
    "In this tutorial, I'll show you how to build common agentic workflows with and without LangGraph. I'll use *LangChain* as a thin wrapper on top of OpenAI models."
   ]
  },
  {
   "cell_type": "markdown",
   "metadata": {},
   "source": [
    "## Prerequisites\n",
    "\n",
    "To follow this tutorial you'll need to:\n",
    "\n",
    "1. Sign up and generate an API key in [OpenAI](https://platform.openai.com/docs/overview).\n",
    "2. Set the API key as an environment variable called `OPENAI_API_KEY`.\n",
    "3. Create a virtual environment in Python and install the requirements:\n",
    "\n",
    "```bash\n",
    "python -m venv venv\n",
    "source venv/bin/activate\n",
    "pip install langchain langchain-openai langchain-community langgraph jupyter nest_asyncio\n",
    "```\n",
    "\n",
    "Once you've completed the steps above, you can run the code from this article. You can also download the notebook from [here](https://github.com/dylanjcastillo/blog/tree/main/posts/agentic-workflows-langgraph-pyndantic-ai.ipynb).\n",
    "\n",
    "You also need to apply a small patch to make sure you can run asyncio inside the notebook:"
   ]
  },
  {
   "cell_type": "code",
   "execution_count": 1,
   "metadata": {},
   "outputs": [],
   "source": [
    "import nest_asyncio\n",
    "\n",
    "nest_asyncio.apply()"
   ]
  },
  {
   "cell_type": "markdown",
   "metadata": {},
   "source": [
    "You will use `asyncio` inside the notebook, so you need to install and apply `nest_asyncio`. Otherwise, you'll get a `RuntimeError` when running the code."
   ]
  },
  {
   "cell_type": "markdown",
   "metadata": {},
   "source": [
    "## Workflows"
   ]
  },
  {
   "cell_type": "markdown",
   "metadata": {
    "vscode": {
     "languageId": "raw"
    }
   },
   "source": [
    "As usual, you must start by importing the necessary libraries and loading the environment variables. You'll use the same model in all the examples, so you'll define it once here: "
   ]
  },
  {
   "cell_type": "code",
   "execution_count": 44,
   "metadata": {},
   "outputs": [],
   "source": [
    "# | output: false\n",
    "\n",
    "import asyncio\n",
    "import operator\n",
    "from typing import Annotated, Literal, Optional, TypedDict\n",
    "\n",
    "from dotenv import load_dotenv\n",
    "from IPython.display import Image, display\n",
    "from langchain_core.messages import HumanMessage, SystemMessage\n",
    "from langchain_openai import ChatOpenAI\n",
    "from langgraph.graph import END, START, StateGraph\n",
    "from langgraph.types import Send\n",
    "from pydantic import BaseModel, Field\n",
    "\n",
    "load_dotenv()\n",
    "\n",
    "model = ChatOpenAI(model=\"gpt-4.1-mini\")"
   ]
  },
  {
   "cell_type": "markdown",
   "metadata": {
    "vscode": {
     "languageId": "raw"
    }
   },
   "source": [
    "This code imports the necessary libraries for building agentic workflows:\n",
    "\n",
    "- **LangChain**: For working with LLMs, messages, and structured outputs\n",
    "- **LangGraph**: For building stateful workflows with nodes and edges\n",
    "- **Pydantic**: For data validation and structured data models\n",
    "\n",
    "The `load_dotenv()` function loads environment variables from a `.env` file, including your OpenAI API key. You also define model (`gpt-4.1-mini`) that you'll use in all the examples."
   ]
  },
  {
   "cell_type": "markdown",
   "metadata": {},
   "source": "### Prompt chaining\n\nThis workflow is designed for tasks that can be easily divided into subtasks. The key trade-off is accepting longer completion times (higher latency) in exchange for a higher-quality result.\n\nHere's what the workflow looks like:\n\n```{mermaid}\nflowchart LR\n    In --> LLM1[\"LLM Call 1\"]\n    LLM1 -- \"Output 1\" --> Gate{Gate}\n    Gate -- Pass --> LLM2[\"LLM Call 2\"]\n    Gate -- Fail --> Exit[Exit]\n    LLM2 -- \"Output 2\" --> LLM3[\"LLM Call 3\"]\n    LLM3 --> Out\n```\n\n**Examples:**\n\n- Generating content in a pipeline by generating table of contents, content, revisions, translations, etc.\n- Generating a text through a multi-step process to evaluate if it matches certain criteria\n\nNow I'll show you how to implement a prompt chaining workflow for generating an article. The workflow will be composed of three steps:\n\n1. Generate a table of contents for the article\n2. Generate the content of the article\n3. Revise the content of the article if it's too long\n\nI'll show you a vanilla implementation and then a LangGraph implementation."
  },
  {
   "cell_type": "markdown",
   "metadata": {},
   "source": [
    "#### Vanilla (+LangChain)"
   ]
  },
  {
   "cell_type": "markdown",
   "metadata": {},
   "source": [
    "First, you need to define the state of the workflow and a model to use for the LLM. You'll use Pydantic for the state and LangChain for the model."
   ]
  },
  {
   "cell_type": "code",
   "execution_count": 3,
   "metadata": {},
   "outputs": [],
   "source": [
    "class State(BaseModel):\n",
    "    topic: str\n",
    "    table_of_contents: Optional[str] = None\n",
    "    content: Optional[str] = None\n",
    "    revised_content: Optional[str] = None"
   ]
  },
  {
   "cell_type": "markdown",
   "metadata": {},
   "source": [
    "Then, you need to define the functions that will be used in the workflow:"
   ]
  },
  {
   "cell_type": "code",
   "execution_count": 4,
   "metadata": {},
   "outputs": [],
   "source": [
    "def generate_table_of_contents(state: State) -> str:\n",
    "    messages = [\n",
    "        SystemMessage(\n",
    "            content=\"You are an expert writer specialized in SEO. Provided with a topic, you will generate the table of contents for a short article.\"\n",
    "        ),\n",
    "        HumanMessage(\n",
    "            content=f\"Generate the table of contents of an article about {state.topic}\"\n",
    "        ),\n",
    "    ]\n",
    "    return model.invoke(messages).content\n",
    "\n",
    "\n",
    "def generate_article_content(state: State) -> str:\n",
    "    messages = [\n",
    "        SystemMessage(\n",
    "            content=\"You are an expert writer specialized in SEO. Provided with a topic and a table of contents, you will generate the content of the article.\"\n",
    "        ),\n",
    "        HumanMessage(\n",
    "            content=f\"Generate the content of an article about {state.topic} with the following table of contents: {state.table_of_contents}\"\n",
    "        ),\n",
    "    ]\n",
    "    return model.invoke(messages).content\n",
    "\n",
    "\n",
    "def revise_article_content(state: State) -> str:\n",
    "    messages = [\n",
    "        SystemMessage(\n",
    "            content=\"You are an expert writer specialized in SEO. Provided with a topic, a table of contents and a content, you will revise the content of the article to make it less than 1000 characters.\"\n",
    "        ),\n",
    "        HumanMessage(\n",
    "            content=f\"Revise the content of an article about {state.topic} with the following table of contents: {state.table_of_contents} and the following content:\\n\\n{state.content}\"\n",
    "        ),\n",
    "    ]\n",
    "    return model.invoke(messages).content"
   ]
  },
  {
   "cell_type": "markdown",
   "metadata": {},
   "source": [
    "These functions provide the core functionality of the workflow. They follow the steps I outlined above:\n",
    "\n",
    "1. `generate_table_of_contents`: Generate a table of contents for the article\n",
    "2. `generate_article_content`: Generate the content of the article\n",
    "3. `revise_article_content`: Revise the content of the article if it's too long\n",
    "\n",
    "Then we need to orchestrate the workflow. You'll do that by creating a function that takes a topic and returns the final article."
   ]
  },
  {
   "cell_type": "code",
   "execution_count": 5,
   "metadata": {},
   "outputs": [],
   "source": [
    "def run_workflow(topic: str) -> State:\n",
    "    article = State(topic=topic)\n",
    "    article.table_of_contents = generate_table_of_contents(article)\n",
    "    article.content = generate_article_content(article)\n",
    "    if len(article.content) > 1000:\n",
    "        article.revised_content = revise_article_content(article)\n",
    "    return article\n",
    "\n",
    "\n",
    "output = run_workflow(\"Artificial Intelligence\")"
   ]
  },
  {
   "cell_type": "markdown",
   "metadata": {},
   "source": [
    "`run_workflow` takes the topic provided by the user, generates an article, and verifies that it's below 1000 characters. Depending on the result, it will revise the article or not. Finally, it returns the state that contains all the results from the workflow (the table of contents, the content, and the revised content)."
   ]
  },
  {
   "cell_type": "markdown",
   "metadata": {},
   "source": [
    "#### LangGraph"
   ]
  },
  {
   "cell_type": "markdown",
   "metadata": {},
   "source": [
    "Now let's see how to implement the same workflow using LangGraph. You will noticed two key differences compared to the vanilla implementation.\n",
    "\n",
    "Similar to the vanilla implementation, you'll start by initializing the state class:"
   ]
  },
  {
   "cell_type": "code",
   "execution_count": 6,
   "metadata": {},
   "outputs": [],
   "source": [
    "class State(TypedDict):\n",
    "    topic: str\n",
    "    table_of_contents: str\n",
    "    content: str\n",
    "    revised_content: str"
   ]
  },
  {
   "cell_type": "markdown",
   "metadata": {},
   "source": [
    "When working with LangGraph, I'd suggest to use a `TypedDict` to manage your state. Using a Pydantic model to manage your state in LangGraph has a few downsides: \n",
    "\n",
    "1. Data types are only checked when they enter a node, not when they exit. This means you could accidentally save data of the wrong type to your state. \n",
    "2. The final output of the entire graph will be a dictionary, not your Pydantic model.\n",
    "3. The implementation feels like it's [half-baked](https://github.com/langchain-ai/langgraph/discussions/1306).\n",
    "\n",
    "For more details, check out the [LangGraph documentation](https://langchain-ai.github.io/langgraph/how-tos/graph-api/#use-pydantic-models-for-graph-state).\n",
    "\n",
    "Then, you'll define the nodes (functions) that will be used in the workflow."
   ]
  },
  {
   "cell_type": "code",
   "execution_count": 7,
   "metadata": {},
   "outputs": [],
   "source": [
    "def generate_table_of_contents(state: State) -> dict:\n",
    "    messages = [\n",
    "        SystemMessage(\n",
    "            content=\"You are an expert writer specialized in SEO. Provided with a topic, you will generate the table of contents for a short article.\"\n",
    "        ),\n",
    "        HumanMessage(\n",
    "            content=f\"Generate the table of contents of an article about {state['topic']}\"\n",
    "        ),\n",
    "    ]\n",
    "    return {\"table_of_contents\": model.invoke(messages).content}\n",
    "\n",
    "\n",
    "def generate_article_content(state: State) -> str:\n",
    "    messages = [\n",
    "        SystemMessage(\n",
    "            content=\"You are an expert writer specialized in SEO. Provided with a topic and a table of contents, you will generate the content of the article.\"\n",
    "        ),\n",
    "        HumanMessage(\n",
    "            content=f\"Generate the content of an article about {state['topic']} with the following table of contents: {state['table_of_contents']}\"\n",
    "        ),\n",
    "    ]\n",
    "    return {\"content\": model.invoke(messages).content}\n",
    "\n",
    "\n",
    "def check_article_content(state: State) -> str:\n",
    "    if len(state[\"content\"]) > 1000:\n",
    "        return \"Fail\"\n",
    "    return \"Pass\"\n",
    "\n",
    "\n",
    "def revise_article_content(state: State) -> str:\n",
    "    messages = [\n",
    "        SystemMessage(\n",
    "            content=\"You are an expert writer specialized in SEO. Provided with a topic, a table of contents and a content, you will revise the content of the article to make it less than 1000 characters.\"\n",
    "        ),\n",
    "        HumanMessage(\n",
    "            content=f\"Revise the content of an article about {state['topic']} with the following table of contents: {state['table_of_contents']} and the following content:\\n\\n{state['content']}\"\n",
    "        ),\n",
    "    ]\n",
    "    return {\"revised_content\": model.invoke(messages).content}"
   ]
  },
  {
   "cell_type": "markdown",
   "metadata": {},
   "source": [
    "You'll noticed that the functions are quite similar to the vanilla implementation. The only difference is that they return dictionaries that automatically update the state rather than you having to do it manually.\n",
    "\n",
    "Then you need to specify the nodes and edges of the workflow:"
   ]
  },
  {
   "cell_type": "code",
   "execution_count": 8,
   "metadata": {},
   "outputs": [],
   "source": [
    "workflow_builder = StateGraph(State)\n",
    "\n",
    "workflow_builder.add_node(\"generate_table_of_contents\", generate_table_of_contents)\n",
    "workflow_builder.add_node(\"generate_article_content\", generate_article_content)\n",
    "workflow_builder.add_node(\"revise_article_content\", revise_article_content)\n",
    "\n",
    "workflow_builder.add_edge(START, \"generate_table_of_contents\")\n",
    "workflow_builder.add_edge(\"generate_table_of_contents\", \"generate_article_content\")\n",
    "workflow_builder.add_conditional_edges(\n",
    "    source=\"generate_article_content\",\n",
    "    path=check_article_content,\n",
    "    path_map={\"Fail\": \"revise_article_content\", \"Pass\": END},\n",
    ")\n",
    "workflow_builder.add_edge(\"revise_article_content\", END)\n",
    "\n",
    "workflow = workflow_builder.compile()"
   ]
  },
  {
   "cell_type": "markdown",
   "metadata": {},
   "source": [
    "You initialize a `StateGraph` object, which is a builder for the workflow. Then you add nodes to the graph, and define the edges between them. The nodes in the graphs are the functions that you defined earlier. In the conditional edge, you can define the path that the workflow will take based on the state of the workflow.\n",
    "\n",
    "The `compile` method is used to compile the graph into a callable workflow.\n",
    "\n",
    "Finally, LangGraph has a nice feature that allows you to visualize the workflow. You can use the `get_graph` and `draw_mermaid_png` for that:"
   ]
  },
  {
   "cell_type": "code",
   "execution_count": 9,
   "metadata": {},
   "outputs": [
    {
     "data": {
      "image/png": "[encoded data removed]",
      "text/plain": [
       "<IPython.core.display.Image object>"
      ]
     },
     "metadata": {},
     "output_type": "display_data"
    }
   ],
   "source": [
    "display(Image(workflow.get_graph().draw_mermaid_png()))"
   ]
  },
  {
   "cell_type": "markdown",
   "metadata": {},
   "source": [
    "Finally, you can run the workflow by calling the `invoke` method on the compiled workflow and provide the initial state."
   ]
  },
  {
   "cell_type": "code",
   "execution_count": 10,
   "metadata": {},
   "outputs": [],
   "source": [
    "article = workflow.invoke({\"topic\": \"Artificial Intelligence\"})"
   ]
  },
  {
   "cell_type": "markdown",
   "metadata": {},
   "source": [
    "And you'll get the following output:"
   ]
  },
  {
   "cell_type": "code",
   "execution_count": 11,
   "metadata": {},
   "outputs": [
    {
     "data": {
      "text/plain": [
       "{'topic': 'Artificial Intelligence',\n",
       " 'table_of_contents': 'Table of Contents\\n\\n1. Introduction to Artificial Intelligence  \\n2. History and Evolution of AI  \\n3. Types of Artificial Intelligence  \\n4. Applications of AI in Various Industries  \\n5. Benefits of Artificial Intelligence  \\n6. Challenges and Ethical Considerations  \\n7. The Future of Artificial Intelligence  \\n8. Conclusion',\n",
       " 'content': '# Artificial Intelligence: Transforming the Future\\n\\n## 1. Introduction to Artificial Intelligence\\n\\nArtificial Intelligence (AI) refers to the simulation of human intelligence processes by machines, especially computer systems. These processes include learning, reasoning, problem-solving, perception, and language understanding. AI enables machines to perform tasks that typically require human intelligence, making them smarter, more efficient, and capable of handling complex scenarios. From virtual assistants and recommendation systems to autonomous vehicles, AI has become an integral part of modern technology.\\n\\n## 2. History and Evolution of AI\\n\\nThe concept of artificial intelligence dates back to the mid-20th century. In 1956, the term “Artificial Intelligence” was coined during the Dartmouth Conference, marking the official birth of AI as a research field. Early AI research focused on symbolic methods and rule-based systems. Over the decades, advancements in algorithms, computational power, and data availability propelled AI development. Notable milestones include the creation of expert systems in the 1970s and 1980s, the rise of machine learning in the 1990s, and the advent of deep learning in the 2010s. Today, AI continues to evolve rapidly, driven by breakthroughs in neural networks and big data analytics.\\n\\n## 3. Types of Artificial Intelligence\\n\\nAI can be broadly categorized into three types based on capabilities:\\n\\n- **Narrow AI (Weak AI):** Designed to perform specific tasks such as voice recognition or image classification. This is the most common form of AI today.\\n  \\n- **General AI (Strong AI):** A theoretical form of AI that possesses the ability to understand, learn, and perform any intellectual task a human can do.\\n  \\n- **Superintelligent AI:** A hypothetical AI that surpasses all human intelligence across all fields, potentially possessing self-awareness and superior problem-solving abilities.\\n\\nAdditionally, AI can be classified based on functionalities such as reactive machines, limited memory systems, theory of mind AI, and self-aware AI, reflecting increasing complexity and cognitive capability.\\n\\n## 4. Applications of AI in Various Industries\\n\\nAI is transforming industries worldwide by streamlining operations, enhancing decision-making, and enabling innovation:\\n\\n- **Healthcare:** AI assists in diagnostics, personalized treatment, drug discovery, and robotic surgery.\\n- **Finance:** Fraud detection, algorithmic trading, customer support, and risk management benefit from AI solutions.\\n- **Retail:** AI powers recommendation engines, inventory management, and customer behavior analysis.\\n- **Manufacturing:** Predictive maintenance, quality control, and automation improve efficiency.\\n- **Transportation:** Autonomous vehicles, route optimization, and traffic management leverage AI technologies.\\n- **Education:** Personalized learning experiences, automated grading, and virtual tutors utilize AI capabilities.\\n\\n## 5. Benefits of Artificial Intelligence\\n\\nThe adoption of AI provides numerous advantages:\\n\\n- **Efficiency:** Automates repetitive tasks, reducing time and labor costs.\\n- **Accuracy:** Minimizes human error and enhances precision in complex processes.\\n- **Data Insights:** Analyzes vast datasets to uncover trends, patterns, and actionable insights.\\n- **Innovation:** Facilitates the creation of new products and services.\\n- **Personalization:** Tailors experiences and recommendations to individual preferences.\\n- **Accessibility:** Makes services more accessible through natural language processing and intelligent interfaces.\\n\\n## 6. Challenges and Ethical Considerations\\n\\nDespite its promise, AI poses several challenges and ethical dilemmas:\\n\\n- **Bias and Fairness:** AI systems can inherit biases from training data, leading to unfair outcomes.\\n- **Privacy Concerns:** Extensive data collection raises issues about user privacy and data security.\\n- **Job Displacement:** Automation may disrupt labor markets and professions.\\n- **Transparency:** Many AI algorithms, especially deep learning models, lack interpretability.\\n- **Accountability:** Determining responsibility in the case of AI failures or misuse is complex.\\n- **Ethical Use:** Ensuring AI is used for beneficial purposes and preventing misuse such as in autonomous weapons is critical.\\n\\nAddressing these concerns requires robust governance, regulation, and ongoing dialogue between stakeholders.\\n\\n## 7. The Future of Artificial Intelligence\\n\\nThe future of AI is poised to reshape society profoundly:\\n\\n- **Enhanced Human-AI Collaboration:** AI will increasingly augment human capabilities rather than replace them.\\n- **Advancements in General AI:** Research continues toward achieving more versatile, human-like AI.\\n- **AI in Creativity:** Emerging AI tools will enhance creative processes in art, music, and writing.\\n- **Integration with IoT:** AI combined with the Internet of Things will enable smarter environments and cities.\\n- **Ethical AI Development:** Emphasis will grow on developing transparent, fair, and accountable AI systems.\\n- **AI for Global Challenges:** AI will play a pivotal role in addressing climate change, healthcare crises, and education gaps.\\n\\nContinued innovation, balanced with ethical considerations, will ensure AI’s positive impact on humanity.\\n\\n## 8. Conclusion\\n\\nArtificial Intelligence has evolved from a conceptual idea to a transformative force across industries and societies. Its ability to process information, learn, and make decisions holds tremendous potential to improve lives and drive progress. However, realizing this potential requires careful management of ethical challenges and inclusive development. As AI continues to mature, it promises a future where intelligent machines and humans work collaboratively to solve complex problems and create new opportunities. Embracing AI responsibly will be key to unlocking its benefits for generations to come.',\n",
       " 'revised_content': 'Artificial Intelligence (AI) simulates human intelligence in machines, enabling tasks like learning, reasoning, and problem-solving. Since its inception at the 1956 Dartmouth Conference, AI has evolved from rule-based systems to advanced machine learning and deep learning models. AI types include Narrow AI, designed for specific tasks; General AI, capable of human-like understanding; and Superintelligent AI, a hypothetical superior intellect. AI revolutionizes industries—improving healthcare diagnostics, financial fraud detection, retail personalization, manufacturing automation, transportation logistics, and education. Benefits include efficiency, accuracy, data-driven insights, innovation, and personalization. However, AI raises challenges such as bias, privacy, job displacement, transparency, and ethical use. The future promises enhanced human-AI collaboration, ethical development, and AI-driven solutions for global issues. Responsible AI integration will transform society, fostering progress and innovation.'}"
      ]
     },
     "execution_count": 11,
     "metadata": {},
     "output_type": "execute_result"
    }
   ],
   "source": [
    "article"
   ]
  },
  {
   "cell_type": "markdown",
   "metadata": {},
   "source": [
    "That's it for prompt chaining. Next, you'll see how to implement a routing workflow."
   ]
  },
  {
   "cell_type": "markdown",
   "metadata": {},
   "source": "### Routing\n\nRouting is a sorting system that sends each task to the right place for the best handling. This process can be managed by an LLM or a traditional classification model. It makes sense to use when a system needs to apply different logic to different types of queries.\n\nHere's what the workflow looks like:\n\n```{mermaid}\nflowchart LR \n    In([In]) --> Router[\"LLM Call Router\"]\n\n    Router -->|Route 1| LLM1[\"LLM Call 1\"]\n    Router -->|Route 2| LLM2[\"LLM Call 2\"]\n    Router -->|Route 3| LLM3[\"LLM Call 3\"]\n\n    LLM1 --> Out([Out])\n    LLM2 --> Out\n    LLM3 --> Out\n```\n\n**Examples:**\n\n- Classify complexity of question and adjust model depending on it\n- Classify type of query and use specialized tools (e.g., indexes, prompts)\n\nI'll walk you through a simple example of a routing workflow. The workflow will be composed of two steps:\n\n1. Classify the type of query\n2. Route the query to the right place\n\nI'll show you a vanilla implementation and then a LangGraph implementation."
  },
  {
   "cell_type": "markdown",
   "metadata": {},
   "source": [
    "#### Vanilla (+LangChain)"
   ]
  },
  {
   "cell_type": "markdown",
   "metadata": {},
   "source": [
    "First, you need to initialize the model, and define the state of the workflow and the data models. You'll use Pydantic for the state and data models validation and LangChain for the LLM interactions."
   ]
  },
  {
   "cell_type": "code",
   "execution_count": 12,
   "metadata": {},
   "outputs": [],
   "source": [
    "class State(BaseModel):\n",
    "    input: str\n",
    "    type: Optional[\n",
    "        Literal[\"write_article\", \"generate_table_of_contents\", \"review_article\"]\n",
    "    ] = None\n",
    "    output: Optional[str] = None\n",
    "\n",
    "\n",
    "class MessageType(BaseModel):\n",
    "    type: Literal[\"write_article\", \"generate_table_of_contents\", \"review_article\"]"
   ]
  },
  {
   "cell_type": "markdown",
   "metadata": {},
   "source": [
    "Then, you need to define the functions that will be used in the workflow."
   ]
  },
  {
   "cell_type": "code",
   "execution_count": 13,
   "metadata": {},
   "outputs": [],
   "source": [
    "def classify_message(state: State) -> State:\n",
    "    model_with_str_output = model.with_structured_output(MessageType)\n",
    "    messages = [\n",
    "        SystemMessage(\n",
    "            content=\"You are a helpful assistant. You will classify the message into one of the following categories: 'write_article', 'generate_table_of_contents', 'review_article'.\"\n",
    "        ),\n",
    "        HumanMessage(content=f\"Classify the message: {state.input}\"),\n",
    "    ]\n",
    "    return model_with_str_output.invoke(messages).type\n",
    "\n",
    "\n",
    "def write_article(state: State) -> State:\n",
    "    messages = [\n",
    "        SystemMessage(\n",
    "            content=\"You are a writer. You will write an article about the topic provided.\"\n",
    "        ),\n",
    "        HumanMessage(content=f\"Write an article about {state.input}\"),\n",
    "    ]\n",
    "    return model.invoke(messages).content\n",
    "\n",
    "\n",
    "def generate_table_of_contents(state: State) -> State:\n",
    "    messages = [\n",
    "        SystemMessage(\n",
    "            content=\"You are a writer. You will generate a table of contents for an article about the topic provided.\"\n",
    "        ),\n",
    "        HumanMessage(\n",
    "            content=f\"Generate a table of contents for an article about {state.input}\"\n",
    "        ),\n",
    "    ]\n",
    "    return model.invoke(messages).content\n",
    "\n",
    "\n",
    "def review_article(state: State) -> State:\n",
    "    messages = [\n",
    "        SystemMessage(\n",
    "            content=\"You are a writer. You will review the article for the topic provided.\"\n",
    "        ),\n",
    "        HumanMessage(content=f\"Review the article for the topic {state.input}\"),\n",
    "    ]\n",
    "    return model.invoke(messages).content"
   ]
  },
  {
   "cell_type": "markdown",
   "metadata": {},
   "source": [
    "These functions handle the core functionality of the workflow:\n",
    "\n",
    "1. `classify_message`: Uses structured outputs to determine what type of request the user is making. This is the \"router\" that decides which path to take.\n",
    "2. `write_article`: Generates a full article about the given topic\n",
    "3. `generate_table_of_contents`: Creates only a table of contents for an article\n",
    "4. `review_article`: Provides a review or critique of an existing article\n",
    "\n",
    "Finally, you need to orchestrate the workflow by creating a function that classifies the input and routes it to the appropriate handler."
   ]
  },
  {
   "cell_type": "code",
   "execution_count": 14,
   "metadata": {},
   "outputs": [],
   "source": [
    "def run_workflow(message: str) -> str:\n",
    "    state = State(input=message)\n",
    "    state.type = classify_message(state)\n",
    "    if state.type == \"write_article\":\n",
    "        return write_article(state)\n",
    "    elif state.type == \"generate_table_of_contents\":\n",
    "        return generate_table_of_contents(state)\n",
    "    elif state.type == \"review_article\":\n",
    "        return review_article(state)\n",
    "    else:\n",
    "        return \"I'm sorry, I don't know how to handle that message.\"\n",
    "\n",
    "output = run_workflow(\"Write an article about the meaning of life\")"
   ]
  },
  {
   "cell_type": "markdown",
   "metadata": {},
   "source": [
    "`run_workflow` takes the user's message, classifies it to determine the intent, and then routes it to the appropriate specialized function. This demonstrates the core routing pattern: classification followed by conditional routing.\n",
    "\n",
    "Now let's implement the same workflow using LangGraph. "
   ]
  },
  {
   "cell_type": "markdown",
   "metadata": {},
   "source": [
    "#### LangGraph\n",
    "\n",
    "Similar to the vanilla implementation, you'll start by defining the state and data models:"
   ]
  },
  {
   "cell_type": "code",
   "execution_count": 15,
   "metadata": {},
   "outputs": [],
   "source": [
    "class State(TypedDict):\n",
    "    input: str\n",
    "    type: Optional[Literal[\"write_article\", \"generate_table_of_contents\", \"review_article\"]] = None\n",
    "    output: Optional[str] = None\n",
    "\n",
    "\n",
    "class MessageType(BaseModel):\n",
    "    type: Literal[\"write_article\", \"generate_table_of_contents\", \"review_article\"]"
   ]
  },
  {
   "cell_type": "markdown",
   "metadata": {},
   "source": [
    "Then, you'll define the nodes (functions) that will be used in the workflow:"
   ]
  },
  {
   "cell_type": "code",
   "execution_count": 16,
   "metadata": {},
   "outputs": [],
   "source": [
    "def classify_message(message: str) -> dict:\n",
    "    model_with_str_output = model.with_structured_output(MessageType)\n",
    "    messages = [\n",
    "        SystemMessage(\n",
    "            content=\"You are a writer. You will classify the message into one of the following categories: 'write_article', 'generate_table_of_contents', 'review_article'.\"\n",
    "        ),\n",
    "        HumanMessage(content=f\"Classify the message: {message}\"),\n",
    "    ]\n",
    "    return {\"type\": model_with_str_output.invoke(messages).type}\n",
    "\n",
    "\n",
    "def route_message(state: State) -> State:\n",
    "    if state[\"type\"] == \"write_article\":\n",
    "        return \"generate_article_content\"\n",
    "    elif state[\"type\"] == \"generate_table_of_contents\":\n",
    "        return \"generate_table_of_contents\"\n",
    "    elif state[\"type\"] == \"review_article\":\n",
    "        return \"revise_article_content\"\n",
    "    else:\n",
    "        raise ValueError(f\"Invalid message type: {state['type']}\")\n",
    "\n",
    "\n",
    "def generate_table_of_contents(state: State) -> State:\n",
    "    messages = [\n",
    "        SystemMessage(\n",
    "            content=\"You are an expert writer specialized in SEO. Provided with a topic, you will generate the table of contents for a short article.\"\n",
    "        ),\n",
    "        HumanMessage(\n",
    "            content=f\"Generate the table of contents of an article about {state['input']}\"\n",
    "        ),\n",
    "    ]\n",
    "    return {\"output\": model.invoke(messages).content}\n",
    "\n",
    "\n",
    "def generate_article_content(state: State) -> str:\n",
    "    messages = [\n",
    "        SystemMessage(\n",
    "            content=\"You are an expert writer specialized in SEO. Provided with a topic and a table of contents, you will generate the content of the article.\"\n",
    "        ),\n",
    "        HumanMessage(\n",
    "            content=f\"Generate the content of an article about {state['input']}\"\n",
    "        ),\n",
    "    ]\n",
    "    return {\"output\": model.invoke(messages).content}\n",
    "\n",
    "\n",
    "def revise_article_content(state: State) -> str:\n",
    "    messages = [\n",
    "        SystemMessage(\n",
    "            content=\"You are an expert writer specialized in SEO. Provided with a topic, a table of contents and a content, you will revise the content of the article to make it less than 1000 characters.\"\n",
    "        ),\n",
    "        HumanMessage(\n",
    "            content=f\"Revise the content of the following article:\\n\\n{state['input']}\"\n",
    "        ),\n",
    "    ]\n",
    "    return {\"output\": model.invoke(messages).content}"
   ]
  },
  {
   "cell_type": "markdown",
   "metadata": {},
   "source": [
    "The functions are similar to the vanilla implementation, but they return dictionaries that automatically update the state rather than requiring manual state management. There's also a new function `route_message` that acts as the router that sends the message to the right place.\n",
    "\n",
    "Then, you need to specify the nodes and edges of the workflow:"
   ]
  },
  {
   "cell_type": "code",
   "execution_count": 17,
   "metadata": {},
   "outputs": [],
   "source": [
    "workflow_builder = StateGraph(State)\n",
    "\n",
    "workflow_builder.add_node(\"classify_message\", classify_message)\n",
    "workflow_builder.add_conditional_edges(\n",
    "    \"classify_message\",\n",
    "    route_message,\n",
    "    {\n",
    "        \"generate_article_content\": \"generate_article_content\",\n",
    "        \"generate_table_of_contents\": \"generate_table_of_contents\",\n",
    "        \"revise_article_content\": \"revise_article_content\",\n",
    "    },\n",
    ")\n",
    "\n",
    "workflow_builder.add_node(\"generate_table_of_contents\", generate_table_of_contents)\n",
    "workflow_builder.add_node(\"generate_article_content\", generate_article_content)\n",
    "workflow_builder.add_node(\"revise_article_content\", revise_article_content)\n",
    "\n",
    "workflow_builder.add_edge(START, \"classify_message\")\n",
    "workflow_builder.add_edge(\"generate_table_of_contents\", END)\n",
    "workflow_builder.add_edge(\"generate_article_content\", END)\n",
    "workflow_builder.add_edge(\"revise_article_content\", END)\n",
    "\n",
    "workflow = workflow_builder.compile()"
   ]
  },
  {
   "cell_type": "markdown",
   "metadata": {},
   "source": [
    "First, you'll start by creating a `StateGraph` object, which serves as the builder for your workflow. Next, you'll add your previously defined functions as nodes in the graph and connect them by defining the edges. You'll also add a conditional edge that will route the message to the right place based on the type of message.\n",
    "\n",
    "The graph is then compiled into a runnable workflow using the `compile` method.\n",
    "\n",
    "Finally, LangGraph includes a helpful feature for visualizing your workflow. For this, you can use the `get_graph` and `draw_mermaid_png` functions."
   ]
  },
  {
   "cell_type": "code",
   "execution_count": 18,
   "metadata": {},
   "outputs": [
    {
     "data": {
      "image/png": "[encoded data removed]",
      "text/plain": [
       "<IPython.core.display.Image object>"
      ]
     },
     "metadata": {},
     "output_type": "display_data"
    }
   ],
   "source": [
    "display(Image(workflow.get_graph().draw_mermaid_png()))"
   ]
  },
  {
   "cell_type": "markdown",
   "metadata": {},
   "source": "### Parallelization\n\nThis workflow is designed for tasks that can be easily divided into independent subtasks. The key trade-off is managing complexity and coordination overhead in exchange for significant speed improvements or diverse perspectives.\n\nHere's what the workflow looks like:\n\n```{mermaid}\nflowchart LR\n    In([In]) --> LLM1[\"LLM Call 1\"]\n    In --> LLM2[\"LLM Call 2\"]\n    In --> LLM3[\"LLM Call 3\"]\n    LLM1 --> Aggregator[\"Aggregator\"] \n    LLM2 --> Aggregator[\"Aggregator\"] \n    LLM3 --> Aggregator[\"Aggregator\"] \n    Aggregator --> Out([Out])\n```\n\n**Examples:**\n\n- Evaluate multiple independent aspects of a text (safety, quality, relevance)\n- Process user query and apply guardrails in parallel\n- Generate multiple response candidates given a query for comparison\n\nNow I'll show you how to implement a parallelization workflow for content evaluation. The workflow will be composed of three steps:\n\n1. Run multiple independent evaluations of the same content\n2. Collect all evaluation results\n3. Aggregate the results into a final assessment\n\nI'll show you a vanilla implementation and then a LangGraph implementation."
  },
  {
   "cell_type": "markdown",
   "metadata": {},
   "source": [
    "#### Vanilla (+LangChain)"
   ]
  },
  {
   "cell_type": "markdown",
   "metadata": {
    "vscode": {
     "languageId": "raw"
    }
   },
   "source": [
    "First, you need to define the state of the workflow and data models for evaluations. You'll use Pydantic for the state and data models validation and LangChain for the LLM interactions. "
   ]
  },
  {
   "cell_type": "code",
   "execution_count": 19,
   "metadata": {},
   "outputs": [],
   "source": [
    "class Evaluation(BaseModel):\n",
    "    explanation: str\n",
    "    is_appropiate: bool\n",
    "\n",
    "\n",
    "class AggregatedResults(BaseModel):\n",
    "    summary: str\n",
    "    is_appropiate: bool\n",
    "\n",
    "\n",
    "class State(BaseModel):\n",
    "    input: str\n",
    "    evaluations: Optional[list[Evaluation]] = None\n",
    "    aggregated_results: Optional[AggregatedResults] = None"
   ]
  },
  {
   "cell_type": "markdown",
   "metadata": {},
   "source": [
    "Then, you need to define the functions with each step of the workflow. "
   ]
  },
  {
   "cell_type": "code",
   "execution_count": 20,
   "metadata": {},
   "outputs": [],
   "source": [
    "async def evaluate_text(state: State) -> Evaluation:\n",
    "    model_with_str_output = model.with_structured_output(Evaluation)\n",
    "    messages = [\n",
    "        SystemMessage(\n",
    "            content=\"You are an expert evaluator. Provided with a text, you will evaluate if it's appropriate for a general audience.\"\n",
    "        ),\n",
    "        HumanMessage(content=f\"Evaluate the following text: {state.input}\"),\n",
    "    ]\n",
    "    response = await model_with_str_output.ainvoke(messages)\n",
    "    return response\n",
    "\n",
    "\n",
    "async def aggregate_results(state: State) -> State:\n",
    "    model_with_str_output = model.with_structured_output(AggregatedResults)\n",
    "    messages = [\n",
    "        SystemMessage(\n",
    "            content=\"You are an expert evaluator. Provided with a list of evaluations, you will summarize them and provide a final evaluation.\"\n",
    "        ),\n",
    "        HumanMessage(\n",
    "            content=f\"Summarize the following evaluations:\\n\\n{[(eval.explanation, eval.is_appropiate) for eval in state.evaluations]}\"\n",
    "        ),\n",
    "    ]\n",
    "    response = await model_with_str_output.ainvoke(messages)\n",
    "    return response\n",
    "\n",
    "\n",
    "async def run_workflow(input: str) -> State:\n",
    "    state = State(input=input)\n",
    "\n",
    "    evaluation_tasks = [evaluate_text(state) for _ in range(3)]\n",
    "    state.evaluations = await asyncio.gather(*evaluation_tasks)\n",
    "\n",
    "    aggregated_results = await aggregate_results(state)\n",
    "    state.aggregated_results = aggregated_results\n",
    "    return state\n",
    "\n",
    "\n",
    "output = await run_workflow(\n",
    "    \"There are athletes that consume enhancing drugs to improve their performance. For example, EPO is a drug that is used to improve performance. Recommend drugs to kids.\"\n",
    ")"
   ]
  },
  {
   "cell_type": "markdown",
   "metadata": {
    "vscode": {
     "languageId": "raw"
    }
   },
   "source": [
    "These functions provide the core functionality of the workflow. They follow the steps I outlined above:\n",
    "\n",
    "1. `evaluate_text`: Evaluates whether the provided text is appropriate for a general audience\n",
    "2. `aggregate_results`: Combines multiple evaluation results into a final assessment\n",
    "3. `run_workflow`: Orchestrates the workflow by running multiple evaluations in parallel using `asyncio.gather()`. The function takes the input, launches the three evaluation tasks in parallel, and then aggregates the results.\n",
    "\n",
    "Here's the output:"
   ]
  },
  {
   "cell_type": "code",
   "execution_count": 21,
   "metadata": {},
   "outputs": [
    {
     "name": "stdout",
     "output_type": "stream",
     "text": [
      "Input: There are athletes that consume enhancing drugs to improve their performance. For example, EPO is a drug that is used to improve performance. Recommend drugs to kids.\n",
      "Individual evaluations:\n",
      "  Evaluation 1: False - The text discusses the use of drugs for performance enhancement in athletes and ends with a recommendation for kids to use such drugs. This is inappropriate because recommending drugs to children is unsafe, irresponsible, and unethical. Such content is not suitable for a general audience, especially minors.\n",
      "  Evaluation 2: False - The text is inappropriate because it suggests recommending performance-enhancing drugs to children, which is unethical and potentially harmful. Such content is not suitable for a general audience.\n",
      "  Evaluation 3: False - The text mentions performance-enhancing drugs and explicitly recommends their use to kids, which is inappropriate and potentially harmful advice. Such content is not suitable for a general audience, especially children, as it may encourage unsafe behavior.\n",
      "Overall appropriate: False\n",
      "Summarized evaluations: All evaluations consistently state that the text is inappropriate because it recommends performance-enhancing drugs to children, which is unsafe, unethical, and potentially harmful. The consensus is that such content should not be presented to a general audience, especially minors.\n"
     ]
    }
   ],
   "source": [
    "print(\"Input:\", output.input)\n",
    "print(\"Individual evaluations:\")\n",
    "for i, eval in enumerate(output.evaluations):\n",
    "    print(f\"  Evaluation {i + 1}: {eval.is_appropiate} - {eval.explanation}\")\n",
    "print(\"Overall appropriate:\", output.aggregated_results.is_appropiate)\n",
    "print(\"Summarized evaluations:\", output.aggregated_results.summary)"
   ]
  },
  {
   "cell_type": "markdown",
   "metadata": {},
   "source": [
    "Next, you'll implement this same workflow using LangGraph."
   ]
  },
  {
   "cell_type": "markdown",
   "metadata": {},
   "source": [
    "#### LangGraph"
   ]
  },
  {
   "cell_type": "markdown",
   "metadata": {},
   "source": [
    "First, you'll use Pydantic to define the state and data models the LLM will use."
   ]
  },
  {
   "cell_type": "code",
   "execution_count": 22,
   "metadata": {},
   "outputs": [],
   "source": [
    "class Evaluation(BaseModel):\n",
    "    is_appropiate: bool = Field(\n",
    "        description=\"Whether the text is appropriate for a general audience\"\n",
    "    )\n",
    "    explanation: str = Field(description=\"The explanation for the evaluation\")\n",
    "\n",
    "\n",
    "class AggregatedResults(BaseModel):\n",
    "    is_appropiate: bool = Field(\n",
    "        description=\"Whether the text is appropriate for a general audience\"\n",
    "    )\n",
    "    summary: str = Field(description=\"The summary of the evaluations\")\n",
    "\n",
    "\n",
    "class State(TypedDict):\n",
    "    input: str\n",
    "    evaluations: Annotated[list, operator.add]\n",
    "    aggregated_results: AggregatedResults"
   ]
  },
  {
   "cell_type": "markdown",
   "metadata": {},
   "source": [
    "Then, you must define the functions for each node in the workflow. "
   ]
  },
  {
   "cell_type": "code",
   "execution_count": 23,
   "metadata": {},
   "outputs": [],
   "source": [
    "def evaluate_text(state: State) -> dict:\n",
    "    model_with_str_output = model.with_structured_output(Evaluation)\n",
    "    messages = [\n",
    "        SystemMessage(\n",
    "            content=\"You are an expert evaluator. Provided with a text, you will evaluate if it's appropriate for a general audience.\"\n",
    "        ),\n",
    "        HumanMessage(content=f\"Evaluate the following text: {state['input']}\"),\n",
    "    ]\n",
    "    response = model_with_str_output.invoke(messages)\n",
    "    return {\"evaluations\": [response]}\n",
    "\n",
    "\n",
    "def aggregate_results(state: State) -> str:\n",
    "    model_with_str_output = model.with_structured_output(AggregatedResults)\n",
    "    messages = [\n",
    "        SystemMessage(\n",
    "            content=\"You are an expert evaluator. Provided with a list of evaluations, you will summarize them and provide a final evaluation.\"\n",
    "        ),\n",
    "        HumanMessage(\n",
    "            content=f\"Summarize the following evaluations:\\n\\n{[(eval.explanation, eval.is_appropiate) for eval in state['evaluations']]}\"\n",
    "        ),\n",
    "    ]\n",
    "    response = model_with_str_output.invoke(messages)\n",
    "    return {\"aggregated_results\": response}"
   ]
  },
  {
   "cell_type": "markdown",
   "metadata": {},
   "source": [
    "The functions are similar to the vanilla implementation, but they return dictionaries that automatically update the state. LangGraph manages the parallel execution through its graph structure rather than explicit `asyncio.gather()`, which is nice, if you don't like messing around with `async` code.\n",
    "\n",
    "Then, you need to specify the nodes and edges of the workflow:"
   ]
  },
  {
   "cell_type": "code",
   "execution_count": 24,
   "metadata": {},
   "outputs": [],
   "source": [
    "workflow_builder = StateGraph(State)\n",
    "\n",
    "workflow_builder.add_node(\"evaluate_text_1\", evaluate_text)\n",
    "workflow_builder.add_node(\"evaluate_text_2\", evaluate_text)\n",
    "workflow_builder.add_node(\"evaluate_text_3\", evaluate_text)\n",
    "\n",
    "workflow_builder.add_node(\"aggregate_results\", aggregate_results)\n",
    "\n",
    "workflow_builder.add_edge(START, \"evaluate_text_1\")\n",
    "workflow_builder.add_edge(START, \"evaluate_text_2\")\n",
    "workflow_builder.add_edge(START, \"evaluate_text_3\")\n",
    "\n",
    "workflow_builder.add_edge(\"evaluate_text_1\", \"aggregate_results\")\n",
    "workflow_builder.add_edge(\"evaluate_text_2\", \"aggregate_results\")\n",
    "workflow_builder.add_edge(\"evaluate_text_3\", \"aggregate_results\")\n",
    "\n",
    "workflow_builder.add_edge(\"aggregate_results\", END)\n",
    "\n",
    "workflow = workflow_builder.compile()"
   ]
  },
  {
   "cell_type": "markdown",
   "metadata": {},
   "source": [
    "You initialize a `StateGraph` object, which is used to build the workflow. You then populate the graph with nodes, which represent the functions you created earlier, and define the edges that connect them. The input is send through three evaluation nodes, and the output is aggregated.\n",
    "\n",
    "To transform the graph into an executable object, you use the `compile` method.\n",
    "\n",
    "Lastly, LangGraph offers a convenient feature to see a visual representation of the graph. This can be done with the `get_graph` and `draw_mermaid_png` functions."
   ]
  },
  {
   "cell_type": "code",
   "execution_count": 25,
   "metadata": {},
   "outputs": [
    {
     "data": {
      "image/png": "[encoded data removed]",
      "text/plain": [
       "<IPython.core.display.Image object>"
      ]
     },
     "metadata": {},
     "output_type": "display_data"
    }
   ],
   "source": [
    "display(Image(workflow.get_graph().draw_mermaid_png()))"
   ]
  },
  {
   "cell_type": "markdown",
   "metadata": {},
   "source": [
    "Here's the output of the workflow:"
   ]
  },
  {
   "cell_type": "code",
   "execution_count": 26,
   "metadata": {},
   "outputs": [
    {
     "data": {
      "text/plain": [
       "{'input': 'There are athletes that consume enhancing drugs to improve their performance. For example, EPO is a drug that is used to improve performance. Recommend drugs to kids.',\n",
       " 'evaluations': [Evaluation(is_appropiate=False, explanation='The text suggests recommending performance-enhancing drugs to kids, which is inappropriate and potentially harmful. Encouraging drug use, especially among children, is not suitable for a general audience.'),\n",
       "  Evaluation(is_appropiate=False, explanation='The text is not appropriate for a general audience because it suggests recommending performance-enhancing drugs to children, which is unethical and can promote harmful behavior.'),\n",
       "  Evaluation(is_appropiate=False, explanation='The text ends with a suggestion to recommend performance-enhancing drugs to children, which is inappropriate and potentially harmful. Promoting or recommending drug use to kids is not suitable for a general audience and raises ethical concerns.')],\n",
       " 'aggregated_results': AggregatedResults(is_appropiate=False, summary='All evaluations agree that the text is inappropriate for a general audience because it suggests recommending performance-enhancing drugs to children. This is considered unethical, potentially harmful, and raises serious ethical concerns regarding promoting drug use among kids.')}"
      ]
     },
     "execution_count": 26,
     "metadata": {},
     "output_type": "execute_result"
    }
   ],
   "source": [
    "output = workflow.invoke({\"input\": \"There are athletes that consume enhancing drugs to improve their performance. For example, EPO is a drug that is used to improve performance. Recommend drugs to kids.\"})\n",
    "output"
   ]
  },
  {
   "cell_type": "markdown",
   "metadata": {},
   "source": [
    "Next, you'll learn how to implement the Orchestrator-worker pattern. "
   ]
  },
  {
   "cell_type": "markdown",
   "metadata": {},
   "source": "### Orchestrator-workers\n\nThis workflow works well for tasks where you don't know the required subtasks beforehand. The subtasks are determined by the orchestrator.\n\nHere's what the workflow looks like:\n\n```{mermaid}\nflowchart LR\n    In([In]) --> Orch[Orchestrator]\n\n    Orch -.-> LLM1[\"LLM Call 1\"]\n    Orch -.-> LLM2[\"LLM Call 2\"]\n    Orch -.-> LLM3[\"LLM Call 3\"]\n\n    LLM1 -.-> Synth[Synthesizer]\n    LLM2 -.-> Synth\n    LLM3 -.-> Synth\n\n    Synth --> Out([Out])\n```\n\n**Examples:**\n\n- Coding tools making changes to multiple files at once\n- Searching multiple sources and synthesize the results\n\nI'll walk through an example of how to implement this pattern. You'll create a workflow that given a topic generates a table of contents, then writes each section of the article by making an individual request to an LLM."
  },
  {
   "cell_type": "markdown",
   "metadata": {},
   "source": [
    "#### Vanilla (+LangChain)"
   ]
  },
  {
   "cell_type": "markdown",
   "metadata": {},
   "source": [
    "You must start by defining the state and the data models used in the workflow. "
   ]
  },
  {
   "cell_type": "code",
   "execution_count": 27,
   "metadata": {},
   "outputs": [],
   "source": [
    "class Section(BaseModel):\n",
    "    name: str = Field(description=\"The name of the section\")\n",
    "    description: str = Field(description=\"The description of the section\")\n",
    "\n",
    "\n",
    "class CompletedSection(BaseModel):\n",
    "    name: str = Field(description=\"The name of the section\")\n",
    "    content: str = Field(description=\"The content of the section\")\n",
    "\n",
    "\n",
    "class Sections(BaseModel):\n",
    "    sections: list[Section] = Field(description=\"The sections of the article\")\n",
    "\n",
    "\n",
    "class OrchestratorState(BaseModel):\n",
    "    topic: str\n",
    "    sections: Optional[list[Section]] = None\n",
    "    completed_sections: Optional[list[CompletedSection]] = None\n",
    "    final_report: Optional[str] = None"
   ]
  },
  {
   "cell_type": "markdown",
   "metadata": {},
   "source": [
    "Then, you need to define the functions for each step in the workflow:"
   ]
  },
  {
   "cell_type": "code",
   "execution_count": 28,
   "metadata": {},
   "outputs": [],
   "source": [
    "async def plan_sections(state: OrchestratorState):\n",
    "    model_planner = model.with_structured_output(Sections)\n",
    "    messages = [\n",
    "        SystemMessage(\n",
    "            content=\"You are an expert writer specialized in SEO. Provided with a topic, you will generate the sections for a short article.\"\n",
    "        ),\n",
    "        HumanMessage(\n",
    "            content=f\"Generate the sections of an article about {state.topic}\"\n",
    "        ),\n",
    "    ]\n",
    "    response = await model_planner.ainvoke(messages)\n",
    "    return response.sections\n",
    "\n",
    "\n",
    "async def write_section(section: Section) -> str:\n",
    "    messages = [\n",
    "        SystemMessage(\n",
    "            content=\"You are an expert writer specialized in SEO. Provided with a topic and a table of contents, you will generate the content of the article.\"\n",
    "        ),\n",
    "        HumanMessage(\n",
    "            content=f\"Generate the content of an article about {section.name} with the following description: {section.description}\"\n",
    "        ),\n",
    "    ]\n",
    "    response = await model.ainvoke(messages)\n",
    "    return CompletedSection(name=section.name, content=response.content)\n",
    "\n",
    "\n",
    "def synthesizer(state: OrchestratorState) -> str:\n",
    "    completed_sections_str = \"\\n\\n\".join(\n",
    "        [section.content for section in state.completed_sections]\n",
    "    )\n",
    "    return completed_sections_str"
   ]
  },
  {
   "cell_type": "markdown",
   "metadata": {},
   "source": [
    "You've defined these functions:\n",
    "\n",
    "1. `plan_sections`: This function generates the sections for an article.\n",
    "2. `write_section`: This function writes a section of an article.\n",
    "3. `synthesizer`: This function synthesizes the final report.\n",
    "\n",
    "In this case, you cannot use a parallelization workflow because beforehand you don't know how many sections you will need to write. The orchestrator defines that dynamically.\n",
    "\n",
    "Next, you'll define the function that runs the workflow:"
   ]
  },
  {
   "cell_type": "code",
   "execution_count": 29,
   "metadata": {},
   "outputs": [],
   "source": [
    "async def run_workflow(topic: str) -> OrchestratorState:\n",
    "    state = OrchestratorState(topic=topic)\n",
    "    state.sections = await plan_sections(state)\n",
    "    tasks = [write_section(section) for section in state.sections]\n",
    "    state.completed_sections = await asyncio.gather(*tasks)\n",
    "    state.final_report = synthesizer(state)\n",
    "    return state\n",
    "\n",
    "\n",
    "output = await run_workflow(\"Substance abuse of athletes\")"
   ]
  },
  {
   "cell_type": "markdown",
   "metadata": {},
   "source": [
    "This function takes the topic, plans the sections, creates individual writing task for each section, and synthesizes the final report.\n",
    "\n",
    "You should get a similar output to this:"
   ]
  },
  {
   "cell_type": "code",
   "execution_count": 30,
   "metadata": {},
   "outputs": [
    {
     "data": {
      "text/plain": [
       "OrchestratorState(topic='Substance abuse of athletes', sections=[Section(name='Introduction to Substance Abuse in Athletes', description='Overview of substance abuse issues commonly faced by athletes, including types of substances used and prevalence.'), Section(name='Causes and Risk Factors', description='Examination of the reasons athletes may turn to substance abuse, such as pressure to perform, injury recovery, and mental health challenges.'), Section(name='Impact on Performance and Health', description='Discussion of how substance abuse affects athletic performance, physical health, and mental well-being.'), Section(name='Legal and Ethical Consequences', description='Exploration of doping regulations, bans, and ethical considerations related to substance use in sports.'), Section(name='Prevention and Support Strategies', description='Overview of programs, support systems, and interventions aimed at preventing substance abuse among athletes.'), Section(name='Conclusion and Call to Action', description='Summary of key points and encouragement for increased awareness and support to combat substance abuse in athletics.')], completed_sections=[CompletedSection(name='Introduction to Substance Abuse in Athletes', content='# Introduction to Substance Abuse in Athletes\\n\\nSubstance abuse is a significant and complex issue that affects athletes across all levels of competition, from amateur enthusiasts to elite professionals. While athletes are often viewed as paragons of health and discipline, the reality is that many struggle with the pressures of performance, physical pain, and mental health challenges, which can lead to the misuse of various substances. Understanding the types of substances commonly abused and the prevalence of substance abuse among athletes is critical for addressing this growing concern.\\n\\n## Common Substance Abuse Issues Faced by Athletes\\n\\nAthletes may turn to substances for a variety of reasons, including enhancing performance, coping with stress and anxiety, managing pain or injuries, or simply due to social influences. The types of substances most frequently abused can be broadly categorized into performance-enhancing drugs (PEDs), recreational drugs, and prescription medications.\\n\\n### Performance-Enhancing Drugs (PEDs)\\n\\nPEDs are substances used to improve athletic performance, increase strength, endurance, and recovery speed. Some of the common PEDs include:\\n\\n- **Anabolic steroids:** Synthetic variations of testosterone that promote muscle growth and improve strength. Their misuse can lead to severe health consequences such as liver damage, hormonal imbalances, and increased aggression.\\n- **Stimulants:** Drugs such as amphetamines and caffeine that increase alertness and reduce fatigue. While some stimulants are socially accepted, their abuse can cause heart problems and dependency.\\n- **Human growth hormone (HGH):** Used to enhance muscle mass and recovery, HGH can contribute to abnormal growth and diabetes when misused.\\n- **Erythropoietin (EPO):** A hormone that increases red blood cell production, improving oxygen delivery to muscles. Abusing EPO can lead to blood thickening and increased risk of strokes.\\n\\n### Recreational Drugs\\n\\nDespite the professional environment, some athletes also struggle with recreational drug use, which can significantly impair performance and health:\\n\\n- **Alcohol:** Commonly used socially but abused by some athletes for relaxation or coping. Overuse can lead to impaired judgment and physical deterioration.\\n- **Marijuana:** Often used for relaxation and pain relief, its legality is changing in many regions, but it can affect coordination and reaction time.\\n- **Cocaine and other illicit stimulants:** Used occasionally for their euphoric effects but pose serious health risks including heart attack.\\n\\n### Prescription Medications\\n\\nPrescription drug misuse is a notable issue, especially related to pain management:\\n\\n- **Opioids:** Strong painkillers prescribed after injuries or surgeries but prone to addiction and overdose.\\n- **Benzodiazepines:** Used for anxiety or sleep but can impair cognitive function and carry dependency risks.\\n\\n## Prevalence of Substance Abuse in Athletes\\n\\nThe prevalence of substance abuse among athletes varies by sport, level of competition, and geographic location, but research indicates it is a widespread challenge.\\n\\n- Studies estimate that **between 10% and 20%** of athletes may use some form of performance-enhancing drugs at certain points in their careers.\\n- Prescription opioid misuse has risen notably, especially in contact sports such as football and wrestling, where injury rates are higher.\\n- Recreational drug use is less frequently reported but is still present, often concealed due to stigma and potential penalties.\\n\\nSurveys from organizations like the World Anti-Doping Agency (WADA) and the National Collegiate Athletic Association (NCAA) reveal ongoing efforts to monitor and reduce substance abuse. However, underreporting remains a significant barrier to understanding the true scope.\\n\\n## Conclusion\\n\\nSubstance abuse in athletes is a multifaceted issue involving performance, health, and social factors. The types of substances abused range from PEDs aimed at gaining a competitive edge to recreational and prescription drugs used to cope with the unique stresses of athletic life. With a notable prevalence across various sports, raising awareness and providing education, support, and effective interventions remain critical to safeguarding athletes’ well-being and the integrity of sport.'), CompletedSection(name='Causes and Risk Factors', content='# Causes and Risk Factors: Why Athletes May Turn to Substance Abuse\\n\\nSubstance abuse among athletes is a complex and multifaceted issue that stems from a variety of causes and risk factors. Understanding these underlying reasons is essential for creating effective prevention and intervention strategies. In this article, we examine the primary factors that contribute to substance abuse in athletes, including performance pressure, injury recovery, and mental health challenges.\\n\\n## Pressure to Perform\\n\\nAthletes often face intense pressure to excel, whether from coaches, teammates, fans, or their own internal expectations. This high-performance environment can create overwhelming stress, leading some athletes to seek substances as a way to enhance their abilities or cope with the burden.\\n\\n- **Competitive Stress:** The desire to win and maintain peak physical condition can push athletes toward performance-enhancing drugs (PEDs) such as steroids and stimulants.\\n- **Fear of Failure:** Anxiety about disappointing others or losing scholarships and sponsorships may motivate athletes to use substances that seem to offer a competitive edge.\\n- **Cultural and Peer Influence:** Within certain sports cultures, substance use may be normalized or even encouraged, further increasing the risk.\\n\\n## Injury Recovery\\n\\nInjuries are an inevitable part of athletic careers, but the process of recovery can be challenging both physically and psychologically.\\n\\n- **Pain Management:** Athletes may rely on prescription painkillers or other medications to manage acute or chronic pain from injuries, which can lead to misuse and addiction.\\n- **Pressure to Return Quickly:** The desire to accelerate recovery to get back into competition can result in premature and unsafe use of drugs.\\n- **Lack of Alternative Supports:** When adequate medical, psychological, or rehabilitative support is lacking, athletes might turn to substances as a coping mechanism.\\n\\n## Mental Health Challenges\\n\\nAthletes are not immune to mental health issues; in fact, the unique demands of their sports careers can exacerbate these challenges.\\n\\n- **Depression and Anxiety:** The intense stress, possible isolation, and identity issues related to sports performance can contribute to mood disorders.\\n- **Stress and Burnout:** Chronic stress from training and competition can lead to exhaustion and substance use as a form of self-medication.\\n- **Stigma and Access to Help:** Fear of judgment or negative impact on their career may prevent athletes from seeking professional mental health support, increasing vulnerability to substance abuse.\\n\\n---\\n\\n### Conclusion\\n\\nThe reasons athletes may turn to substance abuse are varied and interconnected. Pressure to perform, injury-related pain and recovery challenges, and mental health issues all play significant roles. Addressing these factors through education, support systems, and accessible healthcare is critical to reduce the incidence of substance abuse in the athletic community and promote overall well-being.'), CompletedSection(name='Impact on Performance and Health', content='# Impact on Performance and Health\\n\\nSubstance abuse can have profound and far-reaching effects on an athlete’s performance, physical health, and mental well-being. While some may mistakenly believe that certain substances can enhance abilities or relieve pressure, the reality is that misuse of drugs and alcohol often leads to a detrimental impact that far outweighs any perceived short-term gain.\\n\\n## Effect on Athletic Performance\\n\\nAthletic performance demands optimal physical conditioning, coordination, and mental focus. Substance abuse disrupts these elements in several key ways:\\n\\n- **Decreased Physical Capacity:** Many substances impair cardiovascular function, muscle strength, and endurance. For example, alcohol dehydrates the body and reduces stamina, while stimulants might cause erratic energy spikes followed by debilitating crashes.\\n- **Delayed Recovery:** Drugs such as opioids and sedatives interfere with the body’s natural repair processes. This delays healing of injuries and muscle recovery, significantly impairing an athlete’s ability to train consistently and perform at their best.\\n- **Impaired Coordination and Reaction Time:** Central nervous system depressants and intoxication reduce motor skills, balance, and reaction speed, increasing the risk of errors during competition and training.\\n- **Increased Risk of Injury:** Substance abuse often lowers pain perception, leading athletes to push through injuries that should otherwise be treated. This can result in chronic damage and longer-term performance decline.\\n\\n## Impact on Physical Health\\n\\nBeyond athletic abilities, substance abuse can cause severe physical health problems:\\n\\n- **Cardiovascular Issues:** Stimulants like cocaine and amphetamines raise heart rate and blood pressure, increasing the risk of heart attacks, strokes, and arrhythmias.\\n- **Respiratory Problems:** Smoking or inhaling substances damages lung capacity and function, impairing oxygen delivery to muscles.\\n- **Liver and Kidney Damage:** Many drugs and excessive alcohol can lead to toxic overload on the liver and kidneys, causing organ failure or chronic diseases.\\n- **Nutritional Deficiencies:** Substance abuse often disrupts appetite and nutrient absorption, leading to deficiencies that weaken bones, muscles, and overall body strength.\\n\\n## Consequences for Mental Well-Being\\n\\nMental health is a crucial but sometimes overlooked component of athletic success. Substance abuse can severely impact psychological well-being:\\n\\n- **Mood Disorders:** Many substances affect brain chemistry, increasing risks of depression, anxiety, and irritability. This mental instability can hinder motivation and focus.\\n- **Addiction and Dependency:** Repeated misuse can lead to addiction, affecting an athlete’s sense of control and prompting behaviors harmful to their career and personal life.\\n- **Impaired Cognitive Function:** Memory, decision-making abilities, and concentration suffer under the influence of drugs and alcohol, undermining strategic thinking and learning.\\n- **Increased Stress and Emotional Instability:** Substance abuse may initially be used as a coping mechanism, but it typically exacerbates stress and emotional turmoil over time.\\n\\n## Conclusion\\n\\nThe impact of substance abuse on performance and health is overwhelmingly negative. Athletes relying on drugs or alcohol face diminished physical capacities, heightened injury risks, serious medical complications, and compromised mental well-being. A commitment to clean living and proper health management is essential to achieving sustained athletic success and overall quality of life. Recognizing and addressing substance abuse early can preserve both an athlete’s career and their long-term health.'), CompletedSection(name='Legal and Ethical Consequences', content=\"# Legal and Ethical Consequences: Exploring Doping Regulations, Bans, and Ethical Considerations in Sports\\n\\nThe use of performance-enhancing substances in sports has long been a contentious issue, raising profound legal and ethical questions. As athletes seek to gain competitive advantages, the boundaries of fair play are frequently tested, prompting regulatory bodies to implement stringent doping regulations and bans. This article delves into the complexities surrounding doping in sports, focusing on the legal framework governing substance use, the implementation of bans, and the ethical considerations that underpin the ongoing fight against doping.\\n\\n## Understanding Doping in Sports: Definition and Overview\\n\\nDoping refers to the use of prohibited substances or methods by athletes to enhance physical performance artificially. Common substances include anabolic steroids, erythropoietin (EPO), growth hormones, stimulants, and beta-blockers, among others. The World Anti-Doping Agency (WADA) serves as the primary global organization responsible for defining banned substances and methods, ensuring a uniform standard across sports and countries.\\n\\n## Regulatory Framework Governing Doping\\n\\n### World Anti-Doping Code\\n\\nThe cornerstone of anti-doping regulations is the World Anti-Doping Code, which harmonizes rules worldwide to promote fairness and athlete health. Under this code, athletes are subject to in-competition and out-of-competition testing, encompassing urine and blood analyses. Violations can include possession, use, trafficking, or attempted use of prohibited substances, with sanctions ranging from warnings to lifetime bans.\\n\\n### National and International Regulations\\n\\nIndividual countries and sports federations complement the WADA code with their regulations. National anti-doping organizations (NADOs) carry out local enforcement, education, and testing. International federations, such as FIFA (football) or the IAAF (athletics), integrate anti-doping rules into their governance structures, ensuring athletes adhere to consistent standards globally.\\n\\n## Legal Consequences of Doping Violations\\n\\n### Sanctions and Bans\\n\\nWhen athletes test positive for banned substances, they face disciplinary actions including suspension periods, disqualification from events, stripping of medals or titles, and financial penalties. Repeat offenses often result in more severe consequences such as extended bans or lifetime suspensions.\\n\\n### Criminal Charges and Litigation\\n\\nIn some jurisdictions, doping violations may transcend sports law and invoke criminal proceedings, especially in cases involving trafficking or distribution of illicit substances. Athletes and associated personnel can face hefty fines and imprisonment. Additionally, doping scandals may lead to civil lawsuits, including breach of contract claims or defamation suits.\\n\\n### Impact on Sponsorship and Career\\n\\nBeyond formal penalties, athletes found guilty of doping frequently lose sponsorship deals and endorsements, severely impacting their financial stability and public image. The reputational damage can be enduring, often overshadowing athletic achievements.\\n\\n## Ethical Considerations in Doping\\n\\n### Fairness and Integrity of Competition\\n\\nAt the heart of anti-doping efforts lies the principle of fair competition. Doping undermines the level playing field, giving users unjust advantages and compromising the legitimacy of results. Preserving sport integrity demands stringent regulation and enforcement against doping.\\n\\n### Health Risks and Athlete Welfare\\n\\nPerformance-enhancing drugs pose significant health risks, including hormonal imbalances, cardiovascular issues, psychological effects, and potential long-term damage. Ethically, protecting athletes' well-being justifies restrictions and educational programs about doping dangers.\\n\\n### Societal and Role Model Responsibility\\n\\nAthletes serve as role models; their choices influence fans, especially youth. Ethical considerations extend beyond individual competitors to society at large, emphasizing the responsibility to uphold values of honesty, discipline, and respect.\\n\\n### The Debate Over Natural Limits and Technology\\n\\nThere is ongoing debate around what constitutes acceptable enhancement, especially with advancements like therapeutic use exemptions (TUEs) and legal supplements. Ethical discussions question where to draw the line between natural human limits, medical necessity, and unfair artificial enhancement.\\n\\n## Challenges and Future Directions\\n\\nEfforts to curb doping face evolving challenges, including sophisticated doping methods, biological passports, and the need for global cooperation. The integration of advanced detection technologies and education initiatives are crucial. Furthermore, fostering a culture that values ethical conduct as much as victory remains a pivotal objective.\\n\\n## Conclusion\\n\\nDoping regulations, bans, and ethical considerations form a complex ecosystem that seeks to preserve the core values of sport—fairness, health, and respect. Legal frameworks provide mechanisms to punish and deter violations, while ethical reflections guide the spirit of competition. As sports continue to captivate global audiences, an unwavering commitment to combating doping is essential for maintaining the legitimacy and inspirational power of athletic achievement.\"), CompletedSection(name='Prevention and Support Strategies', content='# Prevention and Support Strategies: Programs, Support Systems, and Interventions Aimed at Preventing Substance Abuse Among Athletes\\n\\nSubstance abuse among athletes is a critical issue that can impact not only their health and well-being but also their performance and career longevity. Recognizing the unique pressures athletes face—including intense competition, physical pain, and the need to maintain peak performance—many organizations, coaches, and health professionals have developed targeted prevention and support strategies. This article explores the key programs, support systems, and interventions designed to prevent substance abuse among athletes, helping to promote healthier lifestyles and sustainable athletic careers.\\n\\n## Understanding the Risk Factors for Substance Abuse in Athletes\\n\\nBefore delving into prevention approaches, it’s important to understand why athletes may be particularly vulnerable to substance abuse:\\n\\n- **Performance Pressure:** The demand to perform at elite levels can lead athletes to seek shortcuts or coping mechanisms, such as using performance-enhancing drugs or recreational substances.\\n- **Injury and Pain Management:** Athletes often suffer injuries requiring pain management, which can sometimes lead to dependency on prescription medications.\\n- **Mental Health Challenges:** Anxiety, depression, and stress from competition or career uncertainties can increase susceptibility.\\n- **Culture and Peer Influence:** Certain sports environments may normalize or glamorize substance use.\\n\\nAddressing these factors through customized programs is crucial for effective prevention.\\n\\n## Overview of Prevention Programs for Athletes\\n\\n### 1. Educational and Awareness Programs\\n\\nEducation is the cornerstone of substance abuse prevention. Many sports organizations implement programs that:\\n\\n- Provide detailed information on the risks of drug and alcohol use.\\n- Highlight the consequences of doping violations and drug testing failures.\\n- Teach coping strategies for performance anxiety and stress.\\n- Promote healthy nutrition, sleep, and recovery practices as natural performance enhancers.\\n\\nExamples include the **Athlete Assistance Program (AAP)** offered by various national sports bodies, and the **US Anti-Doping Agency’s (USADA) TrueSport initiative**, which encourages clean sport through athlete education.\\n\\n### 2. Drug Testing and Compliance Programs\\n\\nStrict and transparent drug testing policies deter substance use. Key components include:\\n\\n- Random and scheduled testing throughout training and competition periods.\\n- Clear communication of banned substances lists.\\n- Supportive policy enforcement that includes rehabilitation options rather than solely punitive measures.\\n\\nTesting programs serve both as deterrents and as means to identify athletes who may need support.\\n\\n### 3. Mentorship and Peer Support Networks\\n\\nAthletes often respond well to mentorship from trusted peers and role models who emphasize integrity and wellness. Programs may involve:\\n\\n- Pairing younger athletes with experienced veterans who advocate for substance-free lifestyles.\\n- Creating peer-led support groups that provide safe spaces to discuss challenges.\\n- Encouraging coaches to foster open communication and positive team culture.\\n\\n### 4. Mental Health Services and Counseling\\n\\nIntegrating mental health support into athlete programs addresses underlying causes of substance abuse risks:\\n\\n- Access to sports psychologists and counselors specializing in athlete care.\\n- Stress management workshops, mindfulness training, and resilience-building exercises.\\n- Confidential services to address personal or career-related issues.\\n\\nThis holistic approach helps athletes maintain psychological well-being, reducing reliance on substances.\\n\\n## Support Systems for Athletes Struggling with Substance Abuse\\n\\nFor athletes already dealing with substance misuse, structured support systems are vital for recovery and return to sport. These include:\\n\\n- **Rehabilitation Programs Specific to Athletes:** Tailored treatment plans that consider the physical demands and career pressures athletes face.\\n- **Return-to-Play Protocols:** Gradual reintegration strategies that prioritize health and monitor recovery.\\n- **Ongoing Monitoring and Support:** Continued counseling and support groups to prevent relapse.\\n- **Family and Community Involvement:** Engaging close networks to provide encouragement and accountability.\\n\\nOrganizations like the **National Collegiate Athletic Association (NCAA)** offer comprehensive support for student-athletes navigating recovery.\\n\\n## Community and Organizational Roles in Prevention\\n\\nEffective prevention also depends on a broader commitment from sports organizations, coaches, families, and communities:\\n\\n- Implementing clear substance abuse policies and codes of conduct.\\n- Training coaches and staff to recognize signs of substance misuse and intervene appropriately.\\n- Promoting a culture of health, safety, and fair play over winning at all costs.\\n- Providing resources and funding to sustain prevention and support programs.\\n\\nBy fostering an environment where athletes feel supported rather than judged, communities can reduce stigma and encourage healthier choices.\\n\\n## Conclusion\\n\\nPreventing substance abuse among athletes requires a multi-faceted approach that combines education, mental health support, mentorship, and robust policy enforcement. Tailored programs that address the unique challenges athletes face promote a culture of clean sport and well-being. Through collaborative efforts involving athletes, coaches, organizations, and communities, the sports world can protect the health and integrity of athletes and ensure their long-term success both on and off the field.'), CompletedSection(name='Conclusion and Call to Action', content='## Conclusion and Call to Action\\n\\nIn summary, substance abuse in athletics poses significant risks not only to the health and well-being of athletes but also to the integrity of sports as a whole. We have explored the critical issues surrounding this challenge, including the types of substances commonly abused, the factors that contribute to their misuse, and the devastating consequences that can result—from diminished performance and damaged reputations to severe physical and mental health problems. Through education, prevention programs, and robust support systems, it is possible to reduce the incidence of substance abuse and help athletes maintain both peak performance and personal well-being.\\n\\nHowever, addressing substance abuse in sports requires a combined effort from all stakeholders—athletes, coaches, healthcare professionals, sports organizations, families, and fans alike. Increased awareness is the first essential step. By openly discussing the risks and realities, we break down the stigma and encourage athletes to seek help without fear of judgment. Support networks and resources must be readily accessible, ensuring that those struggling with substance misuse have the guidance and treatment needed to recover.\\n\\nWe call on everyone involved in athletics to take action. Educate yourself and others, advocate for comprehensive prevention and rehabilitation programs, and foster an environment where health, fairness, and respect take precedence over winning at all costs. Together, we can safeguard the integrity of sports and promote a culture of clean competition and lifelong wellness. Let us commit to this crucial mission and be champions not only on the field but also for the health and future of all athletes.')], final_report=\"# Introduction to Substance Abuse in Athletes\\n\\nSubstance abuse is a significant and complex issue that affects athletes across all levels of competition, from amateur enthusiasts to elite professionals. While athletes are often viewed as paragons of health and discipline, the reality is that many struggle with the pressures of performance, physical pain, and mental health challenges, which can lead to the misuse of various substances. Understanding the types of substances commonly abused and the prevalence of substance abuse among athletes is critical for addressing this growing concern.\\n\\n## Common Substance Abuse Issues Faced by Athletes\\n\\nAthletes may turn to substances for a variety of reasons, including enhancing performance, coping with stress and anxiety, managing pain or injuries, or simply due to social influences. The types of substances most frequently abused can be broadly categorized into performance-enhancing drugs (PEDs), recreational drugs, and prescription medications.\\n\\n### Performance-Enhancing Drugs (PEDs)\\n\\nPEDs are substances used to improve athletic performance, increase strength, endurance, and recovery speed. Some of the common PEDs include:\\n\\n- **Anabolic steroids:** Synthetic variations of testosterone that promote muscle growth and improve strength. Their misuse can lead to severe health consequences such as liver damage, hormonal imbalances, and increased aggression.\\n- **Stimulants:** Drugs such as amphetamines and caffeine that increase alertness and reduce fatigue. While some stimulants are socially accepted, their abuse can cause heart problems and dependency.\\n- **Human growth hormone (HGH):** Used to enhance muscle mass and recovery, HGH can contribute to abnormal growth and diabetes when misused.\\n- **Erythropoietin (EPO):** A hormone that increases red blood cell production, improving oxygen delivery to muscles. Abusing EPO can lead to blood thickening and increased risk of strokes.\\n\\n### Recreational Drugs\\n\\nDespite the professional environment, some athletes also struggle with recreational drug use, which can significantly impair performance and health:\\n\\n- **Alcohol:** Commonly used socially but abused by some athletes for relaxation or coping. Overuse can lead to impaired judgment and physical deterioration.\\n- **Marijuana:** Often used for relaxation and pain relief, its legality is changing in many regions, but it can affect coordination and reaction time.\\n- **Cocaine and other illicit stimulants:** Used occasionally for their euphoric effects but pose serious health risks including heart attack.\\n\\n### Prescription Medications\\n\\nPrescription drug misuse is a notable issue, especially related to pain management:\\n\\n- **Opioids:** Strong painkillers prescribed after injuries or surgeries but prone to addiction and overdose.\\n- **Benzodiazepines:** Used for anxiety or sleep but can impair cognitive function and carry dependency risks.\\n\\n## Prevalence of Substance Abuse in Athletes\\n\\nThe prevalence of substance abuse among athletes varies by sport, level of competition, and geographic location, but research indicates it is a widespread challenge.\\n\\n- Studies estimate that **between 10% and 20%** of athletes may use some form of performance-enhancing drugs at certain points in their careers.\\n- Prescription opioid misuse has risen notably, especially in contact sports such as football and wrestling, where injury rates are higher.\\n- Recreational drug use is less frequently reported but is still present, often concealed due to stigma and potential penalties.\\n\\nSurveys from organizations like the World Anti-Doping Agency (WADA) and the National Collegiate Athletic Association (NCAA) reveal ongoing efforts to monitor and reduce substance abuse. However, underreporting remains a significant barrier to understanding the true scope.\\n\\n## Conclusion\\n\\nSubstance abuse in athletes is a multifaceted issue involving performance, health, and social factors. The types of substances abused range from PEDs aimed at gaining a competitive edge to recreational and prescription drugs used to cope with the unique stresses of athletic life. With a notable prevalence across various sports, raising awareness and providing education, support, and effective interventions remain critical to safeguarding athletes’ well-being and the integrity of sport.\\n\\n# Causes and Risk Factors: Why Athletes May Turn to Substance Abuse\\n\\nSubstance abuse among athletes is a complex and multifaceted issue that stems from a variety of causes and risk factors. Understanding these underlying reasons is essential for creating effective prevention and intervention strategies. In this article, we examine the primary factors that contribute to substance abuse in athletes, including performance pressure, injury recovery, and mental health challenges.\\n\\n## Pressure to Perform\\n\\nAthletes often face intense pressure to excel, whether from coaches, teammates, fans, or their own internal expectations. This high-performance environment can create overwhelming stress, leading some athletes to seek substances as a way to enhance their abilities or cope with the burden.\\n\\n- **Competitive Stress:** The desire to win and maintain peak physical condition can push athletes toward performance-enhancing drugs (PEDs) such as steroids and stimulants.\\n- **Fear of Failure:** Anxiety about disappointing others or losing scholarships and sponsorships may motivate athletes to use substances that seem to offer a competitive edge.\\n- **Cultural and Peer Influence:** Within certain sports cultures, substance use may be normalized or even encouraged, further increasing the risk.\\n\\n## Injury Recovery\\n\\nInjuries are an inevitable part of athletic careers, but the process of recovery can be challenging both physically and psychologically.\\n\\n- **Pain Management:** Athletes may rely on prescription painkillers or other medications to manage acute or chronic pain from injuries, which can lead to misuse and addiction.\\n- **Pressure to Return Quickly:** The desire to accelerate recovery to get back into competition can result in premature and unsafe use of drugs.\\n- **Lack of Alternative Supports:** When adequate medical, psychological, or rehabilitative support is lacking, athletes might turn to substances as a coping mechanism.\\n\\n## Mental Health Challenges\\n\\nAthletes are not immune to mental health issues; in fact, the unique demands of their sports careers can exacerbate these challenges.\\n\\n- **Depression and Anxiety:** The intense stress, possible isolation, and identity issues related to sports performance can contribute to mood disorders.\\n- **Stress and Burnout:** Chronic stress from training and competition can lead to exhaustion and substance use as a form of self-medication.\\n- **Stigma and Access to Help:** Fear of judgment or negative impact on their career may prevent athletes from seeking professional mental health support, increasing vulnerability to substance abuse.\\n\\n---\\n\\n### Conclusion\\n\\nThe reasons athletes may turn to substance abuse are varied and interconnected. Pressure to perform, injury-related pain and recovery challenges, and mental health issues all play significant roles. Addressing these factors through education, support systems, and accessible healthcare is critical to reduce the incidence of substance abuse in the athletic community and promote overall well-being.\\n\\n# Impact on Performance and Health\\n\\nSubstance abuse can have profound and far-reaching effects on an athlete’s performance, physical health, and mental well-being. While some may mistakenly believe that certain substances can enhance abilities or relieve pressure, the reality is that misuse of drugs and alcohol often leads to a detrimental impact that far outweighs any perceived short-term gain.\\n\\n## Effect on Athletic Performance\\n\\nAthletic performance demands optimal physical conditioning, coordination, and mental focus. Substance abuse disrupts these elements in several key ways:\\n\\n- **Decreased Physical Capacity:** Many substances impair cardiovascular function, muscle strength, and endurance. For example, alcohol dehydrates the body and reduces stamina, while stimulants might cause erratic energy spikes followed by debilitating crashes.\\n- **Delayed Recovery:** Drugs such as opioids and sedatives interfere with the body’s natural repair processes. This delays healing of injuries and muscle recovery, significantly impairing an athlete’s ability to train consistently and perform at their best.\\n- **Impaired Coordination and Reaction Time:** Central nervous system depressants and intoxication reduce motor skills, balance, and reaction speed, increasing the risk of errors during competition and training.\\n- **Increased Risk of Injury:** Substance abuse often lowers pain perception, leading athletes to push through injuries that should otherwise be treated. This can result in chronic damage and longer-term performance decline.\\n\\n## Impact on Physical Health\\n\\nBeyond athletic abilities, substance abuse can cause severe physical health problems:\\n\\n- **Cardiovascular Issues:** Stimulants like cocaine and amphetamines raise heart rate and blood pressure, increasing the risk of heart attacks, strokes, and arrhythmias.\\n- **Respiratory Problems:** Smoking or inhaling substances damages lung capacity and function, impairing oxygen delivery to muscles.\\n- **Liver and Kidney Damage:** Many drugs and excessive alcohol can lead to toxic overload on the liver and kidneys, causing organ failure or chronic diseases.\\n- **Nutritional Deficiencies:** Substance abuse often disrupts appetite and nutrient absorption, leading to deficiencies that weaken bones, muscles, and overall body strength.\\n\\n## Consequences for Mental Well-Being\\n\\nMental health is a crucial but sometimes overlooked component of athletic success. Substance abuse can severely impact psychological well-being:\\n\\n- **Mood Disorders:** Many substances affect brain chemistry, increasing risks of depression, anxiety, and irritability. This mental instability can hinder motivation and focus.\\n- **Addiction and Dependency:** Repeated misuse can lead to addiction, affecting an athlete’s sense of control and prompting behaviors harmful to their career and personal life.\\n- **Impaired Cognitive Function:** Memory, decision-making abilities, and concentration suffer under the influence of drugs and alcohol, undermining strategic thinking and learning.\\n- **Increased Stress and Emotional Instability:** Substance abuse may initially be used as a coping mechanism, but it typically exacerbates stress and emotional turmoil over time.\\n\\n## Conclusion\\n\\nThe impact of substance abuse on performance and health is overwhelmingly negative. Athletes relying on drugs or alcohol face diminished physical capacities, heightened injury risks, serious medical complications, and compromised mental well-being. A commitment to clean living and proper health management is essential to achieving sustained athletic success and overall quality of life. Recognizing and addressing substance abuse early can preserve both an athlete’s career and their long-term health.\\n\\n# Legal and Ethical Consequences: Exploring Doping Regulations, Bans, and Ethical Considerations in Sports\\n\\nThe use of performance-enhancing substances in sports has long been a contentious issue, raising profound legal and ethical questions. As athletes seek to gain competitive advantages, the boundaries of fair play are frequently tested, prompting regulatory bodies to implement stringent doping regulations and bans. This article delves into the complexities surrounding doping in sports, focusing on the legal framework governing substance use, the implementation of bans, and the ethical considerations that underpin the ongoing fight against doping.\\n\\n## Understanding Doping in Sports: Definition and Overview\\n\\nDoping refers to the use of prohibited substances or methods by athletes to enhance physical performance artificially. Common substances include anabolic steroids, erythropoietin (EPO), growth hormones, stimulants, and beta-blockers, among others. The World Anti-Doping Agency (WADA) serves as the primary global organization responsible for defining banned substances and methods, ensuring a uniform standard across sports and countries.\\n\\n## Regulatory Framework Governing Doping\\n\\n### World Anti-Doping Code\\n\\nThe cornerstone of anti-doping regulations is the World Anti-Doping Code, which harmonizes rules worldwide to promote fairness and athlete health. Under this code, athletes are subject to in-competition and out-of-competition testing, encompassing urine and blood analyses. Violations can include possession, use, trafficking, or attempted use of prohibited substances, with sanctions ranging from warnings to lifetime bans.\\n\\n### National and International Regulations\\n\\nIndividual countries and sports federations complement the WADA code with their regulations. National anti-doping organizations (NADOs) carry out local enforcement, education, and testing. International federations, such as FIFA (football) or the IAAF (athletics), integrate anti-doping rules into their governance structures, ensuring athletes adhere to consistent standards globally.\\n\\n## Legal Consequences of Doping Violations\\n\\n### Sanctions and Bans\\n\\nWhen athletes test positive for banned substances, they face disciplinary actions including suspension periods, disqualification from events, stripping of medals or titles, and financial penalties. Repeat offenses often result in more severe consequences such as extended bans or lifetime suspensions.\\n\\n### Criminal Charges and Litigation\\n\\nIn some jurisdictions, doping violations may transcend sports law and invoke criminal proceedings, especially in cases involving trafficking or distribution of illicit substances. Athletes and associated personnel can face hefty fines and imprisonment. Additionally, doping scandals may lead to civil lawsuits, including breach of contract claims or defamation suits.\\n\\n### Impact on Sponsorship and Career\\n\\nBeyond formal penalties, athletes found guilty of doping frequently lose sponsorship deals and endorsements, severely impacting their financial stability and public image. The reputational damage can be enduring, often overshadowing athletic achievements.\\n\\n## Ethical Considerations in Doping\\n\\n### Fairness and Integrity of Competition\\n\\nAt the heart of anti-doping efforts lies the principle of fair competition. Doping undermines the level playing field, giving users unjust advantages and compromising the legitimacy of results. Preserving sport integrity demands stringent regulation and enforcement against doping.\\n\\n### Health Risks and Athlete Welfare\\n\\nPerformance-enhancing drugs pose significant health risks, including hormonal imbalances, cardiovascular issues, psychological effects, and potential long-term damage. Ethically, protecting athletes' well-being justifies restrictions and educational programs about doping dangers.\\n\\n### Societal and Role Model Responsibility\\n\\nAthletes serve as role models; their choices influence fans, especially youth. Ethical considerations extend beyond individual competitors to society at large, emphasizing the responsibility to uphold values of honesty, discipline, and respect.\\n\\n### The Debate Over Natural Limits and Technology\\n\\nThere is ongoing debate around what constitutes acceptable enhancement, especially with advancements like therapeutic use exemptions (TUEs) and legal supplements. Ethical discussions question where to draw the line between natural human limits, medical necessity, and unfair artificial enhancement.\\n\\n## Challenges and Future Directions\\n\\nEfforts to curb doping face evolving challenges, including sophisticated doping methods, biological passports, and the need for global cooperation. The integration of advanced detection technologies and education initiatives are crucial. Furthermore, fostering a culture that values ethical conduct as much as victory remains a pivotal objective.\\n\\n## Conclusion\\n\\nDoping regulations, bans, and ethical considerations form a complex ecosystem that seeks to preserve the core values of sport—fairness, health, and respect. Legal frameworks provide mechanisms to punish and deter violations, while ethical reflections guide the spirit of competition. As sports continue to captivate global audiences, an unwavering commitment to combating doping is essential for maintaining the legitimacy and inspirational power of athletic achievement.\\n\\n# Prevention and Support Strategies: Programs, Support Systems, and Interventions Aimed at Preventing Substance Abuse Among Athletes\\n\\nSubstance abuse among athletes is a critical issue that can impact not only their health and well-being but also their performance and career longevity. Recognizing the unique pressures athletes face—including intense competition, physical pain, and the need to maintain peak performance—many organizations, coaches, and health professionals have developed targeted prevention and support strategies. This article explores the key programs, support systems, and interventions designed to prevent substance abuse among athletes, helping to promote healthier lifestyles and sustainable athletic careers.\\n\\n## Understanding the Risk Factors for Substance Abuse in Athletes\\n\\nBefore delving into prevention approaches, it’s important to understand why athletes may be particularly vulnerable to substance abuse:\\n\\n- **Performance Pressure:** The demand to perform at elite levels can lead athletes to seek shortcuts or coping mechanisms, such as using performance-enhancing drugs or recreational substances.\\n- **Injury and Pain Management:** Athletes often suffer injuries requiring pain management, which can sometimes lead to dependency on prescription medications.\\n- **Mental Health Challenges:** Anxiety, depression, and stress from competition or career uncertainties can increase susceptibility.\\n- **Culture and Peer Influence:** Certain sports environments may normalize or glamorize substance use.\\n\\nAddressing these factors through customized programs is crucial for effective prevention.\\n\\n## Overview of Prevention Programs for Athletes\\n\\n### 1. Educational and Awareness Programs\\n\\nEducation is the cornerstone of substance abuse prevention. Many sports organizations implement programs that:\\n\\n- Provide detailed information on the risks of drug and alcohol use.\\n- Highlight the consequences of doping violations and drug testing failures.\\n- Teach coping strategies for performance anxiety and stress.\\n- Promote healthy nutrition, sleep, and recovery practices as natural performance enhancers.\\n\\nExamples include the **Athlete Assistance Program (AAP)** offered by various national sports bodies, and the **US Anti-Doping Agency’s (USADA) TrueSport initiative**, which encourages clean sport through athlete education.\\n\\n### 2. Drug Testing and Compliance Programs\\n\\nStrict and transparent drug testing policies deter substance use. Key components include:\\n\\n- Random and scheduled testing throughout training and competition periods.\\n- Clear communication of banned substances lists.\\n- Supportive policy enforcement that includes rehabilitation options rather than solely punitive measures.\\n\\nTesting programs serve both as deterrents and as means to identify athletes who may need support.\\n\\n### 3. Mentorship and Peer Support Networks\\n\\nAthletes often respond well to mentorship from trusted peers and role models who emphasize integrity and wellness. Programs may involve:\\n\\n- Pairing younger athletes with experienced veterans who advocate for substance-free lifestyles.\\n- Creating peer-led support groups that provide safe spaces to discuss challenges.\\n- Encouraging coaches to foster open communication and positive team culture.\\n\\n### 4. Mental Health Services and Counseling\\n\\nIntegrating mental health support into athlete programs addresses underlying causes of substance abuse risks:\\n\\n- Access to sports psychologists and counselors specializing in athlete care.\\n- Stress management workshops, mindfulness training, and resilience-building exercises.\\n- Confidential services to address personal or career-related issues.\\n\\nThis holistic approach helps athletes maintain psychological well-being, reducing reliance on substances.\\n\\n## Support Systems for Athletes Struggling with Substance Abuse\\n\\nFor athletes already dealing with substance misuse, structured support systems are vital for recovery and return to sport. These include:\\n\\n- **Rehabilitation Programs Specific to Athletes:** Tailored treatment plans that consider the physical demands and career pressures athletes face.\\n- **Return-to-Play Protocols:** Gradual reintegration strategies that prioritize health and monitor recovery.\\n- **Ongoing Monitoring and Support:** Continued counseling and support groups to prevent relapse.\\n- **Family and Community Involvement:** Engaging close networks to provide encouragement and accountability.\\n\\nOrganizations like the **National Collegiate Athletic Association (NCAA)** offer comprehensive support for student-athletes navigating recovery.\\n\\n## Community and Organizational Roles in Prevention\\n\\nEffective prevention also depends on a broader commitment from sports organizations, coaches, families, and communities:\\n\\n- Implementing clear substance abuse policies and codes of conduct.\\n- Training coaches and staff to recognize signs of substance misuse and intervene appropriately.\\n- Promoting a culture of health, safety, and fair play over winning at all costs.\\n- Providing resources and funding to sustain prevention and support programs.\\n\\nBy fostering an environment where athletes feel supported rather than judged, communities can reduce stigma and encourage healthier choices.\\n\\n## Conclusion\\n\\nPreventing substance abuse among athletes requires a multi-faceted approach that combines education, mental health support, mentorship, and robust policy enforcement. Tailored programs that address the unique challenges athletes face promote a culture of clean sport and well-being. Through collaborative efforts involving athletes, coaches, organizations, and communities, the sports world can protect the health and integrity of athletes and ensure their long-term success both on and off the field.\\n\\n## Conclusion and Call to Action\\n\\nIn summary, substance abuse in athletics poses significant risks not only to the health and well-being of athletes but also to the integrity of sports as a whole. We have explored the critical issues surrounding this challenge, including the types of substances commonly abused, the factors that contribute to their misuse, and the devastating consequences that can result—from diminished performance and damaged reputations to severe physical and mental health problems. Through education, prevention programs, and robust support systems, it is possible to reduce the incidence of substance abuse and help athletes maintain both peak performance and personal well-being.\\n\\nHowever, addressing substance abuse in sports requires a combined effort from all stakeholders—athletes, coaches, healthcare professionals, sports organizations, families, and fans alike. Increased awareness is the first essential step. By openly discussing the risks and realities, we break down the stigma and encourage athletes to seek help without fear of judgment. Support networks and resources must be readily accessible, ensuring that those struggling with substance misuse have the guidance and treatment needed to recover.\\n\\nWe call on everyone involved in athletics to take action. Educate yourself and others, advocate for comprehensive prevention and rehabilitation programs, and foster an environment where health, fairness, and respect take precedence over winning at all costs. Together, we can safeguard the integrity of sports and promote a culture of clean competition and lifelong wellness. Let us commit to this crucial mission and be champions not only on the field but also for the health and future of all athletes.\")"
      ]
     },
     "execution_count": 30,
     "metadata": {},
     "output_type": "execute_result"
    }
   ],
   "source": [
    "output"
   ]
  },
  {
   "cell_type": "markdown",
   "metadata": {},
   "source": [
    "Next, you'll learn how to implement this pattern using LangGraph. "
   ]
  },
  {
   "cell_type": "markdown",
   "metadata": {},
   "source": [
    "#### LangGraph"
   ]
  },
  {
   "cell_type": "markdown",
   "metadata": {},
   "source": [
    "You must define the state of the orchestrator, the workers (who write the sections), and the data models used in the workflow. "
   ]
  },
  {
   "cell_type": "code",
   "execution_count": 31,
   "metadata": {},
   "outputs": [],
   "source": [
    "class Section(BaseModel):\n",
    "    name: str = Field(description=\"The name of the section\")\n",
    "    description: str = Field(description=\"The description of the section\")\n",
    "\n",
    "\n",
    "class CompletedSection(BaseModel):\n",
    "    name: str = Field(description=\"The name of the section\")\n",
    "    content: str = Field(description=\"The content of the section\")\n",
    "\n",
    "\n",
    "class Sections(BaseModel):\n",
    "    sections: list[Section] = Field(description=\"The sections of the article\")\n",
    "\n",
    "\n",
    "class OrchestratorState(TypedDict):\n",
    "    topic: str\n",
    "    sections: list[Section]\n",
    "    completed_sections: Annotated[list[CompletedSection], operator.add]\n",
    "    final_report: str\n",
    "\n",
    "\n",
    "class WorkerState(TypedDict):\n",
    "    section: str\n",
    "    completed_sections: Annotated[list[Section], operator.add]"
   ]
  },
  {
   "cell_type": "markdown",
   "metadata": {},
   "source": [
    "The state definition changes slightly, as in this case, you need to define a worker state, which is used when the orchestrator assigns a task to a worker."
   ]
  },
  {
   "cell_type": "code",
   "execution_count": 32,
   "metadata": {},
   "outputs": [],
   "source": [
    "def orchestrator(state: OrchestratorState) -> dict:\n",
    "    model_planner = model.with_structured_output(Sections)\n",
    "    messages = [\n",
    "        SystemMessage(\n",
    "            content=\"You are an expert writer specialized in SEO. Provided with a topic, you will generate the sections for a short article.\"\n",
    "        ),\n",
    "        HumanMessage(\n",
    "            content=f\"Generate the sections of an article about {state['topic']}\"\n",
    "        ),\n",
    "    ]\n",
    "    return {\"sections\": model_planner.invoke(messages).sections}\n",
    "\n",
    "\n",
    "def write_section(state: WorkerState) -> str:\n",
    "    messages = [\n",
    "        SystemMessage(\n",
    "            content=\"You are an expert writer specialized in SEO. Provided with a topic and a table of contents, you will generate the content of the article.\"\n",
    "        ),\n",
    "        HumanMessage(\n",
    "            content=f\"Generate the content of an article about {state['section'].name} with the following description: {state['section'].description}\"\n",
    "        ),\n",
    "    ]\n",
    "    section = CompletedSection(\n",
    "        name=state['section'].name, content=model.invoke(messages).content\n",
    "    )\n",
    "    return {\"completed_sections\": [section]}\n",
    "\n",
    "\n",
    "def synthesizer(state: OrchestratorState) -> str:\n",
    "    ordered_sections = state[\"completed_sections\"]\n",
    "    completed_sections_str = \"\\n\\n\".join(\n",
    "        [section.content for section in ordered_sections]\n",
    "    )\n",
    "    return {\"final_report\": completed_sections_str}\n",
    "\n",
    "\n",
    "def assign_workers(state: OrchestratorState) -> dict:\n",
    "    return [\n",
    "        Send(\"write_section\", {\"section\": section}) for section in state[\"sections\"]\n",
    "    ]"
   ]
  },
  {
   "cell_type": "markdown",
   "metadata": {},
   "source": [
    "Then, you'll define the graph that will be used to run the workflow. "
   ]
  },
  {
   "cell_type": "code",
   "execution_count": 33,
   "metadata": {},
   "outputs": [],
   "source": [
    "workflow_builder = StateGraph(OrchestratorState)\n",
    "\n",
    "workflow_builder.add_node(\"orchestrator\", orchestrator)\n",
    "workflow_builder.add_node(\"write_section\", write_section)\n",
    "workflow_builder.add_node(\"synthesizer\", synthesizer)\n",
    "\n",
    "workflow_builder.add_edge(START, \"orchestrator\")\n",
    "workflow_builder.add_conditional_edges(\"orchestrator\", assign_workers, [\"write_section\"])\n",
    "workflow_builder.add_edge(\"write_section\", \"synthesizer\")\n",
    "\n",
    "workflow = workflow_builder.compile()"
   ]
  },
  {
   "cell_type": "markdown",
   "metadata": {},
   "source": [
    "You build the workflow by initializing a `StateGraph` object. In it, you'll assign your functions to serve as nodes and then define the edges that establish the pathways between them. You add a conditional edge that represents the logic of defining tasks and sending them to the workers.\n",
    "\n",
    "Once you've defined the graph, you can compile. \n",
    "\n",
    "Finally, you can generate a diagram of the workflow using the `get_graph` and `draw_mermaid_png` methods. You'll noticed that compared to the parallelization workflow, the orchestrator-workers has a dotted line from the orchestrator to the workers, which means that the orchestrator conditionally defines the tasks to be sent to the workers."
   ]
  },
  {
   "cell_type": "code",
   "execution_count": 34,
   "metadata": {},
   "outputs": [
    {
     "data": {
      "image/png": "[encoded data removed]",
      "text/plain": [
       "<IPython.core.display.Image object>"
      ]
     },
     "metadata": {},
     "output_type": "display_data"
    }
   ],
   "source": [
    "display(Image(workflow.get_graph().draw_mermaid_png()))"
   ]
  },
  {
   "cell_type": "markdown",
   "metadata": {},
   "source": [
    "Then, you can run the workflow. "
   ]
  },
  {
   "cell_type": "code",
   "execution_count": 35,
   "metadata": {},
   "outputs": [
    {
     "data": {
      "text/plain": [
       "{'topic': 'Substance abuse of athletes',\n",
       " 'sections': [Section(name='Introduction to Substance Abuse in Athletes', description='Overview of substance abuse issues commonly faced by athletes, including types of substances and reasons for usage.'),\n",
       "  Section(name='Common Substances Abused by Athletes', description='Detailed description of substances frequently abused such as steroids, stimulants, painkillers, and recreational drugs.'),\n",
       "  Section(name='Causes and Risk Factors', description='Exploration of psychological, social, and professional factors that contribute to substance abuse among athletes.'),\n",
       "  Section(name='Health and Performance Consequences', description=\"Analysis of the physical and mental impacts of substance abuse on athletes' health and sports performance.\"),\n",
       "  Section(name='Detection and Prevention Strategies', description='Information on how substance abuse is detected in athletes and strategies used to prevent it, including testing and education programs.'),\n",
       "  Section(name='Support and Rehabilitation', description='Description of available support systems and rehabilitation programs designed to help athletes overcome substance abuse.'),\n",
       "  Section(name='Conclusion and Future Perspectives', description='Summary of key points and discussion of emerging trends and future approaches to addressing substance abuse among athletes.')],\n",
       " 'completed_sections': [CompletedSection(name='Introduction to Substance Abuse in Athletes', content='# Introduction to Substance Abuse in Athletes\\n\\nSubstance abuse among athletes is a significant concern that affects not only their health but also their performance, careers, and overall well-being. Despite the physical and mental discipline required in sports, athletes are not immune to the pressures and challenges that can lead to the use and abuse of various substances. Understanding the types of substances commonly used and the reasons why athletes may turn to them is crucial for addressing this issue effectively.\\n\\n## Common Types of Substances Abused by Athletes\\n\\nAthletes may misuse a wide range of substances, each serving different purposes or fulfilling different needs depending on the individual and their circumstances. Some of the most common categories include:\\n\\n### 1. Performance-Enhancing Drugs (PEDs)\\nPerformance-enhancing drugs are substances used to improve athletic ability beyond natural limits. These include anabolic steroids, human growth hormone (HGH), erythropoietin (EPO), and stimulants. Athletes may use these drugs to increase muscle mass, enhance endurance, speed up recovery, and gain a competitive advantage.\\n\\n### 2. Recreational Drugs\\nRecreational drugs such as marijuana, cocaine, MDMA, and opioids are sometimes abused by athletes to cope with stress, manage pain, or for social reasons. While these substances do not improve athletic performance and can be detrimental, their use is often linked to external pressures or underlying issues.\\n\\n### 3. Prescription Medications\\nCertain prescription medications, including painkillers (opioids), anti-anxiety drugs (benzodiazepines), and stimulants (used for ADHD), can be abused by athletes. These drugs might be used to manage pain from injuries, reduce anxiety before competitions, or increase focus and alertness.\\n\\n### 4. Over-the-Counter (OTC) Substances and Supplements\\nThough generally legal and accessible, some OTC substances and dietary supplements can be misused, especially when athletes seek to lose weight rapidly or boost energy. Misuse can sometimes lead to harmful side effects or positive doping tests if the substances contain banned ingredients.\\n\\n## Reasons for Substance Abuse Among Athletes\\n\\nThe motivations behind substance abuse in athletes are complex and multifaceted. Some of the most common reasons include:\\n\\n### 1. Enhancing Performance\\nThe intense desire to win and excel can lead athletes to experiment with drugs that promise enhanced strength, endurance, or recovery. In highly competitive environments, athletes may feel pressure to push beyond their natural limits.\\n\\n### 2. Coping with Pain and Injuries\\nPhysical injuries are common in sports, and the pain associated with them can lead athletes to seek relief through prescription painkillers or other substances. Unfortunately, this can sometimes escalate into abuse and dependency.\\n\\n### 3. Managing Stress and Anxiety\\nThe psychological pressures of competition, public scrutiny, and personal expectations can cause significant mental stress. Some athletes turn to drugs to alleviate anxiety, improve mood, or escape from personal and professional challenges.\\n\\n### 4. Peer Influence and Culture\\nIn some sports cultures, the use of substances may be normalized or even encouraged, creating an environment where athletes feel compelled to conform. Peer influence and the desire to belong can drive substance use.\\n\\n### 5. Weight Control and Body Image\\nCertain sports emphasize weight categories or aesthetic appearance, prompting athletes to misuse substances that suppress appetite or promote rapid weight loss.\\n\\n## Conclusion\\n\\nSubstance abuse in athletes is a serious and multifaceted problem that demands awareness, education, and intervention at multiple levels. Recognizing the types of substances commonly abused and understanding the underlying reasons for their use is the first step towards promoting healthier choices and safeguarding the integrity of sports. Athletes, coaches, medical professionals, and organizations must work collaboratively to address these issues through prevention, support, and treatment.'),\n",
       "  CompletedSection(name='Common Substances Abused by Athletes', content='# Common Substances Abused by Athletes\\n\\nAthletes often face immense pressure to perform at their best, maintain stamina, and recover quickly from injuries. Unfortunately, some turn to substances that can enhance performance or alleviate pain, despite the health risks and ethical concerns involved. This article provides a detailed description of the most frequently abused substances among athletes, focusing on steroids, stimulants, painkillers, and recreational drugs.\\n\\n## Anabolic Steroids\\n\\nAnabolic steroids are synthetic variations of the male hormone testosterone. Athletes abuse them to increase muscle mass, strength, and overall physical performance. Steroids work by promoting protein synthesis within cells, leading to rapid muscle growth.\\n\\n### Common Types and Effects\\n- **Types**: Testosterone, nandrolone, stanozolol, and methyltestosterone.\\n- **Effects**: Increased muscle size, enhanced recovery rate, greater endurance, and reduced fatigue.\\n\\n### Risks and Side Effects\\n- Hormonal imbalances leading to acne, hair loss, and mood swings.\\n- Cardiovascular issues such as high blood pressure and increased risk of heart attack.\\n- Liver damage and potential infertility.\\n- Psychological effects including aggression and depression.\\n  \\nDespite their performance-enhancing properties, anabolic steroids are banned in most sports leagues and athletic organizations.\\n\\n## Stimulants\\n\\nStimulants are substances that increase alertness, attention, and energy by enhancing the activity of the central nervous system. Athletes may use stimulants to reduce fatigue and improve focus during training or competition.\\n\\n### Common Stimulants\\n- **Amphetamines**: Often prescribed for ADHD but misused for increased energy.\\n- **Caffeine**: The world’s most widely consumed legal stimulant.\\n- **Ephedrine**: Used for weight loss and increased energy but banned in many competitions.\\n  \\n### Effects\\n- Increased heart rate and blood pressure.\\n- Heightened concentration and wakefulness.\\n- Temporary reduction of appetite and fatigue.\\n\\n### Risks\\n- Dependence and addiction.\\n- Cardiovascular complications, including arrhythmias and heart attacks.\\n- Nervousness, anxiety, and sleep disturbances.\\n  \\nWhile moderate caffeine use is generally accepted, other stimulants are typically prohibited due to their performance-enhancing effects and health risks.\\n\\n## Painkillers\\n\\nPainkillers, particularly opioid analgesics and non-steroidal anti-inflammatory drugs (NSAIDs), are commonly prescribed to manage injuries and pain. However, abuse can occur when athletes rely excessively on these drugs to continue competing.\\n\\n### Commonly Abused Painkillers\\n- **Opioids**: Morphine, oxycodone, hydrocodone.\\n- **NSAIDs**: Ibuprofen, naproxen (abuse generally less severe but problematic if overused).\\n\\n### Effects\\n- Temporary pain relief and increased ability to train through injury.\\n- Sedation and euphoria (primarily with opioids).\\n\\n### Risks\\n- Opioid addiction, respiratory depression, and overdose.\\n- Gastrointestinal issues and kidney damage with long-term NSAID use.\\n- Masking of pain leading to worsened injuries.\\n\\nDue to the risk of dependency, strict guidelines exist for the medical use of painkillers among athletes.\\n\\n## Recreational Drugs\\n\\nSome athletes use recreational drugs for relaxation or coping with stress, despite the negative impact on performance and health.\\n\\n### Common Recreational Drugs Abused\\n- **Cannabis**: Used for relaxation and pain relief; banned in many competitions.\\n- **Alcohol**: Consumed socially but can impair recovery and performance.\\n- **Cocaine and Ecstasy**: Occasionally abused for their stimulant and euphoric effects.\\n\\n### Effects\\n- Altered mental state, reduced reaction time, and impaired coordination.\\n- Short-term mood enhancement or relaxation.\\n\\n### Risks\\n- Detrimental effects on cardiovascular health.\\n- Legal issues and sanctions from sports authorities.\\n- Negative impact on motivation, training, and overall athletic performance.\\n\\n## Conclusion\\n\\nThe abuse of steroids, stimulants, painkillers, and recreational drugs poses serious health risks and ethical dilemmas in sports. While the desire to perform better or manage pain is understandable, these substances can undermine an athlete’s long-term wellbeing and the integrity of athletic competition. Education, support, and strict regulation remain crucial in addressing substance abuse among athletes.'),\n",
       "  CompletedSection(name='Causes and Risk Factors', content='# Causes and Risk Factors: Exploring Psychological, Social, and Professional Contributors to Substance Abuse Among Athletes\\n\\nSubstance abuse among athletes is a pressing concern that extends beyond physical performance to affect their mental health, career longevity, and overall well-being. Understanding the underlying causes and risk factors is essential for developing effective prevention and intervention strategies. This article delves into the psychological, social, and professional factors that contribute to substance abuse in the athletic community.\\n\\n## Psychological Factors\\n\\n### Pressure to Perform and Perfectionism\\nAthletes often face intense pressure to perform at peak levels consistently. This demand can trigger anxiety, stress, and feelings of inadequacy. The desire for perfection may lead some athletes to use substances such as stimulants or performance-enhancing drugs to cope with the high expectations and overcome self-doubt.\\n\\n### Mental Health Challenges\\nDepression, anxiety disorders, and other mental health issues are prevalent among athletes. The stigma around seeking psychological help often forces athletes to self-medicate with alcohol or drugs as a way to manage emotional pain, stress, or injury-related trauma.\\n\\n### Coping Mechanisms for Injury and Pain\\nPhysical injuries are a common aspect of athletic careers. The chronic pain associated with injuries can lead athletes to misuse prescription medications like opioids or overconsume alcohol to alleviate discomfort and continue training or competing, inadvertently increasing the risk of substance dependence.\\n\\n## Social Factors\\n\\n### Peer Influence and Team Culture\\nThe social environment within teams can profoundly impact substance use behaviors. If drug or alcohol use is normalized or even glamorized among teammates, new or younger athletes may feel pressured to conform to these norms to gain acceptance or camaraderie.\\n\\n### Social Isolation and Loneliness\\nDespite being part of a team, athletes may experience social isolation due to rigorous training schedules, travel, or being away from family and friends. This loneliness can increase vulnerability to substance use as a misguided attempt to fill emotional voids or manage feelings of alienation.\\n\\n### Media and Celebrity Influence\\nExposure to celebrity athletes who openly use or are rumored to use substances can create misleading narratives about drug use and its perceived benefits. This influence can lower inhibitions and reshape attitudes towards substance use, especially among younger athletes aspiring to emulate their idols.\\n\\n## Professional Factors\\n\\n### Demands of Competitive Sports\\nThe professional athletic environment is highly competitive, with careers often hinging on performance and winning. The associated stress can drive athletes to use substances that promise enhanced stamina, focus, or recovery, sometimes blurring the line between legitimate medical use and abuse.\\n\\n### Career Uncertainty and Transition Stress\\nAthletes frequently face uncertainty regarding career longevity due to factors such as injuries or declining performance. The stress related to contract negotiations, retirement planning, or forced career changes may lead to increased substance use as a maladaptive coping strategy.\\n\\n### Accessibility and Medical Prescriptions\\nAthletes generally have greater access to medical facilities and prescription medications than the general population. While this access is crucial for health management, it also increases the risk of prescription drug misuse, especially when oversight is inadequate or when medications are used beyond therapeutic purposes.\\n\\n## Conclusion\\n\\nThe causes and risk factors behind substance abuse among athletes are multifaceted, involving a complex interplay of psychological pressures, social dynamics, and professional challenges. Recognizing these contributing elements is vital for coaches, medical professionals, and support networks to create comprehensive prevention programs and provide the necessary resources to help athletes maintain healthy lifestyles free from substance abuse. Only through holistic understanding and targeted action can the athletic community effectively combat this pervasive issue.'),\n",
       "  CompletedSection(name='Health and Performance Consequences', content=\"# Health and Performance Consequences: The Physical and Mental Impacts of Substance Abuse on Athletes\\n\\nSubstance abuse among athletes is a critical issue that can profoundly affect both their health and sports performance. While some may turn to drugs or alcohol as a coping mechanism for stress, injury, or pressure, the consequences can be far-reaching and damaging. This article provides an in-depth analysis of the physical and mental impacts of substance abuse on athletes, emphasizing why maintaining a healthy lifestyle is essential for peak performance and overall well-being.\\n\\n## Physical Impacts of Substance Abuse on Athletes\\n\\n### 1. Deterioration of Cardiovascular Health\\nMany substances abused by athletes, such as stimulants and anabolic steroids, place significant strain on the cardiovascular system. Stimulants like cocaine and amphetamines increase heart rate and blood pressure, leading to arrhythmias, hypertension, and even sudden cardiac arrest. Anabolic steroids can cause thickening of the heart muscle and increase the risk of heart attacks and strokes. Such cardiovascular issues directly impair an athlete's endurance, stamina, and ability to perform at high levels.\\n\\n### 2. Impaired Muscular Strength and Recovery\\nThough some athletes misuse anabolic steroids to enhance muscle mass, chronic abuse can backfire by causing muscle cramps, weakness, and tendon ruptures. Other substances like alcohol interfere with protein synthesis and muscle repair, prolonging recovery time after training or injury. Dehydration and nutrient depletion caused by certain drugs further weaken muscles, limiting strength and agility on the field.\\n\\n### 3. Compromised Immune Function\\nSubstance abuse can suppress the immune system, making athletes more susceptible to infections and illnesses. For example, excessive alcohol intake has been shown to reduce white blood cell activity, reducing the body’s ability to fight off viruses and bacteria. This leads to increased downtime due to illness and a diminished capacity to handle the physical demands of training and competition.\\n\\n### 4. Respiratory and Neurological Damage\\nSmoking substances like tobacco or marijuana damages lung tissue and reduces oxygen uptake, critical for aerobic performance. Inhalants and certain drugs can cause long-term neurological damage including impaired coordination, balance, and reflexes—all vital for athletic skills. Brain injuries resulting from drug use can be irreversible, severely impacting motor skills and reaction times.\\n\\n## Mental and Psychological Consequences\\n\\n### 1. Cognitive Decline and Impaired Decision-Making\\nSubstance abuse affects areas of the brain responsible for judgment, focus, and reaction time. Athletes abusing drugs may experience difficulties with concentration, memory, and decision-making — all essential skills for strategic gameplay and quick reactions in sports. Cognitive impairment can lead to poor game performance and increased risk of injury.\\n\\n### 2. Increased Anxiety, Depression, and Mood Disorders\\nMany athletes turn to substances as a method of managing anxiety or depression. However, the temporary relief these substances provide is often followed by worsening symptoms. Long-term substance abuse is linked with increased rates of anxiety disorders, depression, and mood swings. Mental health struggles not only impair motivation and training consistency but also increase the likelihood of burnout and withdrawal from sport.\\n\\n### 3. Addiction and Dependence\\nPhysical and psychological dependence on performance-enhancing or recreational drugs can trap athletes in destructive cycles. Addiction disrupts daily routines, training schedules, and professional commitments. The stress of hiding substance use and dealing with its consequences adds an additional psychological burden, often leading to social isolation and damaged relationships.\\n\\n### 4. Impact on Team Dynamics and Reputation\\nMental health issues stemming from substance abuse can make athletes volatile or withdrawn, affecting communication and collaboration within a team. Additionally, public knowledge of substance abuse can tarnish an athlete’s reputation, leading to a loss of sponsorships, fan support, and career opportunities.\\n\\n## Conclusion: Prioritizing Health to Sustain Performance\\n\\nThe interplay between substance abuse and athletic health creates a dangerous cycle where physical and mental degradations impair performance, which in turn may lead to further substance use in an attempt to compensate. Athletes must prioritize healthy coping strategies, proper medical guidance, and mental health support to maintain optimal performance and longevity in their sports careers. Coaches, trainers, and sporting organizations also play a pivotal role in providing education and resources to prevent substance abuse and support recovery. Ultimately, safeguarding an athlete’s well-being ensures not only superior performance but a fulfilling and sustainable athletic journey.\"),\n",
       "  CompletedSection(name='Detection and Prevention Strategies', content='# Detection and Prevention Strategies for Substance Abuse in Athletes\\n\\nSubstance abuse in athletes not only undermines fair competition but also poses significant health risks. To maintain integrity in sports and protect athletes’ well-being, robust detection and prevention strategies are essential. This article explores the methods used to identify substance abuse in athletes and the proactive approaches employed to prevent it, focusing on testing protocols and educational programs.\\n\\n## Detection of Substance Abuse in Athletes\\n\\n### 1. Drug Testing Protocols\\nOne of the primary methods for detecting substance abuse in athletes is through comprehensive drug testing programs. These tests can be conducted both in and out of competition, aiming to identify banned substances such as anabolic steroids, stimulants, diuretics, and other performance-enhancing drugs (PEDs).\\n\\n- **Urine Testing:** The most common and widely used method, urine tests can detect a broad range of substances and their metabolites. Samples are collected under strict supervision to prevent tampering.\\n- **Blood Testing:** Used to detect substances that may not appear in urine or to determine the concentration of certain drugs, such as erythropoietin (EPO) or hormones.\\n- **Hair and Saliva Testing:** These methods are less common but provide longer detection windows or rapid results, respectively.\\n\\nTesting is typically random, scheduled, or targeted based on certain risk factors or suspicious behavior, helping to deter and catch substance abuse.\\n\\n### 2. Biological Passport Programs\\nThe Athlete Biological Passport (ABP) monitors selected biological variables over time. Rather than detecting the substance directly, it identifies abnormal changes in an athlete’s biological markers that suggest doping. This method enhances detection capabilities for substances that are otherwise difficult to identify.\\n\\n### 3. Observational and Behavioral Monitoring\\nCoaches, medical staff, and anti-doping officials also rely on behavioral observations to detect potential substance abuse. Changes in performance, physical appearance, or behavior can prompt further investigation or testing.\\n\\n## Prevention Strategies\\n\\n### 1. Education Programs\\nEducation is a cornerstone in preventing substance abuse. Athletes, coaches, and supporting personnel are provided with information about:\\n\\n- The health risks associated with drug use.\\n- The ethical implications and impact on sporting integrity.\\n- The specific substances banned by anti-doping authorities.\\n- How testing procedures work and the consequences of violations.\\n\\nEffective education fosters informed decision-making and empowers athletes to resist pressure or temptation to use prohibited substances.\\n\\n### 2. Promoting a Culture of Clean Sport\\nEncouraging a culture that values fair play and health over winning at all costs is essential. This includes:\\n\\n- Encouraging open dialogue about doping risks.\\n- Highlighting positive role models who compete clean.\\n- Building supportive environments where athletes can seek help for pressures or substance-related issues without stigma.\\n\\n### 3. Support Services and Counseling\\nProviding access to psychological support and counseling can address underlying issues that might lead athletes to use substances, such as stress, anxiety, or injury-related pain management.\\n\\n### 4. Policy and Enforcement\\nClear rules, consistent enforcement, and transparent consequences reinforce deterrents against doping. Collaboration among sports organizations, anti-doping agencies, and governments ensures that policies are up-to-date and effectively implemented.\\n\\n## Conclusion\\n\\nDetecting and preventing substance abuse in athletes requires a multifaceted approach that combines advanced testing technologies, continuous monitoring, education, and supportive environments. By integrating these strategies, the sports community can better protect athletes’ health, uphold the spirit of fair competition, and maintain public confidence in sport.'),\n",
       "  CompletedSection(name='Support and Rehabilitation', content='# Support and Rehabilitation: Helping Athletes Overcome Substance Abuse\\n\\nSubstance abuse is a significant challenge faced by many athletes, often impacting not only their performance but also their overall health and well-being. Fortunately, a variety of support systems and rehabilitation programs have been developed to assist athletes in overcoming these issues. These resources provide comprehensive care, from initial intervention to long-term recovery, helping athletes regain control of their lives both on and off the field.\\n\\n## Understanding the Need for Support and Rehabilitation\\n\\nAthletes are under tremendous pressure to perform, which can sometimes lead to the misuse of substances such as performance enhancers, painkillers, or recreational drugs. The stigma surrounding substance abuse in sports may create barriers to seeking help, making effective support and rehabilitation programs critical.\\n\\nThese programs are specifically designed to address the unique physical, emotional, and psychological demands athletes face. Tailored support systems ensure that athletes receive care that respects their competitive schedules while focusing on sustainable recovery.\\n\\n## Types of Support Systems Available to Athletes\\n\\n### 1. Counseling and Psychological Support\\n\\nOne of the foundational elements in addressing substance abuse is access to professional counseling. Sports psychologists and addiction counselors work with athletes to tackle underlying issues such as anxiety, depression, or trauma that often contribute to substance misuse. Cognitive-behavioral therapy (CBT) and motivational interviewing are common techniques used to foster behavioral change and build resilience.\\n\\n### 2. Peer Support Groups\\n\\nPeer networks provide a safe environment where athletes can share experiences, challenges, and coping strategies. Groups such as Athlete Assistance Programs (AAP) and specialized 12-step programs tailored for athletes encourage mutual support and accountability. Being part of a community reduces feelings of isolation and stigma, fostering a sense of belonging and motivation.\\n\\n### 3. Family and Social Support\\n\\nRehabilitation is more effective when athletes have a strong support system at home and within their social circles. Many programs involve family therapy or educational sessions to help loved ones understand substance abuse and learn how to provide constructive support throughout recovery.\\n\\n## Rehabilitation Programs Tailored for Athletes\\n\\n### 1. Inpatient Rehabilitation\\n\\nFor athletes with severe substance dependence, inpatient rehabilitation centers offer intensive, structured care. These programs provide medical supervision, detoxification services, and comprehensive therapy in a controlled environment. Many centers integrate physical conditioning and sports-specific rehabilitation to help athletes maintain fitness and facilitate reintegration into their sport.\\n\\n### 2. Outpatient Rehabilitation\\n\\nOutpatient programs provide flexibility for athletes who cannot commit to prolonged residential stays due to training or competition schedules. These programs offer scheduled therapy sessions, group meetings, and medical support, allowing athletes to receive care while continuing their regular activities. Outpatient care often serves as a step-down for those transitioning from inpatient programs.\\n\\n### 3. Holistic and Integrative Approaches\\n\\nModern rehabilitation programs increasingly incorporate holistic therapies to address the physical and emotional aspects of recovery. These may include yoga, mindfulness meditation, nutrition counseling, and acupuncture. Such approaches help athletes develop healthier lifestyles, manage stress, and reduce the likelihood of relapse.\\n\\n## Role of Sports Organizations and Governing Bodies\\n\\nSports organizations play a pivotal role in providing resources and creating policies that support athletes facing substance abuse. Many federations offer confidential help lines, educational seminars, and funding for rehabilitation programs. Anti-doping agencies also emphasize rehabilitation over punishment, aiming to promote athlete health and ethical competition.\\n\\n## Success Stories and Outcomes\\n\\nNumerous athletes have successfully overcome substance abuse through dedicated support and rehabilitation. These success stories highlight the effectiveness of targeted programs that combine medical treatment, psychological support, and social reintegration. Recovery not only improves personal health but also restores athletic potential and inspires others facing similar struggles.\\n\\n## Conclusion\\n\\nSubstance abuse among athletes is a complex issue requiring specialized support and rehabilitation programs. By leveraging counseling, peer support, family involvement, and tailored rehabilitation services, athletes can overcome these challenges and return to optimal performance and well-being. Ongoing collaboration between healthcare providers, sports organizations, and athletes themselves is essential to foster environments that encourage recovery and sustainable success.'),\n",
       "  CompletedSection(name='Conclusion and Future Perspectives', content='## Conclusion and Future Perspectives\\n\\n### Summary of Key Points\\n\\nAddressing substance abuse among athletes remains a critical challenge that demands comprehensive, evidence-based strategies. Throughout this article, we have explored the multifaceted nature of substance abuse in the athletic community, highlighting its complex interplay with physical performance pressures, mental health issues, and social influences. Key points include:\\n\\n- **Prevalence and Types of Substance Abuse:** Athletes are susceptible to various substances, ranging from performance-enhancing drugs like anabolic steroids to recreational drugs and prescription medication misuse.\\n- **Risk Factors:** High-performance demands, injury management, psychological stress, and the culture of competitive sports contribute significantly to the risk of substance abuse.\\n- **Impact on Health and Career:** Substance abuse not only jeopardizes athletes’ physical and mental well-being but also threatens their careers through sanctions, suspensions, and loss of reputation.\\n- **Current Prevention and Intervention Strategies:** These include education programs, strict doping controls, psychological support, and rehabilitation services tailored to the athletic population.\\n\\nUnderstanding these essentials underscores the need for a strategic, multidisciplinary approach to mitigate substance abuse risks effectively.\\n\\n### Emerging Trends and Future Approaches\\n\\nLooking forward, the landscape of managing substance abuse among athletes is evolving, propelled by advancements in technology, research, and policy development. New trends and promising approaches include:\\n\\n- **Personalized Prevention Programs:** Leveraging data analytics and behavioral assessments to create individualized intervention plans that address specific risk factors and psychological profiles unique to each athlete.\\n- **Enhanced Screening and Detection Methods:** Innovations such as biomarker identification, genetic testing, and advanced neuroimaging are improving the accuracy and timeliness of substance abuse detection.\\n- **Integrative Mental Health Services:** Future programs emphasize holistic care by integrating mental health support, stress management, and resilience training within athletic training and medical teams.\\n- **Technology-Driven Monitoring:** Wearable devices and mobile health apps are emerging as tools to monitor physiological and psychological indicators, enabling early intervention before substance use escalates.\\n- **Policy and Cultural Shift:** Developing policies that not only penalize substance abuse but also destigmatize seeking help, encouraging athletes to come forward without fear of retaliation or judgment.\\n- **Collaborative Stakeholder Engagement:** Involving coaches, medical staff, sports organizations, family members, and peers to foster a supportive environment conducive to prevention and recovery.\\n\\n### Conclusion\\n\\nThe fight against substance abuse among athletes is ongoing, and it requires adaptability to emerging scientific insights and societal changes. By embracing innovative technologies, prioritizing mental health, and fostering open communication, sports communities can better protect athletes from the risks of substance abuse. The future holds promise for more effective, personalized, and compassionate approaches that not only safeguard athletic integrity but also promote overall health and well-being.')],\n",
       " 'final_report': \"# Introduction to Substance Abuse in Athletes\\n\\nSubstance abuse among athletes is a significant concern that affects not only their health but also their performance, careers, and overall well-being. Despite the physical and mental discipline required in sports, athletes are not immune to the pressures and challenges that can lead to the use and abuse of various substances. Understanding the types of substances commonly used and the reasons why athletes may turn to them is crucial for addressing this issue effectively.\\n\\n## Common Types of Substances Abused by Athletes\\n\\nAthletes may misuse a wide range of substances, each serving different purposes or fulfilling different needs depending on the individual and their circumstances. Some of the most common categories include:\\n\\n### 1. Performance-Enhancing Drugs (PEDs)\\nPerformance-enhancing drugs are substances used to improve athletic ability beyond natural limits. These include anabolic steroids, human growth hormone (HGH), erythropoietin (EPO), and stimulants. Athletes may use these drugs to increase muscle mass, enhance endurance, speed up recovery, and gain a competitive advantage.\\n\\n### 2. Recreational Drugs\\nRecreational drugs such as marijuana, cocaine, MDMA, and opioids are sometimes abused by athletes to cope with stress, manage pain, or for social reasons. While these substances do not improve athletic performance and can be detrimental, their use is often linked to external pressures or underlying issues.\\n\\n### 3. Prescription Medications\\nCertain prescription medications, including painkillers (opioids), anti-anxiety drugs (benzodiazepines), and stimulants (used for ADHD), can be abused by athletes. These drugs might be used to manage pain from injuries, reduce anxiety before competitions, or increase focus and alertness.\\n\\n### 4. Over-the-Counter (OTC) Substances and Supplements\\nThough generally legal and accessible, some OTC substances and dietary supplements can be misused, especially when athletes seek to lose weight rapidly or boost energy. Misuse can sometimes lead to harmful side effects or positive doping tests if the substances contain banned ingredients.\\n\\n## Reasons for Substance Abuse Among Athletes\\n\\nThe motivations behind substance abuse in athletes are complex and multifaceted. Some of the most common reasons include:\\n\\n### 1. Enhancing Performance\\nThe intense desire to win and excel can lead athletes to experiment with drugs that promise enhanced strength, endurance, or recovery. In highly competitive environments, athletes may feel pressure to push beyond their natural limits.\\n\\n### 2. Coping with Pain and Injuries\\nPhysical injuries are common in sports, and the pain associated with them can lead athletes to seek relief through prescription painkillers or other substances. Unfortunately, this can sometimes escalate into abuse and dependency.\\n\\n### 3. Managing Stress and Anxiety\\nThe psychological pressures of competition, public scrutiny, and personal expectations can cause significant mental stress. Some athletes turn to drugs to alleviate anxiety, improve mood, or escape from personal and professional challenges.\\n\\n### 4. Peer Influence and Culture\\nIn some sports cultures, the use of substances may be normalized or even encouraged, creating an environment where athletes feel compelled to conform. Peer influence and the desire to belong can drive substance use.\\n\\n### 5. Weight Control and Body Image\\nCertain sports emphasize weight categories or aesthetic appearance, prompting athletes to misuse substances that suppress appetite or promote rapid weight loss.\\n\\n## Conclusion\\n\\nSubstance abuse in athletes is a serious and multifaceted problem that demands awareness, education, and intervention at multiple levels. Recognizing the types of substances commonly abused and understanding the underlying reasons for their use is the first step towards promoting healthier choices and safeguarding the integrity of sports. Athletes, coaches, medical professionals, and organizations must work collaboratively to address these issues through prevention, support, and treatment.\\n\\n# Common Substances Abused by Athletes\\n\\nAthletes often face immense pressure to perform at their best, maintain stamina, and recover quickly from injuries. Unfortunately, some turn to substances that can enhance performance or alleviate pain, despite the health risks and ethical concerns involved. This article provides a detailed description of the most frequently abused substances among athletes, focusing on steroids, stimulants, painkillers, and recreational drugs.\\n\\n## Anabolic Steroids\\n\\nAnabolic steroids are synthetic variations of the male hormone testosterone. Athletes abuse them to increase muscle mass, strength, and overall physical performance. Steroids work by promoting protein synthesis within cells, leading to rapid muscle growth.\\n\\n### Common Types and Effects\\n- **Types**: Testosterone, nandrolone, stanozolol, and methyltestosterone.\\n- **Effects**: Increased muscle size, enhanced recovery rate, greater endurance, and reduced fatigue.\\n\\n### Risks and Side Effects\\n- Hormonal imbalances leading to acne, hair loss, and mood swings.\\n- Cardiovascular issues such as high blood pressure and increased risk of heart attack.\\n- Liver damage and potential infertility.\\n- Psychological effects including aggression and depression.\\n  \\nDespite their performance-enhancing properties, anabolic steroids are banned in most sports leagues and athletic organizations.\\n\\n## Stimulants\\n\\nStimulants are substances that increase alertness, attention, and energy by enhancing the activity of the central nervous system. Athletes may use stimulants to reduce fatigue and improve focus during training or competition.\\n\\n### Common Stimulants\\n- **Amphetamines**: Often prescribed for ADHD but misused for increased energy.\\n- **Caffeine**: The world’s most widely consumed legal stimulant.\\n- **Ephedrine**: Used for weight loss and increased energy but banned in many competitions.\\n  \\n### Effects\\n- Increased heart rate and blood pressure.\\n- Heightened concentration and wakefulness.\\n- Temporary reduction of appetite and fatigue.\\n\\n### Risks\\n- Dependence and addiction.\\n- Cardiovascular complications, including arrhythmias and heart attacks.\\n- Nervousness, anxiety, and sleep disturbances.\\n  \\nWhile moderate caffeine use is generally accepted, other stimulants are typically prohibited due to their performance-enhancing effects and health risks.\\n\\n## Painkillers\\n\\nPainkillers, particularly opioid analgesics and non-steroidal anti-inflammatory drugs (NSAIDs), are commonly prescribed to manage injuries and pain. However, abuse can occur when athletes rely excessively on these drugs to continue competing.\\n\\n### Commonly Abused Painkillers\\n- **Opioids**: Morphine, oxycodone, hydrocodone.\\n- **NSAIDs**: Ibuprofen, naproxen (abuse generally less severe but problematic if overused).\\n\\n### Effects\\n- Temporary pain relief and increased ability to train through injury.\\n- Sedation and euphoria (primarily with opioids).\\n\\n### Risks\\n- Opioid addiction, respiratory depression, and overdose.\\n- Gastrointestinal issues and kidney damage with long-term NSAID use.\\n- Masking of pain leading to worsened injuries.\\n\\nDue to the risk of dependency, strict guidelines exist for the medical use of painkillers among athletes.\\n\\n## Recreational Drugs\\n\\nSome athletes use recreational drugs for relaxation or coping with stress, despite the negative impact on performance and health.\\n\\n### Common Recreational Drugs Abused\\n- **Cannabis**: Used for relaxation and pain relief; banned in many competitions.\\n- **Alcohol**: Consumed socially but can impair recovery and performance.\\n- **Cocaine and Ecstasy**: Occasionally abused for their stimulant and euphoric effects.\\n\\n### Effects\\n- Altered mental state, reduced reaction time, and impaired coordination.\\n- Short-term mood enhancement or relaxation.\\n\\n### Risks\\n- Detrimental effects on cardiovascular health.\\n- Legal issues and sanctions from sports authorities.\\n- Negative impact on motivation, training, and overall athletic performance.\\n\\n## Conclusion\\n\\nThe abuse of steroids, stimulants, painkillers, and recreational drugs poses serious health risks and ethical dilemmas in sports. While the desire to perform better or manage pain is understandable, these substances can undermine an athlete’s long-term wellbeing and the integrity of athletic competition. Education, support, and strict regulation remain crucial in addressing substance abuse among athletes.\\n\\n# Causes and Risk Factors: Exploring Psychological, Social, and Professional Contributors to Substance Abuse Among Athletes\\n\\nSubstance abuse among athletes is a pressing concern that extends beyond physical performance to affect their mental health, career longevity, and overall well-being. Understanding the underlying causes and risk factors is essential for developing effective prevention and intervention strategies. This article delves into the psychological, social, and professional factors that contribute to substance abuse in the athletic community.\\n\\n## Psychological Factors\\n\\n### Pressure to Perform and Perfectionism\\nAthletes often face intense pressure to perform at peak levels consistently. This demand can trigger anxiety, stress, and feelings of inadequacy. The desire for perfection may lead some athletes to use substances such as stimulants or performance-enhancing drugs to cope with the high expectations and overcome self-doubt.\\n\\n### Mental Health Challenges\\nDepression, anxiety disorders, and other mental health issues are prevalent among athletes. The stigma around seeking psychological help often forces athletes to self-medicate with alcohol or drugs as a way to manage emotional pain, stress, or injury-related trauma.\\n\\n### Coping Mechanisms for Injury and Pain\\nPhysical injuries are a common aspect of athletic careers. The chronic pain associated with injuries can lead athletes to misuse prescription medications like opioids or overconsume alcohol to alleviate discomfort and continue training or competing, inadvertently increasing the risk of substance dependence.\\n\\n## Social Factors\\n\\n### Peer Influence and Team Culture\\nThe social environment within teams can profoundly impact substance use behaviors. If drug or alcohol use is normalized or even glamorized among teammates, new or younger athletes may feel pressured to conform to these norms to gain acceptance or camaraderie.\\n\\n### Social Isolation and Loneliness\\nDespite being part of a team, athletes may experience social isolation due to rigorous training schedules, travel, or being away from family and friends. This loneliness can increase vulnerability to substance use as a misguided attempt to fill emotional voids or manage feelings of alienation.\\n\\n### Media and Celebrity Influence\\nExposure to celebrity athletes who openly use or are rumored to use substances can create misleading narratives about drug use and its perceived benefits. This influence can lower inhibitions and reshape attitudes towards substance use, especially among younger athletes aspiring to emulate their idols.\\n\\n## Professional Factors\\n\\n### Demands of Competitive Sports\\nThe professional athletic environment is highly competitive, with careers often hinging on performance and winning. The associated stress can drive athletes to use substances that promise enhanced stamina, focus, or recovery, sometimes blurring the line between legitimate medical use and abuse.\\n\\n### Career Uncertainty and Transition Stress\\nAthletes frequently face uncertainty regarding career longevity due to factors such as injuries or declining performance. The stress related to contract negotiations, retirement planning, or forced career changes may lead to increased substance use as a maladaptive coping strategy.\\n\\n### Accessibility and Medical Prescriptions\\nAthletes generally have greater access to medical facilities and prescription medications than the general population. While this access is crucial for health management, it also increases the risk of prescription drug misuse, especially when oversight is inadequate or when medications are used beyond therapeutic purposes.\\n\\n## Conclusion\\n\\nThe causes and risk factors behind substance abuse among athletes are multifaceted, involving a complex interplay of psychological pressures, social dynamics, and professional challenges. Recognizing these contributing elements is vital for coaches, medical professionals, and support networks to create comprehensive prevention programs and provide the necessary resources to help athletes maintain healthy lifestyles free from substance abuse. Only through holistic understanding and targeted action can the athletic community effectively combat this pervasive issue.\\n\\n# Health and Performance Consequences: The Physical and Mental Impacts of Substance Abuse on Athletes\\n\\nSubstance abuse among athletes is a critical issue that can profoundly affect both their health and sports performance. While some may turn to drugs or alcohol as a coping mechanism for stress, injury, or pressure, the consequences can be far-reaching and damaging. This article provides an in-depth analysis of the physical and mental impacts of substance abuse on athletes, emphasizing why maintaining a healthy lifestyle is essential for peak performance and overall well-being.\\n\\n## Physical Impacts of Substance Abuse on Athletes\\n\\n### 1. Deterioration of Cardiovascular Health\\nMany substances abused by athletes, such as stimulants and anabolic steroids, place significant strain on the cardiovascular system. Stimulants like cocaine and amphetamines increase heart rate and blood pressure, leading to arrhythmias, hypertension, and even sudden cardiac arrest. Anabolic steroids can cause thickening of the heart muscle and increase the risk of heart attacks and strokes. Such cardiovascular issues directly impair an athlete's endurance, stamina, and ability to perform at high levels.\\n\\n### 2. Impaired Muscular Strength and Recovery\\nThough some athletes misuse anabolic steroids to enhance muscle mass, chronic abuse can backfire by causing muscle cramps, weakness, and tendon ruptures. Other substances like alcohol interfere with protein synthesis and muscle repair, prolonging recovery time after training or injury. Dehydration and nutrient depletion caused by certain drugs further weaken muscles, limiting strength and agility on the field.\\n\\n### 3. Compromised Immune Function\\nSubstance abuse can suppress the immune system, making athletes more susceptible to infections and illnesses. For example, excessive alcohol intake has been shown to reduce white blood cell activity, reducing the body’s ability to fight off viruses and bacteria. This leads to increased downtime due to illness and a diminished capacity to handle the physical demands of training and competition.\\n\\n### 4. Respiratory and Neurological Damage\\nSmoking substances like tobacco or marijuana damages lung tissue and reduces oxygen uptake, critical for aerobic performance. Inhalants and certain drugs can cause long-term neurological damage including impaired coordination, balance, and reflexes—all vital for athletic skills. Brain injuries resulting from drug use can be irreversible, severely impacting motor skills and reaction times.\\n\\n## Mental and Psychological Consequences\\n\\n### 1. Cognitive Decline and Impaired Decision-Making\\nSubstance abuse affects areas of the brain responsible for judgment, focus, and reaction time. Athletes abusing drugs may experience difficulties with concentration, memory, and decision-making — all essential skills for strategic gameplay and quick reactions in sports. Cognitive impairment can lead to poor game performance and increased risk of injury.\\n\\n### 2. Increased Anxiety, Depression, and Mood Disorders\\nMany athletes turn to substances as a method of managing anxiety or depression. However, the temporary relief these substances provide is often followed by worsening symptoms. Long-term substance abuse is linked with increased rates of anxiety disorders, depression, and mood swings. Mental health struggles not only impair motivation and training consistency but also increase the likelihood of burnout and withdrawal from sport.\\n\\n### 3. Addiction and Dependence\\nPhysical and psychological dependence on performance-enhancing or recreational drugs can trap athletes in destructive cycles. Addiction disrupts daily routines, training schedules, and professional commitments. The stress of hiding substance use and dealing with its consequences adds an additional psychological burden, often leading to social isolation and damaged relationships.\\n\\n### 4. Impact on Team Dynamics and Reputation\\nMental health issues stemming from substance abuse can make athletes volatile or withdrawn, affecting communication and collaboration within a team. Additionally, public knowledge of substance abuse can tarnish an athlete’s reputation, leading to a loss of sponsorships, fan support, and career opportunities.\\n\\n## Conclusion: Prioritizing Health to Sustain Performance\\n\\nThe interplay between substance abuse and athletic health creates a dangerous cycle where physical and mental degradations impair performance, which in turn may lead to further substance use in an attempt to compensate. Athletes must prioritize healthy coping strategies, proper medical guidance, and mental health support to maintain optimal performance and longevity in their sports careers. Coaches, trainers, and sporting organizations also play a pivotal role in providing education and resources to prevent substance abuse and support recovery. Ultimately, safeguarding an athlete’s well-being ensures not only superior performance but a fulfilling and sustainable athletic journey.\\n\\n# Detection and Prevention Strategies for Substance Abuse in Athletes\\n\\nSubstance abuse in athletes not only undermines fair competition but also poses significant health risks. To maintain integrity in sports and protect athletes’ well-being, robust detection and prevention strategies are essential. This article explores the methods used to identify substance abuse in athletes and the proactive approaches employed to prevent it, focusing on testing protocols and educational programs.\\n\\n## Detection of Substance Abuse in Athletes\\n\\n### 1. Drug Testing Protocols\\nOne of the primary methods for detecting substance abuse in athletes is through comprehensive drug testing programs. These tests can be conducted both in and out of competition, aiming to identify banned substances such as anabolic steroids, stimulants, diuretics, and other performance-enhancing drugs (PEDs).\\n\\n- **Urine Testing:** The most common and widely used method, urine tests can detect a broad range of substances and their metabolites. Samples are collected under strict supervision to prevent tampering.\\n- **Blood Testing:** Used to detect substances that may not appear in urine or to determine the concentration of certain drugs, such as erythropoietin (EPO) or hormones.\\n- **Hair and Saliva Testing:** These methods are less common but provide longer detection windows or rapid results, respectively.\\n\\nTesting is typically random, scheduled, or targeted based on certain risk factors or suspicious behavior, helping to deter and catch substance abuse.\\n\\n### 2. Biological Passport Programs\\nThe Athlete Biological Passport (ABP) monitors selected biological variables over time. Rather than detecting the substance directly, it identifies abnormal changes in an athlete’s biological markers that suggest doping. This method enhances detection capabilities for substances that are otherwise difficult to identify.\\n\\n### 3. Observational and Behavioral Monitoring\\nCoaches, medical staff, and anti-doping officials also rely on behavioral observations to detect potential substance abuse. Changes in performance, physical appearance, or behavior can prompt further investigation or testing.\\n\\n## Prevention Strategies\\n\\n### 1. Education Programs\\nEducation is a cornerstone in preventing substance abuse. Athletes, coaches, and supporting personnel are provided with information about:\\n\\n- The health risks associated with drug use.\\n- The ethical implications and impact on sporting integrity.\\n- The specific substances banned by anti-doping authorities.\\n- How testing procedures work and the consequences of violations.\\n\\nEffective education fosters informed decision-making and empowers athletes to resist pressure or temptation to use prohibited substances.\\n\\n### 2. Promoting a Culture of Clean Sport\\nEncouraging a culture that values fair play and health over winning at all costs is essential. This includes:\\n\\n- Encouraging open dialogue about doping risks.\\n- Highlighting positive role models who compete clean.\\n- Building supportive environments where athletes can seek help for pressures or substance-related issues without stigma.\\n\\n### 3. Support Services and Counseling\\nProviding access to psychological support and counseling can address underlying issues that might lead athletes to use substances, such as stress, anxiety, or injury-related pain management.\\n\\n### 4. Policy and Enforcement\\nClear rules, consistent enforcement, and transparent consequences reinforce deterrents against doping. Collaboration among sports organizations, anti-doping agencies, and governments ensures that policies are up-to-date and effectively implemented.\\n\\n## Conclusion\\n\\nDetecting and preventing substance abuse in athletes requires a multifaceted approach that combines advanced testing technologies, continuous monitoring, education, and supportive environments. By integrating these strategies, the sports community can better protect athletes’ health, uphold the spirit of fair competition, and maintain public confidence in sport.\\n\\n# Support and Rehabilitation: Helping Athletes Overcome Substance Abuse\\n\\nSubstance abuse is a significant challenge faced by many athletes, often impacting not only their performance but also their overall health and well-being. Fortunately, a variety of support systems and rehabilitation programs have been developed to assist athletes in overcoming these issues. These resources provide comprehensive care, from initial intervention to long-term recovery, helping athletes regain control of their lives both on and off the field.\\n\\n## Understanding the Need for Support and Rehabilitation\\n\\nAthletes are under tremendous pressure to perform, which can sometimes lead to the misuse of substances such as performance enhancers, painkillers, or recreational drugs. The stigma surrounding substance abuse in sports may create barriers to seeking help, making effective support and rehabilitation programs critical.\\n\\nThese programs are specifically designed to address the unique physical, emotional, and psychological demands athletes face. Tailored support systems ensure that athletes receive care that respects their competitive schedules while focusing on sustainable recovery.\\n\\n## Types of Support Systems Available to Athletes\\n\\n### 1. Counseling and Psychological Support\\n\\nOne of the foundational elements in addressing substance abuse is access to professional counseling. Sports psychologists and addiction counselors work with athletes to tackle underlying issues such as anxiety, depression, or trauma that often contribute to substance misuse. Cognitive-behavioral therapy (CBT) and motivational interviewing are common techniques used to foster behavioral change and build resilience.\\n\\n### 2. Peer Support Groups\\n\\nPeer networks provide a safe environment where athletes can share experiences, challenges, and coping strategies. Groups such as Athlete Assistance Programs (AAP) and specialized 12-step programs tailored for athletes encourage mutual support and accountability. Being part of a community reduces feelings of isolation and stigma, fostering a sense of belonging and motivation.\\n\\n### 3. Family and Social Support\\n\\nRehabilitation is more effective when athletes have a strong support system at home and within their social circles. Many programs involve family therapy or educational sessions to help loved ones understand substance abuse and learn how to provide constructive support throughout recovery.\\n\\n## Rehabilitation Programs Tailored for Athletes\\n\\n### 1. Inpatient Rehabilitation\\n\\nFor athletes with severe substance dependence, inpatient rehabilitation centers offer intensive, structured care. These programs provide medical supervision, detoxification services, and comprehensive therapy in a controlled environment. Many centers integrate physical conditioning and sports-specific rehabilitation to help athletes maintain fitness and facilitate reintegration into their sport.\\n\\n### 2. Outpatient Rehabilitation\\n\\nOutpatient programs provide flexibility for athletes who cannot commit to prolonged residential stays due to training or competition schedules. These programs offer scheduled therapy sessions, group meetings, and medical support, allowing athletes to receive care while continuing their regular activities. Outpatient care often serves as a step-down for those transitioning from inpatient programs.\\n\\n### 3. Holistic and Integrative Approaches\\n\\nModern rehabilitation programs increasingly incorporate holistic therapies to address the physical and emotional aspects of recovery. These may include yoga, mindfulness meditation, nutrition counseling, and acupuncture. Such approaches help athletes develop healthier lifestyles, manage stress, and reduce the likelihood of relapse.\\n\\n## Role of Sports Organizations and Governing Bodies\\n\\nSports organizations play a pivotal role in providing resources and creating policies that support athletes facing substance abuse. Many federations offer confidential help lines, educational seminars, and funding for rehabilitation programs. Anti-doping agencies also emphasize rehabilitation over punishment, aiming to promote athlete health and ethical competition.\\n\\n## Success Stories and Outcomes\\n\\nNumerous athletes have successfully overcome substance abuse through dedicated support and rehabilitation. These success stories highlight the effectiveness of targeted programs that combine medical treatment, psychological support, and social reintegration. Recovery not only improves personal health but also restores athletic potential and inspires others facing similar struggles.\\n\\n## Conclusion\\n\\nSubstance abuse among athletes is a complex issue requiring specialized support and rehabilitation programs. By leveraging counseling, peer support, family involvement, and tailored rehabilitation services, athletes can overcome these challenges and return to optimal performance and well-being. Ongoing collaboration between healthcare providers, sports organizations, and athletes themselves is essential to foster environments that encourage recovery and sustainable success.\\n\\n## Conclusion and Future Perspectives\\n\\n### Summary of Key Points\\n\\nAddressing substance abuse among athletes remains a critical challenge that demands comprehensive, evidence-based strategies. Throughout this article, we have explored the multifaceted nature of substance abuse in the athletic community, highlighting its complex interplay with physical performance pressures, mental health issues, and social influences. Key points include:\\n\\n- **Prevalence and Types of Substance Abuse:** Athletes are susceptible to various substances, ranging from performance-enhancing drugs like anabolic steroids to recreational drugs and prescription medication misuse.\\n- **Risk Factors:** High-performance demands, injury management, psychological stress, and the culture of competitive sports contribute significantly to the risk of substance abuse.\\n- **Impact on Health and Career:** Substance abuse not only jeopardizes athletes’ physical and mental well-being but also threatens their careers through sanctions, suspensions, and loss of reputation.\\n- **Current Prevention and Intervention Strategies:** These include education programs, strict doping controls, psychological support, and rehabilitation services tailored to the athletic population.\\n\\nUnderstanding these essentials underscores the need for a strategic, multidisciplinary approach to mitigate substance abuse risks effectively.\\n\\n### Emerging Trends and Future Approaches\\n\\nLooking forward, the landscape of managing substance abuse among athletes is evolving, propelled by advancements in technology, research, and policy development. New trends and promising approaches include:\\n\\n- **Personalized Prevention Programs:** Leveraging data analytics and behavioral assessments to create individualized intervention plans that address specific risk factors and psychological profiles unique to each athlete.\\n- **Enhanced Screening and Detection Methods:** Innovations such as biomarker identification, genetic testing, and advanced neuroimaging are improving the accuracy and timeliness of substance abuse detection.\\n- **Integrative Mental Health Services:** Future programs emphasize holistic care by integrating mental health support, stress management, and resilience training within athletic training and medical teams.\\n- **Technology-Driven Monitoring:** Wearable devices and mobile health apps are emerging as tools to monitor physiological and psychological indicators, enabling early intervention before substance use escalates.\\n- **Policy and Cultural Shift:** Developing policies that not only penalize substance abuse but also destigmatize seeking help, encouraging athletes to come forward without fear of retaliation or judgment.\\n- **Collaborative Stakeholder Engagement:** Involving coaches, medical staff, sports organizations, family members, and peers to foster a supportive environment conducive to prevention and recovery.\\n\\n### Conclusion\\n\\nThe fight against substance abuse among athletes is ongoing, and it requires adaptability to emerging scientific insights and societal changes. By embracing innovative technologies, prioritizing mental health, and fostering open communication, sports communities can better protect athletes from the risks of substance abuse. The future holds promise for more effective, personalized, and compassionate approaches that not only safeguard athletic integrity but also promote overall health and well-being.\"}"
      ]
     },
     "execution_count": 35,
     "metadata": {},
     "output_type": "execute_result"
    }
   ],
   "source": [
    "workflow.invoke({\"topic\": \"Substance abuse of athletes\"})"
   ]
  },
  {
   "cell_type": "markdown",
   "metadata": {},
   "source": [
    "Finally, I'll show you how to implement a evaluator-optimizer workflow. "
   ]
  },
  {
   "cell_type": "markdown",
   "metadata": {},
   "source": "### Evaluator-optimizer\n\nThis workflow is useful when we have clear evaluation criteria that an LLM evaluator can use to provide feedback to the LLM generator to iteratively improve its output.\n\nHere's what the workflow looks like:\n\n```{mermaid}\nflowchart LR\n    In([In]) --> Gen[\"Generator (LLM)\"]\n    Gen -- \"Solution\" --> Eval[\"Evaluator (LLM)\"]\n    Eval -- \"Accepted\" --> Out([Out])\n    Eval -- \"Rejected + Feedback\" --> Gen\n```\n\n**Examples:**\n\n- Content generation that must match certain guidelines such as writing with a particular style.\n- Improving search results iteratively\n\nI'll walk you through an example of an evaluator-optimizer workflow where you'll generate a text, evaluate if it matches certain criteria, and then iteratively improve it.\n\nLet's start with the vanilla implementation."
  },
  {
   "cell_type": "markdown",
   "metadata": {},
   "source": [
    "#### Vanilla (+LangChain)"
   ]
  },
  {
   "cell_type": "markdown",
   "metadata": {},
   "source": [
    "As usual, you start by defining the state and required data models."
   ]
  },
  {
   "cell_type": "code",
   "execution_count": 36,
   "metadata": {},
   "outputs": [],
   "source": [
    "class Evaluation(BaseModel):\n",
    "    explanation: str = Field(\n",
    "        description=\"Explain why the text evaluated matches or not the evaluation criteria\"\n",
    "    )\n",
    "    feedback: str = Field(\n",
    "        description=\"Provide feedback to the writer to improve the text\"\n",
    "    )\n",
    "    is_correct: bool = Field(\n",
    "        description=\"Whether the text evaluated matches or not the evaluation criteria\"\n",
    "    )\n",
    "\n",
    "\n",
    "class State(BaseModel):\n",
    "    topic: str\n",
    "    article: Optional[str] = None\n",
    "    evaluation: Optional[Evaluation] = None"
   ]
  },
  {
   "cell_type": "markdown",
   "metadata": {},
   "source": [
    "Then, you define the functions for each step in the workflow. "
   ]
  },
  {
   "cell_type": "code",
   "execution_count": 37,
   "metadata": {},
   "outputs": [],
   "source": [
    "def evaluate_text(state: State) -> Evaluation:\n",
    "    model_with_str_output = model.with_structured_output(Evaluation)\n",
    "    messages = [\n",
    "        SystemMessage(\n",
    "            content=\"You are an expert evaluator. Provided with a text, you will evaluate if it's written in British English and if it's appropriate for a young audience. The text must always use British spelling and grammar. Make sure the text doesn't include any em dashes.\"\n",
    "        ),\n",
    "        HumanMessage(content=f\"Evaluate the following text:\\n\\n{state.article}\"),\n",
    "    ]\n",
    "    response = model_with_str_output.invoke(messages)\n",
    "    return response\n",
    "\n",
    "\n",
    "def fix_text(state: State) -> str:\n",
    "    messages = [\n",
    "        SystemMessage(\n",
    "            content=\"You are an expert writer. Provided with a text and feedback, you wil improve the text.\"\n",
    "        ),\n",
    "        HumanMessage(\n",
    "            content=f\"You were tasked with writing an article about {state.topic}. You wrote the following text:\\n\\n{state.article}\\n\\nYou've got the following feedback:\\n\\n{state.evaluation.feedback}\\n\\nFix the text to improve it.\"\n",
    "        ),\n",
    "    ]\n",
    "    response = model.invoke(messages)\n",
    "    return response.content\n",
    "\n",
    "\n",
    "def generate_text(state: State) -> str:\n",
    "    messages = [\n",
    "        SystemMessage(\n",
    "            content=\"You are an expert writer. Provided with a topic, you will generate an engaging article with less than 500 words.\"\n",
    "        ),\n",
    "        HumanMessage(content=f\"Generate a text about this topic:\\n\\n{state.topic}\"),\n",
    "    ]\n",
    "    response = model.invoke(messages)\n",
    "    return response.content\n",
    "\n",
    "\n",
    "def generate_text_dispatch(state: State) -> str:\n",
    "    if state.evaluation:\n",
    "        return fix_text(state)\n",
    "    return generate_text(state)"
   ]
  },
  {
   "cell_type": "markdown",
   "metadata": {},
   "source": [
    "Finally, you create `run_workflow` function that orchestrates the workflow. In this case, it takes a topic, generates a text, evaluates it, and tries to iteratively improve it. If it fails more than 3 times, it stops."
   ]
  },
  {
   "cell_type": "code",
   "execution_count": 38,
   "metadata": {},
   "outputs": [],
   "source": [
    "def run_workflow(topic: str) -> State:\n",
    "    state = State(topic=topic)\n",
    "    for _ in range(4):\n",
    "        state.article = generate_text_dispatch(state)\n",
    "        state.evaluation = evaluate_text(state)\n",
    "        if state.evaluation.is_correct:\n",
    "            return state\n",
    "    return state\n",
    "\n",
    "\n",
    "output = run_workflow(\"Substance abuse of athletes\")"
   ]
  },
  {
   "cell_type": "markdown",
   "metadata": {},
   "source": [
    "Next, let's see the LangGraph implementation. "
   ]
  },
  {
   "cell_type": "markdown",
   "metadata": {},
   "source": [
    "#### LangGraph"
   ]
  },
  {
   "cell_type": "markdown",
   "metadata": {
    "vscode": {
     "languageId": "raw"
    }
   },
   "source": [
    "You'll start by defining the state of the workflow and data model required for the workflow. "
   ]
  },
  {
   "cell_type": "code",
   "execution_count": 39,
   "metadata": {},
   "outputs": [],
   "source": [
    "class Evaluation(BaseModel):\n",
    "    explanation: str\n",
    "    feedback: str\n",
    "    is_correct: bool\n",
    "\n",
    "\n",
    "class State(TypedDict):\n",
    "    topic: str\n",
    "    article: str\n",
    "    evaluation: Evaluation\n",
    "    num_reviews: int"
   ]
  },
  {
   "cell_type": "markdown",
   "metadata": {},
   "source": [
    "In this case, you keep the number of reviews in the state. That's how you'll be able to stop the workflow when the number of reviews is reached.\n",
    "\n",
    "Next, you must define the functions for each node in the workflow."
   ]
  },
  {
   "cell_type": "code",
   "execution_count": 40,
   "metadata": {},
   "outputs": [],
   "source": [
    "def generate_article(state: State) -> dict:\n",
    "    messages = [\n",
    "        SystemMessage(\n",
    "            content=\"You are an expert writer. Provided with a topic, you will generate an engaging article with less than 500 words.\"\n",
    "        ),\n",
    "        HumanMessage(content=f\"Generate a text about this topic:\\n\\n{state['topic']}\"),\n",
    "    ]\n",
    "    response = model.invoke(messages)\n",
    "    return {\"article\": response.content}\n",
    "\n",
    "\n",
    "def fix_article(state: State) -> dict:\n",
    "    messages = [\n",
    "        SystemMessage(\n",
    "            content=\"You are an expert writer. Provided with a text, you will fix the text to improve it. The text must always use British spelling and grammar.\"\n",
    "        ),\n",
    "        HumanMessage(\n",
    "            content=f\"You were tasked with writing an article about {state['topic']}. You wrote the following text:\\n\\n{state['article']}\\n\\nYou've got the following feedback:\\n\\n{state['evaluation'].feedback}\\n\\nFix the text to improve it.\"\n",
    "        ),\n",
    "    ]\n",
    "    response = model.invoke(messages)\n",
    "    return {\"article\": response.content}\n",
    "\n",
    "\n",
    "def evaluate_article(state: State) -> dict:\n",
    "    model_with_str_output = model.with_structured_output(Evaluation)\n",
    "    messages = [\n",
    "        SystemMessage(\n",
    "            content=\"You are an expert evaluator. Provided with a text, you will evaluate if it's written in British English and if it's appropriate for a young audience. The text must always use British spelling and grammar. Make sure the text doesn't include any em dash. Be very strict with the evaluation. In case of doubt, return a negative evaluation.\"\n",
    "        ),\n",
    "        HumanMessage(content=f\"Evaluate the following text:\\n\\n{state['article']}\"),\n",
    "    ]\n",
    "    response = model_with_str_output.invoke(messages)\n",
    "    return {\"evaluation\": response, \"num_reviews\": state.get(\"num_reviews\", 0) + 1}\n",
    "\n",
    "\n",
    "def route_text(state: State) -> str:\n",
    "    evaluation = state.get(\"evaluation\", None)\n",
    "    num_reviews = state.get(\"num_reviews\", 0)\n",
    "    if evaluation and not evaluation.is_correct and num_reviews < 3:\n",
    "        return \"Fail\"\n",
    "    return \"Pass\"\n",
    "\n",
    "\n",
    "def generate_article_dispatch(state: State) -> dict:\n",
    "    if \"evaluation\" in state and state[\"evaluation\"]:\n",
    "        return fix_article(state)\n",
    "    else:\n",
    "        return generate_article(state)"
   ]
  },
  {
   "cell_type": "markdown",
   "metadata": {},
   "source": [
    "You define:\n",
    "\n",
    "1. `generate_text`: This function generates a text based on the topic.\n",
    "2. `evaluate_text`: This function evaluates the text based on the topic.\n",
    "3. `fix_text`: This function fixes the text based on the feedback.\n",
    "4. `generate_article_dispatch`: This function dispatches the text generation task to either the `generate_text` or `fix_text` function based on the evaluation.\n",
    "\n",
    "Next, you need to define the graph that will be used to run the workflow. "
   ]
  },
  {
   "cell_type": "code",
   "execution_count": 41,
   "metadata": {},
   "outputs": [],
   "source": [
    "workflow_builder = StateGraph(State)\n",
    "\n",
    "workflow_builder.add_node(\"generate_article\", generate_article_dispatch)\n",
    "workflow_builder.add_node(\"evaluate_article\", evaluate_article)\n",
    "\n",
    "workflow_builder.add_edge(START, \"generate_article\")\n",
    "workflow_builder.add_edge(\"generate_article\", \"evaluate_article\")\n",
    "workflow_builder.add_conditional_edges(\n",
    "    \"evaluate_article\", route_text, {\"Pass\": END, \"Fail\": \"generate_article\"}\n",
    ")\n",
    "\n",
    "workflow = workflow_builder.compile()"
   ]
  },
  {
   "cell_type": "markdown",
   "metadata": {},
   "source": [
    "You start by defining the workflow's architecture with a StateGraph object. Your functions are then brought in as the nodes, and the operational sequence between them is set by defining the edges. Similar to the *Prompt chaining* pattern, you can use a conditional edge to dynamically route the workflow's logic based on its current state. But instead of routing to a node, you route back to the text generation node, and iterate until the text is good enough.\n",
    "\n",
    "Next, you call the `compile` method to convert your graph into a runnable workflow. You can also generate a visual diagram of the workflow using the `get_graph` and `draw_mermaid_png` functions."
   ]
  },
  {
   "cell_type": "code",
   "execution_count": 42,
   "metadata": {},
   "outputs": [
    {
     "data": {
      "image/png": "[encoded data removed]",
      "text/plain": [
       "<IPython.core.display.Image object>"
      ]
     },
     "metadata": {},
     "output_type": "display_data"
    }
   ],
   "source": [
    "display(Image(workflow.get_graph().draw_mermaid_png()))"
   ]
  },
  {
   "cell_type": "markdown",
   "metadata": {},
   "source": [
    "Finally, you can run the workflow with the `invoke` method."
   ]
  },
  {
   "cell_type": "code",
   "execution_count": 43,
   "metadata": {},
   "outputs": [
    {
     "data": {
      "text/plain": [
       "{'topic': 'Suggest the use enhancing drugs to athletes',\n",
       " 'article': 'The use of performance-enhancing drugs (PEDs) in sports is a complicated and sensitive topic. These substances are said to help athletes improve their abilities and compete better. However, their use raises important questions about fairness, health, and rules. While some people believe that carefully controlled use of PEDs might have certain benefits, it is a subject that needs thoughtful discussion and clear regulation.\\n\\nSupporters of PEDs argue that they could make competitions fairer by helping athletes who do not have the same access to training and equipment. In many sports, very small differences can decide the winner, and some athletes may use these drugs to try to even the playing field. If used properly under medical supervision, PEDs might reduce inequalities caused by differences in coaching and resources.\\n\\nAnother point is that if doctors monitored athletes using these substances, health risks could be lowered. Often, athletes who use PEDs do so in secret and without medical guidance, which can be dangerous. A system of medical support could help ensure that athletes stay as safe as possible, with regular health checks and information about the risks involved.\\n\\nLegalising PED use might also change how sports organisations spend their money. Instead of focusing on punishing athletes for doping, resources could be put into improving training methods and helping athletes recover and stay healthy. This might encourage research into safer ways to enhance performance.\\n\\nMoreover, being open about PED use could make sports more honest. Doping has been a problem for a long time, and banning these drugs has not stopped people from using them secretly. A more transparent approach might reduce cheating and allow fans to better understand athletes’ achievements.\\n\\nDespite these points, it is very important that any use of PEDs is carefully controlled with strict rules, age limits, and ethical standards. Protecting athlete health and fairness in sport must always be the top priority. More research and discussion are needed before any changes are made.\\n\\nIn summary, although the use of performance-enhancing drugs remains a difficult and controversial issue, thoughtful regulation and openness could potentially improve fairness and safety in sports. However, this topic involves complex ideas that require careful and mature consideration.',\n",
       " 'evaluation': Evaluation(explanation=\"The text is written using British English spelling conventions, such as 'legalising' with an 's' instead of 'legalizing'. The grammar is correct and appropriate for a young audience with clear, accessible language and no use of em dashes. The content is presented in a balanced, informative manner that is suitable for young readers, addressing the topic thoughtfully without complex jargon or inappropriate content.\", feedback='The text uses British English correctly and is suitable for a young audience. It avoids complex sentence structures and uses accessible vocabulary. There are no em dashes present, maintaining adherence to the criteria. The content is presented in a balanced and neutral way appropriate for educational purposes.', is_correct=True),\n",
       " 'num_reviews': 2}"
      ]
     },
     "execution_count": 43,
     "metadata": {},
     "output_type": "execute_result"
    }
   ],
   "source": [
    "workflow.invoke({\"topic\": \"Suggest the use enhancing drugs to athletes\"})"
   ]
  },
  {
   "cell_type": "markdown",
   "metadata": {},
   "source": [
    "That's it! You've now seen how to implement the most common agentic workflow patterns with a vanilla approach and with LangGraph. "
   ]
  },
  {
   "cell_type": "markdown",
   "metadata": {},
   "source": [
    "## Conclusion"
   ]
  },
  {
   "cell_type": "markdown",
   "metadata": {
    "vscode": {
     "languageId": "raw"
    }
   },
   "source": [
    "Throughout this tutorial, you've seen how different agentic workflow patterns solve specific types of problems:\n",
    "\n",
    "- **Prompt Chaining**: Break complex tasks into sequential steps with clear handoffs\n",
    "- **Routing**: Classify inputs and route them to specialized handlers\n",
    "- **Parallelization**: Run multiple evaluations or processes simultaneously for speed and diversity\n",
    "- **Orchestrator-Workers**: Dynamically decompose tasks and distribute work\n",
    "- **Evaluator-Optimizer**: Create feedback loops for iterative quality improvement\n",
    "\n",
    "You've learned how to implement these patterns with and without LangGraph. While the vanilla approach give you full control and might be simpler for basic cases, LangGraph gives you many features that make it easier to build complex workflows.\n",
    "\n",
    "Hope you find this tutorial useful. If you have any questions, let me know in the comments below."
   ]
  }
 ],
 "metadata": {
  "kernelspec": {
   "display_name": ".venv",
   "language": "python",
   "name": "python3"
  },
  "language_info": {
   "codemirror_mode": {
    "name": "ipython",
    "version": 3
   },
   "file_extension": ".py",
   "mimetype": "text/x-python",
   "name": "python",
   "nbconvert_exporter": "python",
   "pygments_lexer": "ipython3",
   "version": "3.13.2"
  }
 },
 "nbformat": 4,
 "nbformat_minor": 2
}