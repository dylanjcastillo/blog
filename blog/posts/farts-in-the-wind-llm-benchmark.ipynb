{
 "cells": [
  {
   "cell_type": "markdown",
   "metadata": {},
   "source": [
    "---\n",
    "title: \"How many times did Ulysses fart in the Odyssey?\"\n",
    "date: \"01/05/2024\"\n",
    "date-modified: \"01/19/2024\"\n",
    "toc: true\n",
    "toc-depth: 2\n",
    "author-meta: \"Dylan Castillo\"\n",
    "description-meta: \"A benchmark of LLM performance based on the Odyssey and farts.\"\n",
    "date-meta: \"01/05/2024\"\n",
    "---"
   ]
  },
  {
   "cell_type": "markdown",
   "metadata": {},
   "source": [
    "The correct answer is two.\n",
    "\n",
    "Or, at least, that's the answer based on my modified version of the Odyssey."
   ]
  }
 ],
 "metadata": {
  "kernelspec": {
   "display_name": ".venv",
   "language": "python",
   "name": "python3"
  },
  "language_info": {
   "name": "python",
   "version": "3.10.4"
  }
 },
 "nbformat": 4,
 "nbformat_minor": 2
}
